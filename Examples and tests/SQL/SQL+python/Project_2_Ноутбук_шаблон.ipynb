{
  "cells": [
    {
      "cell_type": "markdown",
      "id": "42289889-bd57-434e-9637-d3e354756316",
      "metadata": {
        "id": "42289889-bd57-434e-9637-d3e354756316"
      },
      "source": [
        "<center> <img src = https://raw.githubusercontent.com/AndreyRysistov/DatasetsForPandas/main/hh%20label.jpg alt=\"drawing\" style=\"width:400px;\">"
      ]
    },
    {
      "cell_type": "markdown",
      "id": "829cb75b-f14e-4ba8-9195-7ba929a7d656",
      "metadata": {
        "id": "829cb75b-f14e-4ba8-9195-7ba929a7d656",
        "tags": []
      },
      "source": [
        "# <center> Проект: Анализ вакансий из HeadHunter\n",
        "   "
      ]
    },
    {
      "cell_type": "code",
      "execution_count": 11,
      "id": "dccfde33-2452-43fb-a8a5-5c6ebc02a71d",
      "metadata": {
        "id": "dccfde33-2452-43fb-a8a5-5c6ebc02a71d"
      },
      "outputs": [],
      "source": [
        "import pandas as pd\n",
        "import psycopg2\n",
        "import warnings\n",
        "\n",
        "warnings.filterwarnings('ignore')"
      ]
    },
    {
      "cell_type": "code",
      "execution_count": 12,
      "id": "oVKH4ehvf8Ay",
      "metadata": {
        "id": "oVKH4ehvf8Ay"
      },
      "outputs": [],
      "source": [
        "DBNAME = 'project_sql'\n",
        "USER = 'skillfactory'\n",
        "PASSWORD = 'cCkxxLVrDE8EbvjueeMedPKt'\n",
        "HOST = '84.201.134.129'\n",
        "PORT = 5432"
      ]
    },
    {
      "cell_type": "code",
      "execution_count": 13,
      "id": "G4X_q8KBf7SF",
      "metadata": {
        "id": "G4X_q8KBf7SF"
      },
      "outputs": [],
      "source": [
        "connection = psycopg2.connect(\n",
        "    dbname=DBNAME,\n",
        "    user=USER,\n",
        "    host=HOST,\n",
        "    password=PASSWORD,\n",
        "    port=PORT\n",
        ")"
      ]
    },
    {
      "cell_type": "markdown",
      "id": "0dc6476b-7a00-44f1-ac93-6e3baed33a29",
      "metadata": {
        "id": "0dc6476b-7a00-44f1-ac93-6e3baed33a29"
      },
      "source": [
        "# Юнит 3. Предварительный анализ данных"
      ]
    },
    {
      "cell_type": "markdown",
      "id": "889782b6-8d1c-410e-8920-e57f27917c64",
      "metadata": {
        "id": "889782b6-8d1c-410e-8920-e57f27917c64"
      },
      "source": [
        "1. Напишите запрос, который посчитает количество вакансий в нашей базе (вакансии находятся в таблице vacancies). "
      ]
    },
    {
      "cell_type": "code",
      "execution_count": 4,
      "id": "bc39e68e-ed02-4ee2-9235-7258a2f867a8",
      "metadata": {
        "id": "bc39e68e-ed02-4ee2-9235-7258a2f867a8"
      },
      "outputs": [],
      "source": [
        "# текст запроса\n",
        "\n",
        "query = f'''select * \n",
        "                from public.vacancies\n",
        "             '''\n",
        "vacancies = pd.read_sql_query(query, connection)"
      ]
    },
    {
      "cell_type": "code",
      "execution_count": 5,
      "id": "7mAwtsk4hEHY",
      "metadata": {
        "id": "7mAwtsk4hEHY"
      },
      "outputs": [
        {
          "data": {
            "text/plain": [
              "49197"
            ]
          },
          "execution_count": 5,
          "metadata": {},
          "output_type": "execute_result"
        }
      ],
      "source": [
        "vacancies.shape[0]"
      ]
    },
    {
      "cell_type": "markdown",
      "id": "b583485d-1f9e-494e-ada4-80ffff7c53d6",
      "metadata": {
        "id": "b583485d-1f9e-494e-ada4-80ffff7c53d6"
      },
      "source": [
        "2. Напишите запрос, который посчитает количество работодателей (таблица employers). "
      ]
    },
    {
      "cell_type": "code",
      "execution_count": 6,
      "id": "5408c52c-3407-4a63-b25b-1aafa2322d28",
      "metadata": {
        "id": "5408c52c-3407-4a63-b25b-1aafa2322d28"
      },
      "outputs": [],
      "source": [
        "query = f'''select * \n",
        "                from public.employers\n",
        "             '''\n",
        "employers = pd.read_sql_query(query, connection)"
      ]
    },
    {
      "cell_type": "code",
      "execution_count": 7,
      "id": "jVL4eshKhdqc",
      "metadata": {
        "id": "jVL4eshKhdqc"
      },
      "outputs": [
        {
          "data": {
            "text/plain": [
              "23501"
            ]
          },
          "execution_count": 7,
          "metadata": {},
          "output_type": "execute_result"
        }
      ],
      "source": [
        "employers.shape[0]"
      ]
    },
    {
      "cell_type": "markdown",
      "id": "a2bfff1f-c975-4bf6-84be-2185d79dcb76",
      "metadata": {
        "id": "a2bfff1f-c975-4bf6-84be-2185d79dcb76"
      },
      "source": [
        "3. Посчитате с помощью запроса количество регионов (таблица areas)."
      ]
    },
    {
      "cell_type": "code",
      "execution_count": 8,
      "id": "1m8QJwBYhey6",
      "metadata": {
        "id": "1m8QJwBYhey6"
      },
      "outputs": [],
      "source": [
        "query = f'''select * \n",
        "                from public.areas\n",
        "             '''\n",
        "areas = pd.read_sql_query(query, connection)"
      ]
    },
    {
      "cell_type": "code",
      "execution_count": 9,
      "id": "EZsn9tlfhe7f",
      "metadata": {
        "id": "EZsn9tlfhe7f"
      },
      "outputs": [
        {
          "data": {
            "text/plain": [
              "1362"
            ]
          },
          "execution_count": 9,
          "metadata": {},
          "output_type": "execute_result"
        }
      ],
      "source": [
        "areas.shape[0]"
      ]
    },
    {
      "cell_type": "markdown",
      "id": "41bb59f3-53cc-4a67-a5bc-bedf573955e4",
      "metadata": {
        "id": "41bb59f3-53cc-4a67-a5bc-bedf573955e4"
      },
      "source": [
        "4. Посчитате с помощью запроса количество сфер деятельности в базе (таблица industries)."
      ]
    },
    {
      "cell_type": "code",
      "execution_count": 10,
      "id": "d286cf4c-707b-4cd2-9190-7ab3587d04a1",
      "metadata": {
        "id": "d286cf4c-707b-4cd2-9190-7ab3587d04a1"
      },
      "outputs": [],
      "source": [
        "query = f'''select * \n",
        "                from public.industries\n",
        "             '''\n",
        "industries = pd.read_sql_query(query, connection)"
      ]
    },
    {
      "cell_type": "code",
      "execution_count": 11,
      "id": "JYAaoZ4qhfzW",
      "metadata": {
        "id": "JYAaoZ4qhfzW"
      },
      "outputs": [
        {
          "data": {
            "text/plain": [
              "294"
            ]
          },
          "execution_count": 11,
          "metadata": {},
          "output_type": "execute_result"
        }
      ],
      "source": [
        "industries.shape[0]"
      ]
    },
    {
      "attachments": {},
      "cell_type": "markdown",
      "id": "17fae545",
      "metadata": {},
      "source": [
        "В базе данных присутствуют 49197 от 23501 работодателей по 1362 регионам и 294 специальностям.\n",
        "\n",
        "В среднем, каждый работодатель выкладывает чуть больше чем две вакансии."
      ]
    },
    {
      "cell_type": "markdown",
      "id": "8d62a9f3-f64e-4fe7-bdac-c4dffa16155e",
      "metadata": {
        "id": "8d62a9f3-f64e-4fe7-bdac-c4dffa16155e"
      },
      "source": [
        "# Юнит 4. Детальный анализ вакансий"
      ]
    },
    {
      "cell_type": "markdown",
      "id": "93053d3d-b284-481a-9cf7-012d7014c0e0",
      "metadata": {
        "id": "93053d3d-b284-481a-9cf7-012d7014c0e0"
      },
      "source": [
        "1. Напишите запрос, который позволит узнать, сколько (cnt) вакансий в каждом регионе (area).\n",
        "Отсортируйте по количеству вакансий в порядке убывания."
      ]
    },
    {
      "cell_type": "code",
      "execution_count": 12,
      "id": "3f069da6-fdc9-4ae7-b514-fafe2675efd3",
      "metadata": {
        "id": "3f069da6-fdc9-4ae7-b514-fafe2675efd3"
      },
      "outputs": [],
      "source": [
        "query = f'''select a.name areas, count(area_id) cnt\n",
        "            from public.vacancies v\n",
        "            join public.areas a on a.id = area_id\n",
        "            group by areas\n",
        "            order by cnt desc\n",
        "        '''\n",
        "cnt_vacancies = pd.read_sql_query(query, connection)"
      ]
    },
    {
      "cell_type": "code",
      "execution_count": 13,
      "id": "P7QL86hrjhRJ",
      "metadata": {
        "id": "P7QL86hrjhRJ"
      },
      "outputs": [
        {
          "data": {
            "text/html": [
              "<div>\n",
              "<style scoped>\n",
              "    .dataframe tbody tr th:only-of-type {\n",
              "        vertical-align: middle;\n",
              "    }\n",
              "\n",
              "    .dataframe tbody tr th {\n",
              "        vertical-align: top;\n",
              "    }\n",
              "\n",
              "    .dataframe thead th {\n",
              "        text-align: right;\n",
              "    }\n",
              "</style>\n",
              "<table border=\"1\" class=\"dataframe\">\n",
              "  <thead>\n",
              "    <tr style=\"text-align: right;\">\n",
              "      <th></th>\n",
              "      <th>areas</th>\n",
              "      <th>cnt</th>\n",
              "    </tr>\n",
              "  </thead>\n",
              "  <tbody>\n",
              "    <tr>\n",
              "      <th>0</th>\n",
              "      <td>Москва</td>\n",
              "      <td>5333</td>\n",
              "    </tr>\n",
              "    <tr>\n",
              "      <th>1</th>\n",
              "      <td>Санкт-Петербург</td>\n",
              "      <td>2851</td>\n",
              "    </tr>\n",
              "    <tr>\n",
              "      <th>2</th>\n",
              "      <td>Минск</td>\n",
              "      <td>2112</td>\n",
              "    </tr>\n",
              "    <tr>\n",
              "      <th>3</th>\n",
              "      <td>Новосибирск</td>\n",
              "      <td>2006</td>\n",
              "    </tr>\n",
              "    <tr>\n",
              "      <th>4</th>\n",
              "      <td>Алматы</td>\n",
              "      <td>1892</td>\n",
              "    </tr>\n",
              "    <tr>\n",
              "      <th>5</th>\n",
              "      <td>Екатеринбург</td>\n",
              "      <td>1698</td>\n",
              "    </tr>\n",
              "    <tr>\n",
              "      <th>6</th>\n",
              "      <td>Нижний Новгород</td>\n",
              "      <td>1670</td>\n",
              "    </tr>\n",
              "    <tr>\n",
              "      <th>7</th>\n",
              "      <td>Казань</td>\n",
              "      <td>1415</td>\n",
              "    </tr>\n",
              "    <tr>\n",
              "      <th>8</th>\n",
              "      <td>Краснодар</td>\n",
              "      <td>1301</td>\n",
              "    </tr>\n",
              "    <tr>\n",
              "      <th>9</th>\n",
              "      <td>Самара</td>\n",
              "      <td>1144</td>\n",
              "    </tr>\n",
              "    <tr>\n",
              "      <th>10</th>\n",
              "      <td>Ростов-на-Дону</td>\n",
              "      <td>1131</td>\n",
              "    </tr>\n",
              "    <tr>\n",
              "      <th>11</th>\n",
              "      <td>Воронеж</td>\n",
              "      <td>1063</td>\n",
              "    </tr>\n",
              "    <tr>\n",
              "      <th>12</th>\n",
              "      <td>Ташкент</td>\n",
              "      <td>851</td>\n",
              "    </tr>\n",
              "    <tr>\n",
              "      <th>13</th>\n",
              "      <td>Красноярск</td>\n",
              "      <td>847</td>\n",
              "    </tr>\n",
              "    <tr>\n",
              "      <th>14</th>\n",
              "      <td>Нур-Султан</td>\n",
              "      <td>840</td>\n",
              "    </tr>\n",
              "  </tbody>\n",
              "</table>\n",
              "</div>"
            ],
            "text/plain": [
              "              areas   cnt\n",
              "0            Москва  5333\n",
              "1   Санкт-Петербург  2851\n",
              "2             Минск  2112\n",
              "3       Новосибирск  2006\n",
              "4            Алматы  1892\n",
              "5      Екатеринбург  1698\n",
              "6   Нижний Новгород  1670\n",
              "7            Казань  1415\n",
              "8         Краснодар  1301\n",
              "9            Самара  1144\n",
              "10   Ростов-на-Дону  1131\n",
              "11          Воронеж  1063\n",
              "12          Ташкент   851\n",
              "13       Красноярск   847\n",
              "14       Нур-Султан   840"
            ]
          },
          "execution_count": 13,
          "metadata": {},
          "output_type": "execute_result"
        }
      ],
      "source": [
        "cnt_vacancies.head(15)"
      ]
    },
    {
      "cell_type": "markdown",
      "id": "4266f0b6-1646-492a-88b4-2f6a46502135",
      "metadata": {
        "id": "4266f0b6-1646-492a-88b4-2f6a46502135"
      },
      "source": [
        "2. Напишите запрос, чтобы определить у какого количества вакансий заполнено хотя бы одно из двух полей с зарплатой."
      ]
    },
    {
      "cell_type": "code",
      "execution_count": 14,
      "id": "0c44b350-72eb-4d65-8b54-a1fc449ba9fd",
      "metadata": {
        "id": "0c44b350-72eb-4d65-8b54-a1fc449ba9fd"
      },
      "outputs": [],
      "source": [
        "query = f'''select count(id) cnt\n",
        "            from public.vacancies\n",
        "            where salary_from is not null or salary_to is not null\n",
        "\n",
        "        '''\n",
        "cnt_salary_not_null = pd.read_sql_query(query, connection)"
      ]
    },
    {
      "cell_type": "code",
      "execution_count": 15,
      "id": "rhvwaMDkoWTi",
      "metadata": {
        "id": "rhvwaMDkoWTi"
      },
      "outputs": [
        {
          "data": {
            "text/plain": [
              "24073"
            ]
          },
          "execution_count": 15,
          "metadata": {},
          "output_type": "execute_result"
        }
      ],
      "source": [
        "int(cnt_salary_not_null.loc[0])"
      ]
    },
    {
      "cell_type": "markdown",
      "id": "635c4d5d-f323-4c66-b428-50a088120aa0",
      "metadata": {
        "id": "635c4d5d-f323-4c66-b428-50a088120aa0"
      },
      "source": [
        "3. Найдите средние значения для нижней и верхней границы зарплатной вилки. Округлите значения до целого."
      ]
    },
    {
      "cell_type": "code",
      "execution_count": 16,
      "id": "603cdbe4-0ec3-4106-8eaf-c73fcdd29165",
      "metadata": {
        "id": "603cdbe4-0ec3-4106-8eaf-c73fcdd29165"
      },
      "outputs": [],
      "source": [
        "query = f'''select avg(salary_from) salary_from, avg(salary_to) salary_to\n",
        "            from public.vacancies\n",
        "\n",
        "\n",
        "        '''\n",
        "salary_difference = pd.read_sql_query(query, connection)"
      ]
    },
    {
      "cell_type": "code",
      "execution_count": 17,
      "id": "pswpAb66ovZZ",
      "metadata": {
        "id": "pswpAb66ovZZ"
      },
      "outputs": [
        {
          "data": {
            "text/plain": [
              "71065"
            ]
          },
          "metadata": {},
          "output_type": "display_data"
        },
        {
          "data": {
            "text/plain": [
              "110537"
            ]
          },
          "execution_count": 17,
          "metadata": {},
          "output_type": "execute_result"
        }
      ],
      "source": [
        "salary_from_arg = round(float(salary_difference.iloc[:,0]))\n",
        "salary_to_arg = round(float(salary_difference.iloc[:,1]))\n",
        "display(salary_from_arg)\n",
        "salary_to_arg"
      ]
    },
    {
      "cell_type": "markdown",
      "id": "f3fdaec9-5fd3-4260-9cf5-1d7406b628a5",
      "metadata": {
        "id": "f3fdaec9-5fd3-4260-9cf5-1d7406b628a5"
      },
      "source": [
        "4. Напишите запрос, который выведет количество вакансий для каждого сочетания типа рабочего графика (schedule) и типа трудоустройства (employment), используемого в вакансиях. Результат отсортируйте по убыванию количества.\n"
      ]
    },
    {
      "cell_type": "code",
      "execution_count": 18,
      "id": "1ea710ec-871b-431e-9462-c7d0fd87011b",
      "metadata": {
        "id": "1ea710ec-871b-431e-9462-c7d0fd87011b"
      },
      "outputs": [],
      "source": [
        "query = f'''select schedule, employment, count(id)\n",
        "            from public.vacancies\n",
        "            group by employment, schedule\n",
        "            order by count(id) desc\n",
        "\n",
        "        '''\n",
        "schedule_employment = pd.read_sql_query(query, connection)"
      ]
    },
    {
      "cell_type": "code",
      "execution_count": 19,
      "id": "lGUVqavdo4JQ",
      "metadata": {
        "id": "lGUVqavdo4JQ"
      },
      "outputs": [
        {
          "data": {
            "text/html": [
              "<div>\n",
              "<style scoped>\n",
              "    .dataframe tbody tr th:only-of-type {\n",
              "        vertical-align: middle;\n",
              "    }\n",
              "\n",
              "    .dataframe tbody tr th {\n",
              "        vertical-align: top;\n",
              "    }\n",
              "\n",
              "    .dataframe thead th {\n",
              "        text-align: right;\n",
              "    }\n",
              "</style>\n",
              "<table border=\"1\" class=\"dataframe\">\n",
              "  <thead>\n",
              "    <tr style=\"text-align: right;\">\n",
              "      <th></th>\n",
              "      <th>schedule</th>\n",
              "      <th>employment</th>\n",
              "      <th>count</th>\n",
              "    </tr>\n",
              "  </thead>\n",
              "  <tbody>\n",
              "    <tr>\n",
              "      <th>0</th>\n",
              "      <td>Полный день</td>\n",
              "      <td>Полная занятость</td>\n",
              "      <td>35367</td>\n",
              "    </tr>\n",
              "    <tr>\n",
              "      <th>1</th>\n",
              "      <td>Удаленная работа</td>\n",
              "      <td>Полная занятость</td>\n",
              "      <td>7802</td>\n",
              "    </tr>\n",
              "    <tr>\n",
              "      <th>2</th>\n",
              "      <td>Гибкий график</td>\n",
              "      <td>Полная занятость</td>\n",
              "      <td>1593</td>\n",
              "    </tr>\n",
              "    <tr>\n",
              "      <th>3</th>\n",
              "      <td>Удаленная работа</td>\n",
              "      <td>Частичная занятость</td>\n",
              "      <td>1312</td>\n",
              "    </tr>\n",
              "    <tr>\n",
              "      <th>4</th>\n",
              "      <td>Сменный график</td>\n",
              "      <td>Полная занятость</td>\n",
              "      <td>940</td>\n",
              "    </tr>\n",
              "    <tr>\n",
              "      <th>5</th>\n",
              "      <td>Полный день</td>\n",
              "      <td>Стажировка</td>\n",
              "      <td>569</td>\n",
              "    </tr>\n",
              "    <tr>\n",
              "      <th>6</th>\n",
              "      <td>Вахтовый метод</td>\n",
              "      <td>Полная занятость</td>\n",
              "      <td>367</td>\n",
              "    </tr>\n",
              "    <tr>\n",
              "      <th>7</th>\n",
              "      <td>Полный день</td>\n",
              "      <td>Частичная занятость</td>\n",
              "      <td>347</td>\n",
              "    </tr>\n",
              "    <tr>\n",
              "      <th>8</th>\n",
              "      <td>Гибкий график</td>\n",
              "      <td>Частичная занятость</td>\n",
              "      <td>312</td>\n",
              "    </tr>\n",
              "    <tr>\n",
              "      <th>9</th>\n",
              "      <td>Полный день</td>\n",
              "      <td>Проектная работа</td>\n",
              "      <td>141</td>\n",
              "    </tr>\n",
              "    <tr>\n",
              "      <th>10</th>\n",
              "      <td>Удаленная работа</td>\n",
              "      <td>Проектная работа</td>\n",
              "      <td>133</td>\n",
              "    </tr>\n",
              "    <tr>\n",
              "      <th>11</th>\n",
              "      <td>Гибкий график</td>\n",
              "      <td>Стажировка</td>\n",
              "      <td>116</td>\n",
              "    </tr>\n",
              "    <tr>\n",
              "      <th>12</th>\n",
              "      <td>Сменный график</td>\n",
              "      <td>Частичная занятость</td>\n",
              "      <td>101</td>\n",
              "    </tr>\n",
              "    <tr>\n",
              "      <th>13</th>\n",
              "      <td>Удаленная работа</td>\n",
              "      <td>Стажировка</td>\n",
              "      <td>64</td>\n",
              "    </tr>\n",
              "    <tr>\n",
              "      <th>14</th>\n",
              "      <td>Гибкий график</td>\n",
              "      <td>Проектная работа</td>\n",
              "      <td>18</td>\n",
              "    </tr>\n",
              "    <tr>\n",
              "      <th>15</th>\n",
              "      <td>Сменный график</td>\n",
              "      <td>Стажировка</td>\n",
              "      <td>12</td>\n",
              "    </tr>\n",
              "    <tr>\n",
              "      <th>16</th>\n",
              "      <td>Вахтовый метод</td>\n",
              "      <td>Проектная работа</td>\n",
              "      <td>2</td>\n",
              "    </tr>\n",
              "    <tr>\n",
              "      <th>17</th>\n",
              "      <td>Сменный график</td>\n",
              "      <td>Проектная работа</td>\n",
              "      <td>1</td>\n",
              "    </tr>\n",
              "  </tbody>\n",
              "</table>\n",
              "</div>"
            ],
            "text/plain": [
              "            schedule           employment  count\n",
              "0        Полный день     Полная занятость  35367\n",
              "1   Удаленная работа     Полная занятость   7802\n",
              "2      Гибкий график     Полная занятость   1593\n",
              "3   Удаленная работа  Частичная занятость   1312\n",
              "4     Сменный график     Полная занятость    940\n",
              "5        Полный день           Стажировка    569\n",
              "6     Вахтовый метод     Полная занятость    367\n",
              "7        Полный день  Частичная занятость    347\n",
              "8      Гибкий график  Частичная занятость    312\n",
              "9        Полный день     Проектная работа    141\n",
              "10  Удаленная работа     Проектная работа    133\n",
              "11     Гибкий график           Стажировка    116\n",
              "12    Сменный график  Частичная занятость    101\n",
              "13  Удаленная работа           Стажировка     64\n",
              "14     Гибкий график     Проектная работа     18\n",
              "15    Сменный график           Стажировка     12\n",
              "16    Вахтовый метод     Проектная работа      2\n",
              "17    Сменный график     Проектная работа      1"
            ]
          },
          "execution_count": 19,
          "metadata": {},
          "output_type": "execute_result"
        }
      ],
      "source": [
        "schedule_employment"
      ]
    },
    {
      "cell_type": "markdown",
      "id": "0136ffee-0ead-4a6b-b608-61d1c753a438",
      "metadata": {
        "id": "0136ffee-0ead-4a6b-b608-61d1c753a438"
      },
      "source": [
        "5. Напишите запрос, выводящий значения поля Требуемый опыт работы (experience) в порядке возрастания количества вакансий, в которых указан данный вариант опыта. "
      ]
    },
    {
      "cell_type": "code",
      "execution_count": 20,
      "id": "5b3a8e79-f7ab-4008-b767-12aea3a205ea",
      "metadata": {
        "id": "5b3a8e79-f7ab-4008-b767-12aea3a205ea"
      },
      "outputs": [],
      "source": [
        "query = f'''select experience, count(id)\n",
        "            from public.vacancies\n",
        "            group by experience\n",
        "            order by count(id)\n",
        "\n",
        "        '''\n",
        "experience_cnt = pd.read_sql_query(query, connection)"
      ]
    },
    {
      "cell_type": "code",
      "execution_count": 21,
      "id": "3Is64Y-hpDpq",
      "metadata": {
        "id": "3Is64Y-hpDpq"
      },
      "outputs": [
        {
          "data": {
            "text/html": [
              "<div>\n",
              "<style scoped>\n",
              "    .dataframe tbody tr th:only-of-type {\n",
              "        vertical-align: middle;\n",
              "    }\n",
              "\n",
              "    .dataframe tbody tr th {\n",
              "        vertical-align: top;\n",
              "    }\n",
              "\n",
              "    .dataframe thead th {\n",
              "        text-align: right;\n",
              "    }\n",
              "</style>\n",
              "<table border=\"1\" class=\"dataframe\">\n",
              "  <thead>\n",
              "    <tr style=\"text-align: right;\">\n",
              "      <th></th>\n",
              "      <th>experience</th>\n",
              "      <th>count</th>\n",
              "    </tr>\n",
              "  </thead>\n",
              "  <tbody>\n",
              "    <tr>\n",
              "      <th>0</th>\n",
              "      <td>Более 6 лет</td>\n",
              "      <td>1337</td>\n",
              "    </tr>\n",
              "    <tr>\n",
              "      <th>1</th>\n",
              "      <td>Нет опыта</td>\n",
              "      <td>7197</td>\n",
              "    </tr>\n",
              "    <tr>\n",
              "      <th>2</th>\n",
              "      <td>От 3 до 6 лет</td>\n",
              "      <td>14511</td>\n",
              "    </tr>\n",
              "    <tr>\n",
              "      <th>3</th>\n",
              "      <td>От 1 года до 3 лет</td>\n",
              "      <td>26152</td>\n",
              "    </tr>\n",
              "  </tbody>\n",
              "</table>\n",
              "</div>"
            ],
            "text/plain": [
              "           experience  count\n",
              "0         Более 6 лет   1337\n",
              "1           Нет опыта   7197\n",
              "2       От 3 до 6 лет  14511\n",
              "3  От 1 года до 3 лет  26152"
            ]
          },
          "execution_count": 21,
          "metadata": {},
          "output_type": "execute_result"
        }
      ],
      "source": [
        "experience_cnt"
      ]
    },
    {
      "cell_type": "markdown",
      "id": "oq2b7n1QpIka",
      "metadata": {
        "id": "oq2b7n1QpIka"
      },
      "source": [
        "***"
      ]
    },
    {
      "attachments": {},
      "cell_type": "markdown",
      "id": "b8239839",
      "metadata": {},
      "source": [
        "Самое большое количество вакансий располагается в столицах и городах. Москве 5333, Санкт-Петербург 2851, Минск 2112, Новосибирск 2006, Алматы 1892\n",
        "\n",
        "Из 49197 вакансий только у 24073 заполнено хотя бы одно из двух полей с зарплатой. Меньше половины работодателей предпочитают указывать ЗП. Нижняя граница средней зарплаты 71065. Верхняя граница средней зарплаты 110537.\n",
        "\n",
        "Напишите запрос, который выведет количество вакансий для каждого сочетания типа рабочего графика (schedule) и типа трудоустройства (employment), используемого в вакансиях.\n",
        "\n",
        "Абсолютное большинство из 49197 вакансий это полная занятость и полный рабочий день (35367 вакансий) либо полная занятость удаленная работа (7802 вакансий). Все остальные варианты сочетаний типов трудоустройства и типов рабочего графика встречаются во много раз реже.\n",
        "\n",
        "Требуемый опыт работы (experience) в порядке возрастания количества вакансий\n",
        "Чаще всего работодатели ищут специалистов с небольшим опытом работы, от 1 до 3 лет, 26152 вакансий.  На втором месте вакансии с требованием опыта работы от 3 до 6 лет 14511 вакансий. Следующими по количеству стоят вакансии без требований к опыту работы 7197. Их 3,63 раза меньше чем специалистов с опытом работы от 1 года. На последнем месте в плане распространенности специалисты с опытом работы от 6 лет."
      ]
    },
    {
      "cell_type": "markdown",
      "id": "7ea20ab6-04a7-40a0-adec-443a0e5a42c3",
      "metadata": {
        "id": "7ea20ab6-04a7-40a0-adec-443a0e5a42c3"
      },
      "source": [
        "# Юнит 5. Анализ работодателей"
      ]
    },
    {
      "cell_type": "markdown",
      "id": "968aed80-74ef-4ffb-b5bf-c65b84e9caea",
      "metadata": {
        "id": "968aed80-74ef-4ffb-b5bf-c65b84e9caea"
      },
      "source": [
        "1. Напишите запрос, который позволит узнать, какие работодатели находятся на первом и пятом месте по количеству вакансий."
      ]
    },
    {
      "cell_type": "code",
      "execution_count": 22,
      "id": "f2d62796-d400-4ec1-a675-88112739a50e",
      "metadata": {
        "id": "f2d62796-d400-4ec1-a675-88112739a50e"
      },
      "outputs": [],
      "source": [
        "query = f'''(select e.name , count(v.id) count_\n",
        "            from public.vacancies v\n",
        "            join public.employers e on v.employer_id = e.id\n",
        "            group by e.name\n",
        "            order by count(v.id) desc\n",
        "            limit 1)\n",
        "\n",
        "            union\n",
        "\n",
        "            (select e.name, count(v.id)\n",
        "            from public.vacancies v\n",
        "                join public.employers e on v.employer_id = e.id\n",
        "            group by e.name\n",
        "            order by count(v.id) desc\n",
        "            offset 4 limit 1)\n",
        "            order by count_ desc\n",
        "        '''\n",
        "employers_count = pd.read_sql_query(query, connection)"
      ]
    },
    {
      "cell_type": "code",
      "execution_count": 23,
      "id": "64tOMkAxqkQk",
      "metadata": {
        "id": "64tOMkAxqkQk"
      },
      "outputs": [
        {
          "data": {
            "text/html": [
              "<div>\n",
              "<style scoped>\n",
              "    .dataframe tbody tr th:only-of-type {\n",
              "        vertical-align: middle;\n",
              "    }\n",
              "\n",
              "    .dataframe tbody tr th {\n",
              "        vertical-align: top;\n",
              "    }\n",
              "\n",
              "    .dataframe thead th {\n",
              "        text-align: right;\n",
              "    }\n",
              "</style>\n",
              "<table border=\"1\" class=\"dataframe\">\n",
              "  <thead>\n",
              "    <tr style=\"text-align: right;\">\n",
              "      <th></th>\n",
              "      <th>name</th>\n",
              "      <th>count_</th>\n",
              "    </tr>\n",
              "  </thead>\n",
              "  <tbody>\n",
              "    <tr>\n",
              "      <th>0</th>\n",
              "      <td>Яндекс</td>\n",
              "      <td>1933</td>\n",
              "    </tr>\n",
              "    <tr>\n",
              "      <th>1</th>\n",
              "      <td>Газпром нефть</td>\n",
              "      <td>331</td>\n",
              "    </tr>\n",
              "  </tbody>\n",
              "</table>\n",
              "</div>"
            ],
            "text/plain": [
              "            name  count_\n",
              "0         Яндекс    1933\n",
              "1  Газпром нефть     331"
            ]
          },
          "execution_count": 23,
          "metadata": {},
          "output_type": "execute_result"
        }
      ],
      "source": [
        "employers_count"
      ]
    },
    {
      "cell_type": "markdown",
      "id": "68377cfc-b378-43dc-ab7d-1195abf2c515",
      "metadata": {
        "id": "68377cfc-b378-43dc-ab7d-1195abf2c515"
      },
      "source": [
        "2. Напишите запрос, который для каждого региона выведет количество работодателей и вакансий в нём.\n",
        "Среди регионов, в которых нет вакансий, найдите тот, в котором наибольшее количество работодателей.\n"
      ]
    },
    {
      "cell_type": "code",
      "execution_count": 15,
      "id": "dd7df27a-e3e8-412e-a21a-5d389b71e891",
      "metadata": {
        "id": "dd7df27a-e3e8-412e-a21a-5d389b71e891"
      },
      "outputs": [],
      "source": [
        "query = f'''select distinct a.name, count(distinct e.id) count_employers, count(v.id) count_vacancies\n",
        "            from public.areas a\n",
        "                left join public.employers e on e.area = a.id\n",
        "                left join public.vacancies v on v.area_id = a.id\n",
        "            group by a.name\n",
        "            order by count_vacancies, count_employers desc\n",
        "        '''\n",
        "zero_employers_count = pd.read_sql_query(query, connection)"
      ]
    },
    {
      "cell_type": "code",
      "execution_count": 25,
      "id": "x1ikWbydrbf6",
      "metadata": {
        "id": "x1ikWbydrbf6"
      },
      "outputs": [
        {
          "data": {
            "text/plain": [
              "'Россия'"
            ]
          },
          "execution_count": 25,
          "metadata": {},
          "output_type": "execute_result"
        }
      ],
      "source": [
        "zero_employers_count.iloc[0,0]"
      ]
    },
    {
      "cell_type": "markdown",
      "id": "f2fe0acb-ab1a-4e15-9326-2560e22d73c1",
      "metadata": {
        "id": "f2fe0acb-ab1a-4e15-9326-2560e22d73c1"
      },
      "source": [
        "3. Для каждого работодателя посчитайте количество регионов, в которых он публикует свои вакансии. Отсортируйте результат по убыванию количества.\n"
      ]
    },
    {
      "cell_type": "code",
      "execution_count": 26,
      "id": "6798f4d4",
      "metadata": {},
      "outputs": [],
      "source": [
        "query = f'''select e.name, count(distinct v.area_id) \n",
        "            from public.employers e\n",
        "                left join public.vacancies v on v.employer_id = e.id\n",
        "            group by e.name \n",
        "            order by count(v.area_id) desc\n",
        "\n",
        "        '''\n",
        "employers_vac_cnt = pd.read_sql_query(query, connection)"
      ]
    },
    {
      "cell_type": "code",
      "execution_count": 27,
      "id": "6271f8ad-bd2e-4196-ae4a-5b39c4c1010e",
      "metadata": {
        "id": "6271f8ad-bd2e-4196-ae4a-5b39c4c1010e"
      },
      "outputs": [
        {
          "data": {
            "text/html": [
              "<div>\n",
              "<style scoped>\n",
              "    .dataframe tbody tr th:only-of-type {\n",
              "        vertical-align: middle;\n",
              "    }\n",
              "\n",
              "    .dataframe tbody tr th {\n",
              "        vertical-align: top;\n",
              "    }\n",
              "\n",
              "    .dataframe thead th {\n",
              "        text-align: right;\n",
              "    }\n",
              "</style>\n",
              "<table border=\"1\" class=\"dataframe\">\n",
              "  <thead>\n",
              "    <tr style=\"text-align: right;\">\n",
              "      <th></th>\n",
              "      <th>name</th>\n",
              "      <th>count</th>\n",
              "    </tr>\n",
              "  </thead>\n",
              "  <tbody>\n",
              "    <tr>\n",
              "      <th>0</th>\n",
              "      <td>Яндекс</td>\n",
              "      <td>181</td>\n",
              "    </tr>\n",
              "    <tr>\n",
              "      <th>1</th>\n",
              "      <td>Ростелеком</td>\n",
              "      <td>152</td>\n",
              "    </tr>\n",
              "    <tr>\n",
              "      <th>2</th>\n",
              "      <td>Тинькофф</td>\n",
              "      <td>43</td>\n",
              "    </tr>\n",
              "    <tr>\n",
              "      <th>3</th>\n",
              "      <td>СБЕР</td>\n",
              "      <td>24</td>\n",
              "    </tr>\n",
              "    <tr>\n",
              "      <th>4</th>\n",
              "      <td>Газпром нефть</td>\n",
              "      <td>24</td>\n",
              "    </tr>\n",
              "    <tr>\n",
              "      <th>...</th>\n",
              "      <td>...</td>\n",
              "      <td>...</td>\n",
              "    </tr>\n",
              "    <tr>\n",
              "      <th>23170</th>\n",
              "      <td>Независимое агентство Аналитика товарных рынков</td>\n",
              "      <td>0</td>\n",
              "    </tr>\n",
              "    <tr>\n",
              "      <th>23171</th>\n",
              "      <td>Независимое Информационное Агентство</td>\n",
              "      <td>0</td>\n",
              "    </tr>\n",
              "    <tr>\n",
              "      <th>23172</th>\n",
              "      <td>Независимое телевидение Севастополя</td>\n",
              "      <td>0</td>\n",
              "    </tr>\n",
              "    <tr>\n",
              "      <th>23173</th>\n",
              "      <td>Независимость</td>\n",
              "      <td>0</td>\n",
              "    </tr>\n",
              "    <tr>\n",
              "      <th>23174</th>\n",
              "      <td>ICNX</td>\n",
              "      <td>0</td>\n",
              "    </tr>\n",
              "  </tbody>\n",
              "</table>\n",
              "<p>23175 rows × 2 columns</p>\n",
              "</div>"
            ],
            "text/plain": [
              "                                                  name  count\n",
              "0                                               Яндекс    181\n",
              "1                                           Ростелеком    152\n",
              "2                                             Тинькофф     43\n",
              "3                                                 СБЕР     24\n",
              "4                                        Газпром нефть     24\n",
              "...                                                ...    ...\n",
              "23170  Независимое агентство Аналитика товарных рынков      0\n",
              "23171             Независимое Информационное Агентство      0\n",
              "23172              Независимое телевидение Севастополя      0\n",
              "23173                                    Независимость      0\n",
              "23174                                             ICNX      0\n",
              "\n",
              "[23175 rows x 2 columns]"
            ]
          },
          "execution_count": 27,
          "metadata": {},
          "output_type": "execute_result"
        }
      ],
      "source": [
        "employers_vac_cnt"
      ]
    },
    {
      "cell_type": "markdown",
      "id": "eab2206d-d95b-468b-8e5f-34381abf0ce7",
      "metadata": {
        "id": "eab2206d-d95b-468b-8e5f-34381abf0ce7"
      },
      "source": [
        "4. Напишите запрос для подсчёта количества работодателей, у которых не указана сфера деятельности. "
      ]
    },
    {
      "cell_type": "code",
      "execution_count": 28,
      "id": "80defb23-bfb1-4a18-8be6-bf36aa7165d5",
      "metadata": {
        "id": "80defb23-bfb1-4a18-8be6-bf36aa7165d5"
      },
      "outputs": [],
      "source": [
        "query = f'''select count(distinct e.id)\n",
        "            from public.employers e\n",
        "            left join public.EMPLOYERS_INDUSTRIES ei on e.id = ei.employer_id\n",
        "            where ei.employer_id is null\n",
        "        '''\n",
        "empl_ind_null_cnt = pd.read_sql_query(query, connection)"
      ]
    },
    {
      "cell_type": "code",
      "execution_count": 29,
      "id": "Dp_yCx6ysQSu",
      "metadata": {
        "id": "Dp_yCx6ysQSu"
      },
      "outputs": [
        {
          "data": {
            "text/plain": [
              "8419"
            ]
          },
          "execution_count": 29,
          "metadata": {},
          "output_type": "execute_result"
        }
      ],
      "source": [
        "int(empl_ind_null_cnt.iloc[0,0])"
      ]
    },
    {
      "cell_type": "markdown",
      "id": "0112af31-f6b0-4e3b-82ab-71296e752e5e",
      "metadata": {
        "id": "0112af31-f6b0-4e3b-82ab-71296e752e5e"
      },
      "source": [
        "5. Напишите запрос, чтобы узнать название компании, находящейся на третьем месте в алфавитном списке (по названию) компаний, у которых указано четыре сферы деятельности. "
      ]
    },
    {
      "cell_type": "code",
      "execution_count": 30,
      "id": "973b0cfc-a972-470a-8b4a-68744ef220c4",
      "metadata": {
        "id": "973b0cfc-a972-470a-8b4a-68744ef220c4"
      },
      "outputs": [],
      "source": [
        "query = f'''select e.name, count(distinct ei.industry_id)\n",
        "            from public.employers e\n",
        "                left join public.EMPLOYERS_INDUSTRIES ei on e.id = ei.employer_id\n",
        "            group by e.name\n",
        "            having count(distinct ei.industry_id) =4\n",
        "            order by e.name\n",
        "            offset 2 limit 1\n",
        "        '''\n",
        "empl_ind_cnt_4 = pd.read_sql_query(query, connection)"
      ]
    },
    {
      "cell_type": "code",
      "execution_count": 31,
      "id": "xsPtpp8EsaED",
      "metadata": {
        "id": "xsPtpp8EsaED"
      },
      "outputs": [
        {
          "data": {
            "text/plain": [
              "'2ГИС'"
            ]
          },
          "execution_count": 31,
          "metadata": {},
          "output_type": "execute_result"
        }
      ],
      "source": [
        "empl_ind_cnt_4.iloc[0,0]"
      ]
    },
    {
      "cell_type": "markdown",
      "id": "3bfcfdaf-755d-4d2b-8ed8-326201dc07ab",
      "metadata": {
        "id": "3bfcfdaf-755d-4d2b-8ed8-326201dc07ab"
      },
      "source": [
        "6. С помощью запроса выясните, у какого количества работодателей в качестве сферы деятельности указана Разработка программного обеспечения.\n"
      ]
    },
    {
      "cell_type": "code",
      "execution_count": 32,
      "id": "ad3f270f-2991-47eb-929b-e8f88a55b0d1",
      "metadata": {
        "id": "ad3f270f-2991-47eb-929b-e8f88a55b0d1"
      },
      "outputs": [],
      "source": [
        "query = f'''select count(distinct e.id)\n",
        "            from public.employers e\n",
        "                left join public.EMPLOYERS_INDUSTRIES ei on e.id = ei.employer_id\n",
        "                left join public.INDUSTRIES i on ei.industry_id = i.id \n",
        "            where i.name = 'Разработка программного обеспечения'\n",
        "        '''\n",
        "empl_cnt_7540 = pd.read_sql_query(query, connection)"
      ]
    },
    {
      "cell_type": "code",
      "execution_count": 33,
      "id": "H72qxWM0shPR",
      "metadata": {
        "id": "H72qxWM0shPR"
      },
      "outputs": [
        {
          "data": {
            "text/plain": [
              "3553"
            ]
          },
          "execution_count": 33,
          "metadata": {},
          "output_type": "execute_result"
        }
      ],
      "source": [
        "int(empl_cnt_7540.iloc[0,0])"
      ]
    },
    {
      "cell_type": "markdown",
      "id": "7b02bb86-0546-40fb-94a4-242f050a5c57",
      "metadata": {
        "id": "7b02bb86-0546-40fb-94a4-242f050a5c57"
      },
      "source": [
        "7. Для компании «Яндекс» выведите список регионов-миллионников, в которых представлены вакансии компании, вместе с количеством вакансий в этих регионах. Также добавьте строку Total с общим количеством вакансий компании. Результат отсортируйте по возрастанию количества.\n",
        "\n",
        "Список городов-милионников надо взять [отсюда](https://ru.wikipedia.org/wiki/%D0%93%D0%BE%D1%80%D0%BE%D0%B4%D0%B0-%D0%BC%D0%B8%D0%BB%D0%BB%D0%B8%D0%BE%D0%BD%D0%B5%D1%80%D1%8B_%D0%A0%D0%BE%D1%81%D1%81%D0%B8%D0%B8). \n",
        "\n",
        "Если возникнут трудности с этим задание посмотрите материалы модуля  PYTHON-17. Как получать данные из веб-источников и API. "
      ]
    },
    {
      "cell_type": "code",
      "execution_count": 34,
      "id": "ZdfrL6gIs1Pn",
      "metadata": {
        "id": "ZdfrL6gIs1Pn"
      },
      "outputs": [],
      "source": [
        "import requests # Импортируем библиотеку requests\n",
        "from bs4 import BeautifulSoup\n",
        "url = 'https://ru.wikipedia.org/wiki/%D0%93%D0%BE%D1%80%D0%BE%D0%B4%D0%B0-%D0%BC%D0%B8%D0%BB%D0%BB%D0%B8%D0%BE%D0%BD%D0%B5%D1%80%D1%8B_%D0%A0%D0%BE%D1%81%D1%81%D0%B8%D0%B8' # Определяем адрес страницы\n",
        "response = requests.get(url)  # Выполняем GET-запрос\n",
        "page = BeautifulSoup(response.text, 'html.parser')\n",
        "list_city_million = pd.read_html(url)[1]\n",
        "list_city_million['Город'] = list_city_million['Город'].apply(lambda x:x.replace('[a]',''))"
      ]
    },
    {
      "cell_type": "code",
      "execution_count": 35,
      "id": "5a0e32a4-e68a-4365-8a39-2fe24c542c36",
      "metadata": {
        "id": "5a0e32a4-e68a-4365-8a39-2fe24c542c36"
      },
      "outputs": [],
      "source": [
        "query = f'''select \n",
        "            a.name, count(v.id)\n",
        "            from public.areas a\n",
        "            left join public.vacancies v on v.area_id = a.id\n",
        "            left join public.employers e on v.employer_id = e.id\n",
        "            where e.name = 'Яндекс'\n",
        "            group by a.name\n",
        "        '''\n",
        "pd_city = pd.read_sql_query(query, connection)\n",
        "\n",
        "dt_city_merge = list_city_million.merge(\n",
        "    pd_city,\n",
        "    left_on='Город',\n",
        "    right_on='name',\n",
        "    how='left'\n",
        ")\n"
      ]
    },
    {
      "cell_type": "code",
      "execution_count": 36,
      "id": "5ef5395f",
      "metadata": {},
      "outputs": [
        {
          "data": {
            "text/html": [
              "<div>\n",
              "<style scoped>\n",
              "    .dataframe tbody tr th:only-of-type {\n",
              "        vertical-align: middle;\n",
              "    }\n",
              "\n",
              "    .dataframe tbody tr th {\n",
              "        vertical-align: top;\n",
              "    }\n",
              "\n",
              "    .dataframe thead th {\n",
              "        text-align: right;\n",
              "    }\n",
              "</style>\n",
              "<table border=\"1\" class=\"dataframe\">\n",
              "  <thead>\n",
              "    <tr style=\"text-align: right;\">\n",
              "      <th></th>\n",
              "      <th>Город</th>\n",
              "      <th>count</th>\n",
              "    </tr>\n",
              "  </thead>\n",
              "  <tbody>\n",
              "    <tr>\n",
              "      <th>11</th>\n",
              "      <td>Омск</td>\n",
              "      <td>21</td>\n",
              "    </tr>\n",
              "    <tr>\n",
              "      <th>6</th>\n",
              "      <td>Челябинск</td>\n",
              "      <td>22</td>\n",
              "    </tr>\n",
              "    <tr>\n",
              "      <th>7</th>\n",
              "      <td>Красноярск</td>\n",
              "      <td>23</td>\n",
              "    </tr>\n",
              "    <tr>\n",
              "      <th>15</th>\n",
              "      <td>Волгоград</td>\n",
              "      <td>24</td>\n",
              "    </tr>\n",
              "    <tr>\n",
              "      <th>4</th>\n",
              "      <td>Казань</td>\n",
              "      <td>25</td>\n",
              "    </tr>\n",
              "    <tr>\n",
              "      <th>10</th>\n",
              "      <td>Ростов-на-Дону</td>\n",
              "      <td>25</td>\n",
              "    </tr>\n",
              "    <tr>\n",
              "      <th>14</th>\n",
              "      <td>Пермь</td>\n",
              "      <td>25</td>\n",
              "    </tr>\n",
              "    <tr>\n",
              "      <th>8</th>\n",
              "      <td>Самара</td>\n",
              "      <td>26</td>\n",
              "    </tr>\n",
              "    <tr>\n",
              "      <th>9</th>\n",
              "      <td>Уфа</td>\n",
              "      <td>26</td>\n",
              "    </tr>\n",
              "    <tr>\n",
              "      <th>12</th>\n",
              "      <td>Краснодар</td>\n",
              "      <td>30</td>\n",
              "    </tr>\n",
              "    <tr>\n",
              "      <th>13</th>\n",
              "      <td>Воронеж</td>\n",
              "      <td>32</td>\n",
              "    </tr>\n",
              "    <tr>\n",
              "      <th>2</th>\n",
              "      <td>Новосибирск</td>\n",
              "      <td>35</td>\n",
              "    </tr>\n",
              "    <tr>\n",
              "      <th>5</th>\n",
              "      <td>Нижний Новгород</td>\n",
              "      <td>36</td>\n",
              "    </tr>\n",
              "    <tr>\n",
              "      <th>3</th>\n",
              "      <td>Екатеринбург</td>\n",
              "      <td>39</td>\n",
              "    </tr>\n",
              "    <tr>\n",
              "      <th>1</th>\n",
              "      <td>Санкт-Петербург</td>\n",
              "      <td>42</td>\n",
              "    </tr>\n",
              "    <tr>\n",
              "      <th>0</th>\n",
              "      <td>Москва</td>\n",
              "      <td>54</td>\n",
              "    </tr>\n",
              "    <tr>\n",
              "      <th>16</th>\n",
              "      <td>Total:</td>\n",
              "      <td>485</td>\n",
              "    </tr>\n",
              "  </tbody>\n",
              "</table>\n",
              "</div>"
            ],
            "text/plain": [
              "              Город  count\n",
              "11             Омск     21\n",
              "6         Челябинск     22\n",
              "7        Красноярск     23\n",
              "15        Волгоград     24\n",
              "4            Казань     25\n",
              "10   Ростов-на-Дону     25\n",
              "14            Пермь     25\n",
              "8            Самара     26\n",
              "9               Уфа     26\n",
              "12        Краснодар     30\n",
              "13          Воронеж     32\n",
              "2       Новосибирск     35\n",
              "5   Нижний Новгород     36\n",
              "3      Екатеринбург     39\n",
              "1   Санкт-Петербург     42\n",
              "0            Москва     54\n",
              "16           Total:    485"
            ]
          },
          "execution_count": 36,
          "metadata": {},
          "output_type": "execute_result"
        }
      ],
      "source": [
        "dt_city_count = dt_city_merge[['Город','count']]\n",
        "\n",
        "dt_city_count.loc[16] = ['Total:', sum(dt_city_count['count'])]\n",
        "dt_city_count.sort_values(by='count')"
      ]
    },
    {
      "cell_type": "markdown",
      "id": "04966e40-3bc3-4dc8-9ba2-e80580ce3abc",
      "metadata": {
        "id": "04966e40-3bc3-4dc8-9ba2-e80580ce3abc"
      },
      "source": [
        "***"
      ]
    },
    {
      "attachments": {},
      "cell_type": "markdown",
      "id": "9851f030",
      "metadata": {},
      "source": [
        "3553 из 23501 указывают сферу своей деятельности разработку программного обеспечения\n",
        "8419 работодателей не указывает сферу свой деятельности.\n",
        "\n",
        "Яндекс размещает самое большое количество вакансий среди всех работодателей. 1933 из 49197. Так же, Яндекс размещает вакансии в самом большом количестве регионов (181 регион). Преимущественно Яндекс размещает вакансии в крупных городах, таких как Москва (54), Санкт-Петербург (42), Екатеринбург (39), Нижний Новгород (36) Новосибирск (35)"
      ]
    },
    {
      "cell_type": "markdown",
      "id": "b1ef156a-efcb-49ce-bb23-90763e7f35b2",
      "metadata": {
        "id": "b1ef156a-efcb-49ce-bb23-90763e7f35b2",
        "tags": []
      },
      "source": [
        "# Юнит 6. Предметный анализ"
      ]
    },
    {
      "cell_type": "markdown",
      "id": "b9cd50a0-992d-4988-8463-2b2b1c4629b4",
      "metadata": {
        "id": "b9cd50a0-992d-4988-8463-2b2b1c4629b4"
      },
      "source": [
        "1. Сколько вакансий имеет отношение к данным?\n",
        "\n",
        "Считаем, что вакансия имеет отношение к данным, если в её названии содержатся слова 'data' или 'данн'.\n",
        "\n",
        "*Подсказка: Обратите внимание, что названия вакансий могут быть написаны в любом регистре.* \n"
      ]
    },
    {
      "cell_type": "code",
      "execution_count": 37,
      "id": "54ab0e50-c0f1-47cc-a54b-bc5c8bc363f9",
      "metadata": {
        "id": "54ab0e50-c0f1-47cc-a54b-bc5c8bc363f9"
      },
      "outputs": [],
      "source": [
        "query = f'''select count(id)\n",
        "            from public.vacancies \n",
        "            where lower(name) like '%data%' or lower(name) like '%данн%'\n",
        "        '''\n",
        "data_cnt_vacancies = pd.read_sql_query(query, connection)"
      ]
    },
    {
      "cell_type": "code",
      "execution_count": 38,
      "id": "9F1meAqsuUjd",
      "metadata": {
        "id": "9F1meAqsuUjd"
      },
      "outputs": [
        {
          "data": {
            "text/plain": [
              "1771"
            ]
          },
          "execution_count": 38,
          "metadata": {},
          "output_type": "execute_result"
        }
      ],
      "source": [
        "int(data_cnt_vacancies.loc[0])"
      ]
    },
    {
      "cell_type": "markdown",
      "id": "4dea20cb-a36b-474a-a0b9-e08e8e3857a5",
      "metadata": {
        "id": "4dea20cb-a36b-474a-a0b9-e08e8e3857a5"
      },
      "source": [
        "2. Сколько есть подходящих вакансий для начинающего дата-сайентиста? \n",
        "Будем считать вакансиями для дата-сайентистов такие, в названии которых есть хотя бы одно из следующих сочетаний:\n",
        "* 'data scientist'\n",
        "* 'data science'\n",
        "* 'исследователь данных'\n",
        "* 'ML' (здесь не нужно брать вакансии по HTML)\n",
        "* 'machine learning'\n",
        "* 'машинн%обучен%'\n",
        "\n",
        "** В следующих заданиях мы продолжим работать с вакансиями по этому условию.*\n",
        "\n",
        "Считаем вакансиями для специалистов уровня Junior следующие:\n",
        "* в названии есть слово 'junior' *или*\n",
        "* требуемый опыт — Нет опыта *или*\n",
        "* тип трудоустройства — Стажировка.\n",
        " "
      ]
    },
    {
      "cell_type": "code",
      "execution_count": 39,
      "id": "9c61b3c0-bb66-46c9-ae1e-81d3f5752b4a",
      "metadata": {
        "id": "9c61b3c0-bb66-46c9-ae1e-81d3f5752b4a"
      },
      "outputs": [],
      "source": [
        "query = f'''select count(id)\n",
        "            from public.vacancies \n",
        "            where\n",
        "            (lower(name) like '%data science%'    \n",
        "            or lower(name) like '%data scientist%' \n",
        "            or lower(name) like '%исследователь данных%'\n",
        "            or (lower(name) like '%ml%' and lower(name) not like '%html%')\n",
        "            or lower(name) like '%machine learning%'\n",
        "            or lower(name) like '%машинн%обучен%'\n",
        "            )\n",
        "            and\n",
        "            (\n",
        "            lower(experience) like '%нет опыта%'\n",
        "            or lower(name) like '%junior%'\n",
        "            or lower(employment) like '%стажировка%'\n",
        "            )\n",
        "        '''\n",
        "data_scince_cnt_vac = pd.read_sql_query(query, connection)"
      ]
    },
    {
      "cell_type": "code",
      "execution_count": 40,
      "id": "ZNM-LLYuu1dj",
      "metadata": {
        "id": "ZNM-LLYuu1dj"
      },
      "outputs": [
        {
          "data": {
            "text/plain": [
              "51"
            ]
          },
          "execution_count": 40,
          "metadata": {},
          "output_type": "execute_result"
        }
      ],
      "source": [
        "int(data_scince_cnt_vac.loc[0])"
      ]
    },
    {
      "cell_type": "markdown",
      "id": "eedceb80-c5ca-480e-b27a-278dfb8b4438",
      "metadata": {
        "id": "eedceb80-c5ca-480e-b27a-278dfb8b4438"
      },
      "source": [
        "3. Сколько есть вакансий для DS, в которых в качестве ключевого навыка указан SQL или postgres?\n",
        "\n",
        "** Критерии для отнесения вакансии к DS указаны в предыдущем задании.*"
      ]
    },
    {
      "cell_type": "code",
      "execution_count": 41,
      "id": "69621713-0cc5-4f1b-a1d7-bb144fa6148c",
      "metadata": {
        "id": "69621713-0cc5-4f1b-a1d7-bb144fa6148c"
      },
      "outputs": [],
      "source": [
        "query = f'''select count(id)\n",
        "            from public.vacancies \n",
        "            where\n",
        "            (lower(name) like '%data science%'\n",
        "            or lower(name) like '%data scientist%' \n",
        "            or lower(name) like '%исследователь данных%'\n",
        "            or (name like '%ML%' and name not like '%HTML%')\n",
        "            or lower(name) like '%machine learning%'\n",
        "            or lower(name) like '%машинн%обучен%')\n",
        "    \n",
        "            and\n",
        "    \n",
        "            (key_skills like '%SQL%' \n",
        "            or lower(key_skills) like '%postgres%')\n",
        "        '''\n",
        "        \n",
        "ds_sql_cnt_vac = pd.read_sql_query(query, connection)"
      ]
    },
    {
      "cell_type": "code",
      "execution_count": 42,
      "id": "alA8WEAAvGdf",
      "metadata": {
        "id": "alA8WEAAvGdf"
      },
      "outputs": [
        {
          "data": {
            "text/plain": [
              "201"
            ]
          },
          "execution_count": 42,
          "metadata": {},
          "output_type": "execute_result"
        }
      ],
      "source": [
        "int(ds_sql_cnt_vac.loc[0])"
      ]
    },
    {
      "cell_type": "markdown",
      "id": "1be1e9c6-37cf-4a5f-bfeb-04cab799dc80",
      "metadata": {
        "id": "1be1e9c6-37cf-4a5f-bfeb-04cab799dc80"
      },
      "source": [
        "4. Проверьте, насколько популярен Python в требованиях работодателей к DS.Для этого вычислите количество вакансий, в которых в качестве ключевого навыка указан Python.\n",
        "\n",
        "** Это можно сделать помощью запроса, аналогичного предыдущему.*"
      ]
    },
    {
      "cell_type": "code",
      "execution_count": 43,
      "id": "0036a355-9ccf-4564-8b01-73d8194297e7",
      "metadata": {
        "id": "0036a355-9ccf-4564-8b01-73d8194297e7"
      },
      "outputs": [],
      "source": [
        "query = f'''select count(id)\n",
        "            from public.vacancies \n",
        "            where\n",
        "            (lower(name) like '%data science%'\n",
        "            or lower(name) like '%data scientist%' \n",
        "            or lower(name) like '%исследователь данных%'\n",
        "            or (name like '%ML%' and name not like '%HTML%')\n",
        "            or lower(name) like '%machine learning%'\n",
        "            or lower(name) like '%машинн%обучен%'\n",
        "            )\n",
        "            and \n",
        "            lower(key_skills) like '%python%'\n",
        "        '''\n",
        "        \n",
        "ds_python_cnt_vac = pd.read_sql_query(query, connection)"
      ]
    },
    {
      "cell_type": "code",
      "execution_count": 44,
      "id": "1i-5WyucvQ6v",
      "metadata": {
        "id": "1i-5WyucvQ6v"
      },
      "outputs": [
        {
          "data": {
            "text/plain": [
              "351"
            ]
          },
          "execution_count": 44,
          "metadata": {},
          "output_type": "execute_result"
        }
      ],
      "source": [
        "int(ds_python_cnt_vac.loc[0])"
      ]
    },
    {
      "cell_type": "markdown",
      "id": "ec3c8db7-fa21-4a41-a994-1af63742a642",
      "metadata": {
        "id": "ec3c8db7-fa21-4a41-a994-1af63742a642"
      },
      "source": [
        "5. Сколько ключевых навыков в среднем указывают в вакансиях для DS?\n",
        "Ответ округлите до двух знаков после точки-разделителя."
      ]
    },
    {
      "cell_type": "code",
      "execution_count": 45,
      "id": "949132bc-d5b6-4611-8218-0b9a504d74f4",
      "metadata": {
        "id": "949132bc-d5b6-4611-8218-0b9a504d74f4"
      },
      "outputs": [],
      "source": [
        "query = f'''select\n",
        "            avg(length(key_skills) - length(replace(key_skills, CHR(9), '')) +1)\n",
        "            from\n",
        "            public.vacancies /*из таблицы вакансий*/\n",
        "            where (lower(name) like '%data scientist%'\n",
        "            or lower (name) like '%data science%'\n",
        "            or lower (name) like '%исследователь данных%'\n",
        "            or (name like '%ML%' and name not like '%HTML%')\n",
        "            or lower (name) like '%machine learning%'\n",
        "            or lower (name) like '%машинн%обучен%%')\n",
        "        \n",
        "            and \n",
        "            \n",
        "             key_skills is not null\n",
        "        '''\n",
        "               \n",
        "avg_key_cnt = pd.read_sql_query(query, connection)        \n"
      ]
    },
    {
      "cell_type": "code",
      "execution_count": 46,
      "id": "a3V24Tvmviqk",
      "metadata": {
        "id": "a3V24Tvmviqk"
      },
      "outputs": [
        {
          "data": {
            "text/plain": [
              "6.41"
            ]
          },
          "execution_count": 46,
          "metadata": {},
          "output_type": "execute_result"
        }
      ],
      "source": [
        "round(float(avg_key_cnt.loc[0]),2)"
      ]
    },
    {
      "cell_type": "markdown",
      "id": "1041c17a-ca8f-4543-a0ca-32778914fb00",
      "metadata": {
        "id": "1041c17a-ca8f-4543-a0ca-32778914fb00"
      },
      "source": [
        "6. Напишите запрос, позволяющий вычислить, какую зарплату для DS в **среднем** указывают для каждого типа требуемого опыта (уникальное значение из поля *experience*). \n",
        "\n",
        "При решении задачи примите во внимание следующее:\n",
        "1. Рассматриваем только вакансии, у которых заполнено хотя бы одно из двух полей с зарплатой.\n",
        "2. Если заполнены оба поля с зарплатой, то считаем зарплату по каждой вакансии как сумму двух полей, делённую на 2. Если заполнено только одно из полей, то его и считаем зарплатой по вакансии.\n",
        "3. Если в расчётах участвует null, в результате он тоже даст null (посмотрите, что возвращает запрос select 1 + null). Чтобы избежать этой ситуацию, мы воспользуемся функцией [coalesce](https://postgrespro.ru/docs/postgresql/9.5/functions-conditional#functions-coalesce-nvl-ifnull), которая заменит null на значение, которое мы передадим. Например, посмотрите, что возвращает запрос `select 1 + coalesce(null, 0)`\n",
        "\n",
        "Выясните, на какую зарплату в среднем может рассчитывать дата-сайентист с опытом работы от 3 до 6 лет. Результат округлите до целого числа. "
      ]
    },
    {
      "cell_type": "code",
      "execution_count": 47,
      "id": "6a743d39-5204-48d3-8271-b9f88e68d40e",
      "metadata": {
        "id": "6a743d39-5204-48d3-8271-b9f88e68d40e"
      },
      "outputs": [],
      "source": [
        "query = f'''select\n",
        "            experience, avg((coalesce(salary_from, salary_to) + coalesce(salary_to,salary_from))/2)\n",
        "            from\n",
        "            public.VACANCIES v /*из таблицы вакансий*/\n",
        "            where (lower(v.name) LIKE '%data scientist%'\n",
        "            or lower (v.name) LIKE '%data science%'\n",
        "            or lower (v.name) LIKE '%исследователь данных%'\n",
        "            or (v.name LIKE '%ML%' and v.name not LIKE '%HTML%')\n",
        "            or lower (v.name) LIKE '%machine learning%'\n",
        "            or lower (v.name) LIKE '%машинн%обучен%%')\n",
        "    \n",
        "            and\n",
        "            (salary_from is not null or salary_to is not null)\n",
        "            group by experience\n",
        "        '''\n",
        "               \n",
        "avg_salary_exp = pd.read_sql_query(query, connection)   "
      ]
    },
    {
      "cell_type": "code",
      "execution_count": 48,
      "id": "0002ebc7",
      "metadata": {},
      "outputs": [
        {
          "data": {
            "text/html": [
              "<div>\n",
              "<style scoped>\n",
              "    .dataframe tbody tr th:only-of-type {\n",
              "        vertical-align: middle;\n",
              "    }\n",
              "\n",
              "    .dataframe tbody tr th {\n",
              "        vertical-align: top;\n",
              "    }\n",
              "\n",
              "    .dataframe thead th {\n",
              "        text-align: right;\n",
              "    }\n",
              "</style>\n",
              "<table border=\"1\" class=\"dataframe\">\n",
              "  <thead>\n",
              "    <tr style=\"text-align: right;\">\n",
              "      <th></th>\n",
              "      <th>experience</th>\n",
              "      <th>avg</th>\n",
              "    </tr>\n",
              "  </thead>\n",
              "  <tbody>\n",
              "    <tr>\n",
              "      <th>0</th>\n",
              "      <td>Нет опыта</td>\n",
              "      <td>74642.857143</td>\n",
              "    </tr>\n",
              "    <tr>\n",
              "      <th>1</th>\n",
              "      <td>От 1 года до 3 лет</td>\n",
              "      <td>139674.750000</td>\n",
              "    </tr>\n",
              "    <tr>\n",
              "      <th>2</th>\n",
              "      <td>От 3 до 6 лет</td>\n",
              "      <td>243114.666667</td>\n",
              "    </tr>\n",
              "  </tbody>\n",
              "</table>\n",
              "</div>"
            ],
            "text/plain": [
              "           experience            avg\n",
              "0           Нет опыта   74642.857143\n",
              "1  От 1 года до 3 лет  139674.750000\n",
              "2       От 3 до 6 лет  243114.666667"
            ]
          },
          "execution_count": 48,
          "metadata": {},
          "output_type": "execute_result"
        }
      ],
      "source": [
        "avg_salary_exp"
      ]
    },
    {
      "cell_type": "code",
      "execution_count": 49,
      "id": "aRIJ0mZEwU1_",
      "metadata": {
        "id": "aRIJ0mZEwU1_"
      },
      "outputs": [
        {
          "data": {
            "text/plain": [
              "243115"
            ]
          },
          "execution_count": 49,
          "metadata": {},
          "output_type": "execute_result"
        }
      ],
      "source": [
        "round(float(avg_salary_exp.iloc[2,1]))"
      ]
    },
    {
      "cell_type": "markdown",
      "id": "6a7892b4-4113-4746-adce-18aa2844f18e",
      "metadata": {
        "id": "6a7892b4-4113-4746-adce-18aa2844f18e"
      },
      "source": [
        "***"
      ]
    },
    {
      "attachments": {},
      "cell_type": "markdown",
      "id": "4b4352aa",
      "metadata": {},
      "source": [
        "Из 49197 вакансий только 1771 (2,93%) относится к данным. И только 51 - вакансии data аналитиков уровня junior (0,10%).\n",
        "201 вакансий требуют ключевого навыка SQL или postgres (0,40%).\n",
        "351 вакансий требуют ключевого навыка python (0.71 %).\n",
        "\n",
        "В анкетах в среднем 6.41 ключевых навыков.\n",
        "\n",
        "Средняя заработная плата для вакансий без опыта 74643 руб., с опытом от 1 до 3 лет 139675 руб. С опытом от 3 до 6 лет 243115 руб."
      ]
    },
    {
      "cell_type": "markdown",
      "id": "c0ED6fh7wiBT",
      "metadata": {
        "id": "c0ED6fh7wiBT"
      },
      "source": [
        "# Общий вывод по проекту"
      ]
    },
    {
      "attachments": {},
      "cell_type": "markdown",
      "id": "ca1bc0a9",
      "metadata": {},
      "source": [
        "## Дополнительные запросы\n",
        "___\n",
        "\n",
        "Количество вакансий Data специалистов по городам"
      ]
    },
    {
      "cell_type": "code",
      "execution_count": 50,
      "id": "38d54e29",
      "metadata": {},
      "outputs": [
        {
          "data": {
            "text/html": [
              "<div>\n",
              "<style scoped>\n",
              "    .dataframe tbody tr th:only-of-type {\n",
              "        vertical-align: middle;\n",
              "    }\n",
              "\n",
              "    .dataframe tbody tr th {\n",
              "        vertical-align: top;\n",
              "    }\n",
              "\n",
              "    .dataframe thead th {\n",
              "        text-align: right;\n",
              "    }\n",
              "</style>\n",
              "<table border=\"1\" class=\"dataframe\">\n",
              "  <thead>\n",
              "    <tr style=\"text-align: right;\">\n",
              "      <th></th>\n",
              "      <th>Расположение</th>\n",
              "      <th>Количество вакансий</th>\n",
              "    </tr>\n",
              "  </thead>\n",
              "  <tbody>\n",
              "    <tr>\n",
              "      <th>0</th>\n",
              "      <td>Москва</td>\n",
              "      <td>217</td>\n",
              "    </tr>\n",
              "    <tr>\n",
              "      <th>1</th>\n",
              "      <td>Санкт-Петербург</td>\n",
              "      <td>64</td>\n",
              "    </tr>\n",
              "    <tr>\n",
              "      <th>2</th>\n",
              "      <td>Новосибирск</td>\n",
              "      <td>23</td>\n",
              "    </tr>\n",
              "    <tr>\n",
              "      <th>3</th>\n",
              "      <td>Нижний Новгород</td>\n",
              "      <td>20</td>\n",
              "    </tr>\n",
              "    <tr>\n",
              "      <th>4</th>\n",
              "      <td>Казань</td>\n",
              "      <td>16</td>\n",
              "    </tr>\n",
              "    <tr>\n",
              "      <th>5</th>\n",
              "      <td>Алматы</td>\n",
              "      <td>16</td>\n",
              "    </tr>\n",
              "    <tr>\n",
              "      <th>6</th>\n",
              "      <td>Минск</td>\n",
              "      <td>9</td>\n",
              "    </tr>\n",
              "    <tr>\n",
              "      <th>7</th>\n",
              "      <td>Томск</td>\n",
              "      <td>8</td>\n",
              "    </tr>\n",
              "    <tr>\n",
              "      <th>8</th>\n",
              "      <td>Екатеринбург</td>\n",
              "      <td>7</td>\n",
              "    </tr>\n",
              "    <tr>\n",
              "      <th>9</th>\n",
              "      <td>Краснодар</td>\n",
              "      <td>6</td>\n",
              "    </tr>\n",
              "    <tr>\n",
              "      <th>10</th>\n",
              "      <td>Ростов-на-Дону</td>\n",
              "      <td>6</td>\n",
              "    </tr>\n",
              "    <tr>\n",
              "      <th>11</th>\n",
              "      <td>Армения</td>\n",
              "      <td>6</td>\n",
              "    </tr>\n",
              "    <tr>\n",
              "      <th>12</th>\n",
              "      <td>Нур-Султан</td>\n",
              "      <td>6</td>\n",
              "    </tr>\n",
              "    <tr>\n",
              "      <th>13</th>\n",
              "      <td>Самара</td>\n",
              "      <td>5</td>\n",
              "    </tr>\n",
              "    <tr>\n",
              "      <th>14</th>\n",
              "      <td>Пермь</td>\n",
              "      <td>5</td>\n",
              "    </tr>\n",
              "  </tbody>\n",
              "</table>\n",
              "</div>"
            ],
            "text/plain": [
              "       Расположение  Количество вакансий\n",
              "0            Москва                  217\n",
              "1   Санкт-Петербург                   64\n",
              "2       Новосибирск                   23\n",
              "3   Нижний Новгород                   20\n",
              "4            Казань                   16\n",
              "5            Алматы                   16\n",
              "6             Минск                    9\n",
              "7             Томск                    8\n",
              "8      Екатеринбург                    7\n",
              "9         Краснодар                    6\n",
              "10   Ростов-на-Дону                    6\n",
              "11          Армения                    6\n",
              "12       Нур-Султан                    6\n",
              "13           Самара                    5\n",
              "14            Пермь                    5"
            ]
          },
          "execution_count": 50,
          "metadata": {},
          "output_type": "execute_result"
        }
      ],
      "source": [
        "query = f'''select\n",
        "                a.name \"Расположение\", count(v.id) \"Количество вакансий\"\n",
        "            from\n",
        "                public.VACANCIES v\n",
        "                join public.areas a on v.area_id = a.id\n",
        "            where \n",
        "                (lower(v.name) LIKE '%data scientist%'\n",
        "                or lower (v.name) LIKE '%data science%'\n",
        "                or lower (v.name) LIKE '%исследователь данных%'\n",
        "                or (v.name LIKE '%ML%' and v.name not LIKE '%HTML%')\n",
        "                or lower (v.name) LIKE '%machine learning%'\n",
        "                or lower (v.name) LIKE '%машинн%обучен%%')\n",
        "            group by a.name\n",
        "            order by \"Количество вакансий\" desc\n",
        "        '''\n",
        "               \n",
        "ds_area_count = pd.read_sql_query(query, connection)   \n",
        "ds_area_count.head(15)"
      ]
    },
    {
      "attachments": {},
      "cell_type": "markdown",
      "id": "92950359",
      "metadata": {},
      "source": [
        "Распределение вакансий, связанных с data scince, отличается от распределения общего количества вакансий. Больше вакансий сосредоточено в Москве и крупных городах России. "
      ]
    },
    {
      "attachments": {},
      "cell_type": "markdown",
      "id": "b1fd1f16",
      "metadata": {},
      "source": [
        "___\n",
        "\n",
        "Количество вакансий data специалистов по компаниям"
      ]
    },
    {
      "cell_type": "code",
      "execution_count": 51,
      "id": "741828f6",
      "metadata": {},
      "outputs": [
        {
          "data": {
            "text/html": [
              "<div>\n",
              "<style scoped>\n",
              "    .dataframe tbody tr th:only-of-type {\n",
              "        vertical-align: middle;\n",
              "    }\n",
              "\n",
              "    .dataframe tbody tr th {\n",
              "        vertical-align: top;\n",
              "    }\n",
              "\n",
              "    .dataframe thead th {\n",
              "        text-align: right;\n",
              "    }\n",
              "</style>\n",
              "<table border=\"1\" class=\"dataframe\">\n",
              "  <thead>\n",
              "    <tr style=\"text-align: right;\">\n",
              "      <th></th>\n",
              "      <th>Компании</th>\n",
              "      <th>Количество вакансий</th>\n",
              "    </tr>\n",
              "  </thead>\n",
              "  <tbody>\n",
              "    <tr>\n",
              "      <th>0</th>\n",
              "      <td>СБЕР</td>\n",
              "      <td>37</td>\n",
              "    </tr>\n",
              "    <tr>\n",
              "      <th>1</th>\n",
              "      <td>Bell Integrator</td>\n",
              "      <td>25</td>\n",
              "    </tr>\n",
              "    <tr>\n",
              "      <th>2</th>\n",
              "      <td>Банк ВТБ (ПАО)</td>\n",
              "      <td>18</td>\n",
              "    </tr>\n",
              "    <tr>\n",
              "      <th>3</th>\n",
              "      <td>VK</td>\n",
              "      <td>15</td>\n",
              "    </tr>\n",
              "    <tr>\n",
              "      <th>4</th>\n",
              "      <td>Positive Technologies</td>\n",
              "      <td>11</td>\n",
              "    </tr>\n",
              "    <tr>\n",
              "      <th>5</th>\n",
              "      <td>EvenBet Gaming</td>\n",
              "      <td>9</td>\n",
              "    </tr>\n",
              "    <tr>\n",
              "      <th>6</th>\n",
              "      <td>Яндекс</td>\n",
              "      <td>9</td>\n",
              "    </tr>\n",
              "    <tr>\n",
              "      <th>7</th>\n",
              "      <td>МегаФон</td>\n",
              "      <td>8</td>\n",
              "    </tr>\n",
              "    <tr>\n",
              "      <th>8</th>\n",
              "      <td>Andersen</td>\n",
              "      <td>7</td>\n",
              "    </tr>\n",
              "    <tr>\n",
              "      <th>9</th>\n",
              "      <td>Ozon</td>\n",
              "      <td>6</td>\n",
              "    </tr>\n",
              "    <tr>\n",
              "      <th>10</th>\n",
              "      <td>Контур</td>\n",
              "      <td>6</td>\n",
              "    </tr>\n",
              "    <tr>\n",
              "      <th>11</th>\n",
              "      <td>МТС</td>\n",
              "      <td>6</td>\n",
              "    </tr>\n",
              "    <tr>\n",
              "      <th>12</th>\n",
              "      <td>Бэнкс Софт Системс</td>\n",
              "      <td>6</td>\n",
              "    </tr>\n",
              "    <tr>\n",
              "      <th>13</th>\n",
              "      <td>inDriver</td>\n",
              "      <td>5</td>\n",
              "    </tr>\n",
              "    <tr>\n",
              "      <th>14</th>\n",
              "      <td>Иннотех, Группа компаний</td>\n",
              "      <td>5</td>\n",
              "    </tr>\n",
              "  </tbody>\n",
              "</table>\n",
              "</div>"
            ],
            "text/plain": [
              "                    Компании  Количество вакансий\n",
              "0                       СБЕР                   37\n",
              "1            Bell Integrator                   25\n",
              "2             Банк ВТБ (ПАО)                   18\n",
              "3                         VK                   15\n",
              "4      Positive Technologies                   11\n",
              "5             EvenBet Gaming                    9\n",
              "6                     Яндекс                    9\n",
              "7                    МегаФон                    8\n",
              "8                   Andersen                    7\n",
              "9                       Ozon                    6\n",
              "10                    Контур                    6\n",
              "11                       МТС                    6\n",
              "12        Бэнкс Софт Системс                    6\n",
              "13                  inDriver                    5\n",
              "14  Иннотех, Группа компаний                    5"
            ]
          },
          "execution_count": 51,
          "metadata": {},
          "output_type": "execute_result"
        }
      ],
      "source": [
        "query = f'''select\n",
        "                e.name \"Компании\", count(v.id) \"Количество вакансий\"\n",
        "            from\n",
        "                public.VACANCIES v\n",
        "                join public.employers e on v.employer_id = e.id\n",
        "            where \n",
        "                (lower(v.name) LIKE '%data scientist%'\n",
        "                or lower (v.name) LIKE '%data science%'\n",
        "                or lower (v.name) LIKE '%исследователь данных%'\n",
        "                or (v.name LIKE '%ML%' and v.name not LIKE '%HTML%')\n",
        "                or lower (v.name) LIKE '%machine learning%'\n",
        "                or lower (v.name) LIKE '%машинн%обучен%%')\n",
        "            group by e.name\n",
        "            order by \"Количество вакансий\" desc\n",
        "        '''\n",
        "               \n",
        "cnt_vacancies_ds_empl = pd.read_sql_query(query, connection)   \n",
        "cnt_vacancies_ds_empl.head(15)"
      ]
    },
    {
      "attachments": {},
      "cell_type": "markdown",
      "id": "43156ca0",
      "metadata": {},
      "source": [
        "Больше всего Data специалистов ищут СБЕР, Bell Integrator, Банк ВТБ (ПАО), VK, Positive Technologies. В целом какая-то четкая закономерность не усматривается."
      ]
    },
    {
      "attachments": {},
      "cell_type": "markdown",
      "id": "2251ba7c",
      "metadata": {},
      "source": [
        "___\n",
        "Количество вакансий junior data специалистов по компаниям"
      ]
    },
    {
      "cell_type": "code",
      "execution_count": 52,
      "id": "9b930f08",
      "metadata": {},
      "outputs": [
        {
          "data": {
            "text/html": [
              "<div>\n",
              "<style scoped>\n",
              "    .dataframe tbody tr th:only-of-type {\n",
              "        vertical-align: middle;\n",
              "    }\n",
              "\n",
              "    .dataframe tbody tr th {\n",
              "        vertical-align: top;\n",
              "    }\n",
              "\n",
              "    .dataframe thead th {\n",
              "        text-align: right;\n",
              "    }\n",
              "</style>\n",
              "<table border=\"1\" class=\"dataframe\">\n",
              "  <thead>\n",
              "    <tr style=\"text-align: right;\">\n",
              "      <th></th>\n",
              "      <th>Компании</th>\n",
              "      <th>Количество вакансий junior</th>\n",
              "    </tr>\n",
              "  </thead>\n",
              "  <tbody>\n",
              "    <tr>\n",
              "      <th>0</th>\n",
              "      <td>Банк ВТБ (ПАО)</td>\n",
              "      <td>10</td>\n",
              "    </tr>\n",
              "    <tr>\n",
              "      <th>1</th>\n",
              "      <td>The Skolkovo Institute of Science and Technology</td>\n",
              "      <td>3</td>\n",
              "    </tr>\n",
              "    <tr>\n",
              "      <th>2</th>\n",
              "      <td>Comexp</td>\n",
              "      <td>3</td>\n",
              "    </tr>\n",
              "    <tr>\n",
              "      <th>3</th>\n",
              "      <td>SteadyControl</td>\n",
              "      <td>2</td>\n",
              "    </tr>\n",
              "    <tr>\n",
              "      <th>4</th>\n",
              "      <td>Диплей</td>\n",
              "      <td>2</td>\n",
              "    </tr>\n",
              "    <tr>\n",
              "      <th>5</th>\n",
              "      <td>Seldon</td>\n",
              "      <td>1</td>\n",
              "    </tr>\n",
              "    <tr>\n",
              "      <th>6</th>\n",
              "      <td>Theyr Ltd</td>\n",
              "      <td>1</td>\n",
              "    </tr>\n",
              "    <tr>\n",
              "      <th>7</th>\n",
              "      <td>VK</td>\n",
              "      <td>1</td>\n",
              "    </tr>\n",
              "    <tr>\n",
              "      <th>8</th>\n",
              "      <td>Алгоритмические Системы</td>\n",
              "      <td>1</td>\n",
              "    </tr>\n",
              "    <tr>\n",
              "      <th>9</th>\n",
              "      <td>АЛЬФА-БАНК</td>\n",
              "      <td>1</td>\n",
              "    </tr>\n",
              "  </tbody>\n",
              "</table>\n",
              "</div>"
            ],
            "text/plain": [
              "                                           Компании  \\\n",
              "0                                    Банк ВТБ (ПАО)   \n",
              "1  The Skolkovo Institute of Science and Technology   \n",
              "2                                            Comexp   \n",
              "3                                     SteadyControl   \n",
              "4                                            Диплей   \n",
              "5                                            Seldon   \n",
              "6                                         Theyr Ltd   \n",
              "7                                                VK   \n",
              "8                           Алгоритмические Системы   \n",
              "9                                        АЛЬФА-БАНК   \n",
              "\n",
              "   Количество вакансий junior  \n",
              "0                          10  \n",
              "1                           3  \n",
              "2                           3  \n",
              "3                           2  \n",
              "4                           2  \n",
              "5                           1  \n",
              "6                           1  \n",
              "7                           1  \n",
              "8                           1  \n",
              "9                           1  "
            ]
          },
          "execution_count": 52,
          "metadata": {},
          "output_type": "execute_result"
        }
      ],
      "source": [
        "query = f'''select\n",
        "                e.name \"Компании\", count(v.id) \"Количество вакансий junior\"\n",
        "            from\n",
        "                public.VACANCIES v\n",
        "                join public.employers e on v.employer_id = e.id\n",
        "            where \n",
        "                (lower(v.name) LIKE '%data scientist%'\n",
        "                or lower (v.name) LIKE '%data science%'\n",
        "                or lower (v.name) LIKE '%исследователь данных%'\n",
        "                or (v.name LIKE '%ML%' and v.name not LIKE '%HTML%')\n",
        "                or lower (v.name) LIKE '%machine learning%'\n",
        "                or lower (v.name) LIKE '%машинн%обучен%%')\n",
        "\n",
        "                and\n",
        "                (lower(experience) like '%нет опыта%'\n",
        "                or lower(v.name) like '%junior%'\n",
        "                or lower(employment) like '%стажировка%')\n",
        "            \n",
        "            group by e.name, v.employment\n",
        "            order by \"Количество вакансий junior\" desc\n",
        "        '''\n",
        "               \n",
        "cnt_vacancies_ds_junior = pd.read_sql_query(query, connection)   \n",
        "cnt_vacancies_ds_junior.head(10)\n",
        "\n",
        "'стажировка'"
      ]
    },
    {
      "attachments": {},
      "cell_type": "markdown",
      "id": "ca329737",
      "metadata": {},
      "source": [
        "Вакансий Junior data специалистов в несколько раз меньше чем вакансий data специалистов с большим опытом.\n",
        "\n",
        "Преимущественно их ищет Банк ВТБ (ПАО), The Skolkovo Institute of Science and Technology, Comexp, Диплей    , СтарЛайн, Научно-производственное объединение, SteadyControl."
      ]
    },
    {
      "attachments": {},
      "cell_type": "markdown",
      "id": "f93f21cd",
      "metadata": {},
      "source": [
        "___\n",
        "\n",
        "Верхняя и нижняя граница средней заработной платы у Data специалистов"
      ]
    },
    {
      "cell_type": "code",
      "execution_count": 5,
      "id": "16e2c431",
      "metadata": {},
      "outputs": [
        {
          "data": {
            "text/html": [
              "<div>\n",
              "<style scoped>\n",
              "    .dataframe tbody tr th:only-of-type {\n",
              "        vertical-align: middle;\n",
              "    }\n",
              "\n",
              "    .dataframe tbody tr th {\n",
              "        vertical-align: top;\n",
              "    }\n",
              "\n",
              "    .dataframe thead th {\n",
              "        text-align: right;\n",
              "    }\n",
              "</style>\n",
              "<table border=\"1\" class=\"dataframe\">\n",
              "  <thead>\n",
              "    <tr style=\"text-align: right;\">\n",
              "      <th></th>\n",
              "      <th>salary_from</th>\n",
              "      <th>salary_to</th>\n",
              "    </tr>\n",
              "  </thead>\n",
              "  <tbody>\n",
              "    <tr>\n",
              "      <th>0</th>\n",
              "      <td>146804.521739</td>\n",
              "      <td>216355.772727</td>\n",
              "    </tr>\n",
              "  </tbody>\n",
              "</table>\n",
              "</div>"
            ],
            "text/plain": [
              "     salary_from      salary_to\n",
              "0  146804.521739  216355.772727"
            ]
          },
          "execution_count": 5,
          "metadata": {},
          "output_type": "execute_result"
        }
      ],
      "source": [
        "query = f'''select\n",
        "                avg(salary_from) salary_from, \n",
        "                avg(salary_to) salary_to\n",
        "            from\n",
        "                public.VACANCIES v\n",
        "                join public.employers e on v.employer_id = e.id\n",
        "            where \n",
        "                (lower(v.name) LIKE '%data scientist%'\n",
        "                or lower (v.name) LIKE '%data science%'\n",
        "                or lower (v.name) LIKE '%исследователь данных%'\n",
        "                or (v.name LIKE '%ML%' and v.name not LIKE '%HTML%')\n",
        "                or lower (v.name) LIKE '%machine learning%'\n",
        "                or lower (v.name) LIKE '%машинн%обучен%%')\n",
        "        '''\n",
        "               \n",
        "avg_salary_ds = pd.read_sql_query(query, connection)   \n",
        "avg_salary_ds"
      ]
    },
    {
      "attachments": {},
      "cell_type": "markdown",
      "id": "8aebf592",
      "metadata": {},
      "source": [
        "___\n",
        "\n",
        "Средняя заработная плата junior по работодателям"
      ]
    },
    {
      "cell_type": "code",
      "execution_count": 53,
      "id": "5e410084",
      "metadata": {},
      "outputs": [
        {
          "data": {
            "text/html": [
              "<div>\n",
              "<style scoped>\n",
              "    .dataframe tbody tr th:only-of-type {\n",
              "        vertical-align: middle;\n",
              "    }\n",
              "\n",
              "    .dataframe tbody tr th {\n",
              "        vertical-align: top;\n",
              "    }\n",
              "\n",
              "    .dataframe thead th {\n",
              "        text-align: right;\n",
              "    }\n",
              "</style>\n",
              "<table border=\"1\" class=\"dataframe\">\n",
              "  <thead>\n",
              "    <tr style=\"text-align: right;\">\n",
              "      <th></th>\n",
              "      <th>Название компании</th>\n",
              "      <th>Средняя ЗП</th>\n",
              "    </tr>\n",
              "  </thead>\n",
              "  <tbody>\n",
              "    <tr>\n",
              "      <th>0</th>\n",
              "      <td>Университет ИТМО</td>\n",
              "      <td>115000.0</td>\n",
              "    </tr>\n",
              "    <tr>\n",
              "      <th>1</th>\n",
              "      <td>ННФормат</td>\n",
              "      <td>98000.0</td>\n",
              "    </tr>\n",
              "    <tr>\n",
              "      <th>2</th>\n",
              "      <td>Апэрбот</td>\n",
              "      <td>80000.0</td>\n",
              "    </tr>\n",
              "    <tr>\n",
              "      <th>3</th>\n",
              "      <td>Строительный Двор</td>\n",
              "      <td>72500.0</td>\n",
              "    </tr>\n",
              "    <tr>\n",
              "      <th>4</th>\n",
              "      <td>DNS Головной офис</td>\n",
              "      <td>70000.0</td>\n",
              "    </tr>\n",
              "    <tr>\n",
              "      <th>5</th>\n",
              "      <td>Випакс+</td>\n",
              "      <td>60000.0</td>\n",
              "    </tr>\n",
              "    <tr>\n",
              "      <th>6</th>\n",
              "      <td>Улыбка радуги</td>\n",
              "      <td>50000.0</td>\n",
              "    </tr>\n",
              "    <tr>\n",
              "      <th>7</th>\n",
              "      <td>Theyr Ltd</td>\n",
              "      <td>50000.0</td>\n",
              "    </tr>\n",
              "    <tr>\n",
              "      <th>8</th>\n",
              "      <td>КБ Уральский банк реконструкции и развития (УБ...</td>\n",
              "      <td>37000.0</td>\n",
              "    </tr>\n",
              "  </tbody>\n",
              "</table>\n",
              "</div>"
            ],
            "text/plain": [
              "                                   Название компании  Средняя ЗП\n",
              "0                                   Университет ИТМО    115000.0\n",
              "1                                           ННФормат     98000.0\n",
              "2                                            Апэрбот     80000.0\n",
              "3                                  Строительный Двор     72500.0\n",
              "4                                  DNS Головной офис     70000.0\n",
              "5                                            Випакс+     60000.0\n",
              "6                                      Улыбка радуги     50000.0\n",
              "7                                          Theyr Ltd     50000.0\n",
              "8  КБ Уральский банк реконструкции и развития (УБ...     37000.0"
            ]
          },
          "execution_count": 53,
          "metadata": {},
          "output_type": "execute_result"
        }
      ],
      "source": [
        "query = f'''select \n",
        "                e.name \"Название компании\", avg((coalesce(salary_from, salary_to) + coalesce(salary_to,salary_from))/2) \"Средняя ЗП\"\n",
        "            from public.vacancies v\n",
        "                join public.employers e on v.employer_id = e.id\n",
        "            where\n",
        "                (lower(v.name) like '%data science%'    \n",
        "                or lower(v.name) like '%data scientist%' \n",
        "                or lower(v.name) like '%исследователь данных%'\n",
        "                or (lower(v.name) like '%ml%' and lower(v.name) not like '%html%')\n",
        "                or lower(v.name) like '%machine learning%'\n",
        "                or lower(v.name) like '%машинн%обучен%')\n",
        "    \n",
        "            and\n",
        "                (lower(experience) like '%нет опыта%'\n",
        "                or lower(v.name) like '%junior%'\n",
        "                or lower(employment) like '%стажировка%')\n",
        "    \n",
        "            and\n",
        "                (v.salary_from is not null or v.salary_to is not null)\n",
        "            group by e.name\n",
        "            order by \"Средняя ЗП\" desc\n",
        "        '''\n",
        "               \n",
        "avg_salary_ds_junior = pd.read_sql_query(query, connection)   \n",
        "avg_salary_ds_junior.head(10)"
      ]
    },
    {
      "attachments": {},
      "cell_type": "markdown",
      "id": "48d6f3f9",
      "metadata": {},
      "source": [
        "Из 34 организаций, которые ищут junior data специалистов, зарплату указывают только 8.  Но заработная плата у junior существенно выше чем средняя или медианная заработная плата в России."
      ]
    },
    {
      "attachments": {},
      "cell_type": "markdown",
      "id": "b5de939b",
      "metadata": {},
      "source": [
        "___\n",
        "\n",
        "Средняя заработная плата Data специалистов в зависимости от расположения."
      ]
    },
    {
      "cell_type": "code",
      "execution_count": 7,
      "id": "39fb1235",
      "metadata": {},
      "outputs": [
        {
          "data": {
            "text/html": [
              "<div>\n",
              "<style scoped>\n",
              "    .dataframe tbody tr th:only-of-type {\n",
              "        vertical-align: middle;\n",
              "    }\n",
              "\n",
              "    .dataframe tbody tr th {\n",
              "        vertical-align: top;\n",
              "    }\n",
              "\n",
              "    .dataframe thead th {\n",
              "        text-align: right;\n",
              "    }\n",
              "</style>\n",
              "<table border=\"1\" class=\"dataframe\">\n",
              "  <thead>\n",
              "    <tr style=\"text-align: right;\">\n",
              "      <th></th>\n",
              "      <th>Расположение</th>\n",
              "      <th>Средняя ЗП</th>\n",
              "    </tr>\n",
              "  </thead>\n",
              "  <tbody>\n",
              "    <tr>\n",
              "      <th>0</th>\n",
              "      <td>Кипр</td>\n",
              "      <td>300000.000000</td>\n",
              "    </tr>\n",
              "    <tr>\n",
              "      <th>1</th>\n",
              "      <td>Армения</td>\n",
              "      <td>268862.666667</td>\n",
              "    </tr>\n",
              "    <tr>\n",
              "      <th>2</th>\n",
              "      <td>Черногория</td>\n",
              "      <td>233794.000000</td>\n",
              "    </tr>\n",
              "    <tr>\n",
              "      <th>3</th>\n",
              "      <td>Турция</td>\n",
              "      <td>233794.000000</td>\n",
              "    </tr>\n",
              "    <tr>\n",
              "      <th>4</th>\n",
              "      <td>Сербия</td>\n",
              "      <td>233794.000000</td>\n",
              "    </tr>\n",
              "    <tr>\n",
              "      <th>5</th>\n",
              "      <td>Москва</td>\n",
              "      <td>207629.629630</td>\n",
              "    </tr>\n",
              "    <tr>\n",
              "      <th>6</th>\n",
              "      <td>Белгород</td>\n",
              "      <td>200000.000000</td>\n",
              "    </tr>\n",
              "    <tr>\n",
              "      <th>7</th>\n",
              "      <td>Санкт-Петербург</td>\n",
              "      <td>173335.142857</td>\n",
              "    </tr>\n",
              "    <tr>\n",
              "      <th>8</th>\n",
              "      <td>Новосибирск</td>\n",
              "      <td>166333.333333</td>\n",
              "    </tr>\n",
              "    <tr>\n",
              "      <th>9</th>\n",
              "      <td>Рязань</td>\n",
              "      <td>136666.666667</td>\n",
              "    </tr>\n",
              "    <tr>\n",
              "      <th>10</th>\n",
              "      <td>Королев</td>\n",
              "      <td>130000.000000</td>\n",
              "    </tr>\n",
              "    <tr>\n",
              "      <th>11</th>\n",
              "      <td>Екатеринбург</td>\n",
              "      <td>124000.000000</td>\n",
              "    </tr>\n",
              "    <tr>\n",
              "      <th>12</th>\n",
              "      <td>Алматы</td>\n",
              "      <td>94586.500000</td>\n",
              "    </tr>\n",
              "    <tr>\n",
              "      <th>13</th>\n",
              "      <td>Уфа</td>\n",
              "      <td>90000.000000</td>\n",
              "    </tr>\n",
              "    <tr>\n",
              "      <th>14</th>\n",
              "      <td>Владивосток</td>\n",
              "      <td>85000.000000</td>\n",
              "    </tr>\n",
              "  </tbody>\n",
              "</table>\n",
              "</div>"
            ],
            "text/plain": [
              "       Расположение     Средняя ЗП\n",
              "0              Кипр  300000.000000\n",
              "1           Армения  268862.666667\n",
              "2        Черногория  233794.000000\n",
              "3            Турция  233794.000000\n",
              "4            Сербия  233794.000000\n",
              "5            Москва  207629.629630\n",
              "6          Белгород  200000.000000\n",
              "7   Санкт-Петербург  173335.142857\n",
              "8       Новосибирск  166333.333333\n",
              "9            Рязань  136666.666667\n",
              "10          Королев  130000.000000\n",
              "11     Екатеринбург  124000.000000\n",
              "12           Алматы   94586.500000\n",
              "13              Уфа   90000.000000\n",
              "14      Владивосток   85000.000000"
            ]
          },
          "execution_count": 7,
          "metadata": {},
          "output_type": "execute_result"
        }
      ],
      "source": [
        "query = f'''select\n",
        "                a.name \"Расположение\", \n",
        "                avg((coalesce(salary_from, salary_to) + coalesce(salary_to,salary_from))/2) \"Средняя ЗП\"\n",
        "            from\n",
        "                public.VACANCIES v\n",
        "                join public.areas a on v.area_id = a.id\n",
        "            where (lower(v.name) LIKE '%data scientist%'\n",
        "                or lower (v.name) LIKE '%data science%'\n",
        "                or lower (v.name) LIKE '%исследователь данных%'\n",
        "                or (v.name LIKE '%ML%' and v.name not LIKE '%HTML%')\n",
        "                or lower (v.name) LIKE '%machine learning%'\n",
        "                or lower (v.name) LIKE '%машинн%обучен%%')\n",
        "                and\n",
        "                (salary_from is not null or salary_to is not null)\n",
        "            group by a.name\n",
        "            order by \"Средняя ЗП\" desc\n",
        "        '''\n",
        "               \n",
        "ds_area_salary = pd.read_sql_query(query, connection)\n",
        "ds_area_salary.head(15)"
      ]
    },
    {
      "cell_type": "code",
      "execution_count": 9,
      "id": "bd21b16f",
      "metadata": {},
      "outputs": [
        {
          "data": {
            "text/plain": [
              "259112.6666666667"
            ]
          },
          "execution_count": 9,
          "metadata": {},
          "output_type": "execute_result"
        }
      ],
      "source": [
        "sum(ds_area_salary.iloc[0:4,1])/len(ds_area_salary.iloc[0:4,1])"
      ]
    },
    {
      "attachments": {},
      "cell_type": "markdown",
      "id": "7ca5b890",
      "metadata": {},
      "source": [
        "Средняя заработная плата Data специалистов в Москве - самая большая в России, но в компаниях, располагающихся за рубежом встречаются зарплаты сильно выше.\n",
        "\n",
        "С высокой долей вероятности, учитывая географию зарубежных вакансий, данные вакансии размещены компаниями, которые когда-то релоцировались из России."
      ]
    },
    {
      "attachments": {},
      "cell_type": "markdown",
      "id": "59e16192",
      "metadata": {},
      "source": [
        "___\n",
        "На основе имеющихся данных можно сделать следующие выводы:\n",
        "\n",
        "<br>\n",
        "\n",
        "Представленные вакансии имеют существенно более высокую заработную плату по сравнению с\n",
        "медианной ЗП в России, которая в 2021 году составляла 35000 рублей. Для сравнения нижняя граница средней ЗП в вакансиях равна 71065. Верхняя граница 110537. При этом нижняя граница средней зарплаты Data специалистов равна 146805 руб. Верхняя граница 216356 руб.\n",
        "\n",
        "Работа в сфере Data scince оплачивается очень высоко даже в сравнении с другими IT специальностями. Начинающий дата аналитик может рассчитывать на ЗП в районе 74643 руб. С опытом от 1 до 3 лет средняя ЗП вырастает на 87% до 139675.  С опытом от 3 до 5 лет средняя ЗП вырастает еще на 74 % до 243115 руб.\n",
        "\n",
        "Средняя заработная плата Data специалистов в Москве - самая большая в России, но в компаниях, располагающихся за рубежом встречаются зарплаты сильно выше. Для сравнения средняя ЗП data специалиста в Москве 207629 руб. Но средняя ЗП в зарубежных компаниях, стоящих выше в сортировке по ЗП, составила 259113 руб.\n",
        "\n",
        "Учитывая географию этих вакансий, и тот факт, что они ищут русских специалистов на российской площадке, данные вакансии размещены компаниями, которые когда-то релоцировались из России. Что указывает на дополнительные перспективы в данной работе.\n",
        "\n",
        "<br>\n",
        "\n",
        "Абсолютное большинство из 49197 вакансий это полная занятость и полный рабочий день (35367 вакансий) либо полная занятость удаленная работа (7802 вакансий). Все остальные варианты сочетаний типов трудоустройства и типов рабочего графика встречаются во много раз реже.\n",
        "\n",
        "Самое большое количество вакансий относятся к столицам и большим городам. Как пример, топ 5 городов по количеству вакансий: Москве 5333, Санкт-Петербург 2851, Минск 2112, Новосибирск 2006, Алматы 1892.\n",
        "\n",
        "Распределение по городам вакансий Data специалистов отличается от общего числа вакансий. Так основное количество вакансий DS располагается в Москве и крупных городах. Как пример, топ 5 городов по количеству вакансий DS: Москва 217, Санкт-Петербург 64, Новосибирск 23, Нижний Новгород 20, Казань 16.\n",
        "\n",
        "Запрос количества вакансий DS по компаниям не показал четкой взаимосвязи между компаниями, что может говорить о том, что data специалисты востребованы в большинстве IT компаний.\n",
        "\n",
        "<br>\n",
        "\n",
        "Вакансий Junior data специалистов в несколько раз меньше чем вакансий data специалистов с опытом от 1 года. И ,несмотря на то, что основная масса вакансий, это специалисты с небольшим опытом работы, главной проблемой может стать нахождение перовой работы, которая позволит получить опыт от 1 года.\n",
        "\n",
        "Из 34 организаций, которые ищут junior data специалистов, зарплату указывают только 8. Что может свидетельствовать о том, что условия по зарплате у Junior DS могут сильно варьироваться.\n",
        "\n",
        "<br>\n",
        "\n",
        "Отдельно очень любопытные данные по требованиям к ключевым навыкам. Несмотря на то что в среднем в вакансии присутствует 6-7 ключевых навыков, из 1771 DS вакансий, только 351 (20%) вакансия имела требования к знанию python, и только 201 (11%) вакансия имела требования к знанию SQL или postgress. При чем часть этих вакансий не имела отношения к DS специальностям. Что внушает сомнения в релевантности данных из столбца key_skills."
      ]
    },
    {
      "cell_type": "markdown",
      "id": "568ff5f0",
      "metadata": {},
      "source": []
    }
  ],
  "metadata": {
    "colab": {
      "collapsed_sections": [
        "8d62a9f3-f64e-4fe7-bdac-c4dffa16155e"
      ],
      "provenance": []
    },
    "kernelspec": {
      "display_name": "Python 3.9.13 64-bit",
      "language": "python",
      "name": "python3"
    },
    "language_info": {
      "codemirror_mode": {
        "name": "ipython",
        "version": 3
      },
      "file_extension": ".py",
      "mimetype": "text/x-python",
      "name": "python",
      "nbconvert_exporter": "python",
      "pygments_lexer": "ipython3",
      "version": "3.9.13"
    },
    "vscode": {
      "interpreter": {
        "hash": "548c83946ac6174562a34cd30bb3bf23deaa49d6c7797d22dea96cb05ee08127"
      }
    }
  },
  "nbformat": 4,
  "nbformat_minor": 5
}
