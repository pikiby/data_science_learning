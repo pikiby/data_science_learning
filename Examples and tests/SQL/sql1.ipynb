{
 "cells": [
  {
   "cell_type": "markdown",
   "metadata": {},
   "source": [
    "Sql"
   ]
  },
  {
   "cell_type": "markdown",
   "metadata": {},
   "source": [
    "https://tproger.ru/translations/sql-nosql-database-models/"
   ]
  },
  {
   "cell_type": "markdown",
   "metadata": {},
   "source": [
    "PostgreSQL\n",
    "\n",
    "https://postgrespro.ru/docs/postgresql/11/index.html\n",
    "\n",
    "https://www.postgresql.org/docs/11/index.html"
   ]
  },
  {
   "cell_type": "markdown",
   "metadata": {},
   "source": [
    "Математические функции и операторы\n",
    "https://postgrespro.ru/docs/postgresql/11/functions-math"
   ]
  },
  {
   "cell_type": "markdown",
   "metadata": {},
   "source": [
    "Metabase"
   ]
  },
  {
   "cell_type": "code",
   "execution_count": null,
   "metadata": {},
   "outputs": [],
   "source": []
  },
  {
   "attachments": {},
   "cell_type": "markdown",
   "metadata": {},
   "source": [
    "## Струтура\n",
    "\n",
    "SELECT \n",
    "    \n",
    "        [ALL | DISTINCT] список_столбцов|*\n",
    "\n",
    "FROM \n",
    "\n",
    "        список_имён_таблиц\n",
    "\n",
    "WHERE  \n",
    "\n",
    "        условие_поиска\n",
    "\n",
    "GROUP BY \n",
    "\n",
    "        список_имён_столбцов\n",
    "\n",
    "HAVING \n",
    "\n",
    "        условие_поиска\n",
    "\n",
    "ORDER BY\n",
    "\n",
    "        имя_столбца [ASC | DESC],…"
   ]
  },
  {
   "attachments": {},
   "cell_type": "markdown",
   "metadata": {},
   "source": [
    "___\n",
    "### OFFSET 1 LIMIT 2 WHERE"
   ]
  },
  {
   "attachments": {},
   "cell_type": "markdown",
   "metadata": {},
   "source": [
    "SELECT\n",
    "        \n",
    "        столбец1 AS новое_название,\n",
    "        столбец2,\n",
    "        столбец3\n",
    "\n",
    "FROM таблица\n",
    "\n",
    "WHERE (условие1 OR условие2)\n",
    "\n",
    "        AND условие3\n",
    "\n",
    "ORDER BY сортировка1, сортировка2\n",
    "\n",
    "OFFSET 1 LIMIT 2"
   ]
  },
  {
   "attachments": {},
   "cell_type": "markdown",
   "metadata": {},
   "source": [
    "___\n",
    "### LIKE 'А%'"
   ]
  },
  {
   "attachments": {},
   "cell_type": "markdown",
   "metadata": {},
   "source": [
    "SELECT \n",
    "\n",
    "        *\n",
    "\n",
    "FROM \n",
    "\n",
    "        sql.kinopoisk\n",
    "\n",
    "WHERE \n",
    "\n",
    "        movie_title LIKE 'А%'"
   ]
  },
  {
   "attachments": {},
   "cell_type": "markdown",
   "metadata": {},
   "source": [
    "___\n",
    "### lower"
   ]
  },
  {
   "attachments": {},
   "cell_type": "markdown",
   "metadata": {},
   "source": [
    "select \n",
    "\n",
    "        count(id)\n",
    "\n",
    "from \n",
    "\n",
    "        public.vacancies \n",
    "\n",
    "where \n",
    "\n",
    "        lower(name) like '%data%' or lower(name) like '%данн%'"
   ]
  },
  {
   "attachments": {},
   "cell_type": "markdown",
   "metadata": {},
   "source": [
    "___\n",
    "### BETWEEN"
   ]
  },
  {
   "attachments": {},
   "cell_type": "markdown",
   "metadata": {},
   "source": [
    "\n",
    "SELECT\n",
    "\n",
    "        movie_title \"Название фильма\",\n",
    "        director \"Режиссёр\",\n",
    "        screenwriter \"Сценарист\",\n",
    "        actors \"Актёры\"\n",
    "\n",
    "FROM sql.kinopoisk\n",
    "\n",
    "WHERE (rating BETWEEN 8 AND 8.5 OR year < 1990)\n",
    "\n",
    "        AND overview IS NOT NULL\n",
    "        AND movie_title NOT LIKE 'Т%'\n",
    "        AND movie_title LIKE '____________'\n",
    "\n",
    "ORDER BY rating DESC\n",
    "\n",
    "LIMIT 7"
   ]
  },
  {
   "attachments": {},
   "cell_type": "markdown",
   "metadata": {},
   "source": [
    "SELECT /*выбор*/\n",
    "\n",
    "        type1 AS primary_type, /*столбец type1; присвоить алиас primary_type*/\n",
    "        type2 AS additional_type, /*столбец type2; присвоить алиас additional_type*/\n",
    "        COUNT(*) AS pokemon_count /*подсчёт всех строк присвоить алиас pokemon_count*/\n",
    "\n",
    "FROM \n",
    "\n",
    "        sql.pokemon /*из таблицы sql.pokemon*/\n",
    "GROUP BY 1, 2 /*группировка по столбцам 1 и 2*/\n",
    "ORDER BY 1, 2 NULLS FIRST /*сортировка по столбцам 1 и 2; сначала нули*/"
   ]
  },
  {
   "attachments": {},
   "cell_type": "markdown",
   "metadata": {},
   "source": [
    "___\n",
    "### DISTINCT"
   ]
  },
  {
   "attachments": {},
   "cell_type": "markdown",
   "metadata": {},
   "source": [
    "SELECT DISTINCT\n",
    "\n",
    "        type1\n",
    "    \n",
    "FROM sql.pokemon"
   ]
  },
  {
   "attachments": {},
   "cell_type": "markdown",
   "metadata": {},
   "source": [
    "___\n",
    "### Агрегаторы\n",
    "\n",
    "COUNT — вычисляет число непустых строк;\n",
    "<br>SUM — вычисляет сумму;\n",
    "<br>AVG — вычисляет среднее;\n",
    "<br>MAX — вычисляет максимум;\n",
    "<br>MIN — вычисляет минимум.\n",
    "\n",
    "SELECT /*выбор*/\n",
    "\n",
    "        COUNT(*) AS \"всего травяных покемонов\", /*подсчёт всех строк; назначить алиас \"всего травяных покемонов\"*/\n",
    "\n",
    "        COUNT(type2) AS \"покемонов с дополнительным типом\", /*подсчёт непустых строк в столбце type2; назначить алиас \"покемонов с дополнительным типом\"*/\n",
    "\n",
    "        AVG(attack) AS \"средняя атака\", /*среднее значение столбца attack; назначить алиас \"средняя атака\"*/\n",
    "\n",
    "        AVG(defense) AS \"средняя защита\" /*среднее значение столбца defense; назначить алиас \"средняя защита\"*/\n",
    "\n",
    "FROM sql.pokemon /*из таблицы sql.pokemon*/\n",
    "\n",
    "WHERE type1 = 'Grass'/*при условии, что значение столбца type1 содержит grass*/"
   ]
  },
  {
   "attachments": {},
   "cell_type": "markdown",
   "metadata": {},
   "source": [
    "___\n",
    "### Алиас\n",
    "\n",
    "\n",
    "SELECT\n",
    "\n",
    "        m.id match_id,\n",
    "    \n",
    "        t.id team_id\n",
    "\n",
    "FROM\n",
    "\n",
    "        sql.matches m\n",
    "\n",
    "        join sql.teams t on t.api_id = m.home_team_api_id\n",
    "\n",
    "ORDER BY 1"
   ]
  },
  {
   "attachments": {},
   "cell_type": "markdown",
   "metadata": {},
   "source": [
    "SELECT\n",
    "\n",
    "        h.long_name \"домашняя команда\",\n",
    "\n",
    "        m.home_team_goals \"голы домашней команды\",\n",
    "\n",
    "        m.away_team_goals \"голы гостевой команды\",\n",
    "\n",
    "        a.long_name \"гостевая команда\" \n",
    "\n",
    "FROM\n",
    "\n",
    "        sql.matches m\n",
    "\n",
    "        JOIN sql.teams h ON m.home_team_api_id = h.api_id\n",
    "    \n",
    "        JOIN sql.teams a ON m.away_team_api_id = a.api_id"
   ]
  },
  {
   "attachments": {},
   "cell_type": "markdown",
   "metadata": {},
   "source": [
    "___\n",
    "SELECT\n",
    "\n",
    "        t.long_name,\n",
    "        SUM(m.away_team_goals) total_goals\n",
    "FROM\n",
    "\n",
    "        sql.teams t\n",
    "        LEFT JOIN sql.matches m ON t.api_id = m.away_team_api_id\n",
    "GROUP BY t.id\n",
    "\n",
    "ORDER BY 2 DESC"
   ]
  },
  {
   "attachments": {},
   "cell_type": "markdown",
   "metadata": {},
   "source": [
    "JOIN<br>\n",
    "LEFT JOIN<br>\n",
    "RIGHT JOIN<br> \n",
    "FULL OUTER JOIN<br>\n",
    "CROSS JOIN "
   ]
  },
  {
   "attachments": {},
   "cell_type": "markdown",
   "metadata": {},
   "source": [
    "NATURAL JOIN<br>\n",
    "(Когда у таблиц есть несколько столбцов с одинаковыми именами, при NATURAL JOIN условие соединения будет применено на все столбцы с одинаковыми именами.)"
   ]
  },
  {
   "cell_type": "markdown",
   "metadata": {},
   "source": []
  },
  {
   "attachments": {},
   "cell_type": "markdown",
   "metadata": {},
   "source": [
    "___\n",
    "### UNION\n",
    "\n",
    "SELECT\n",
    "\n",
    "        d.first_name,\n",
    "        d.last_name,\n",
    "        'телефон заполнен' phone_info\n",
    "FROM\n",
    "\n",
    "         sql.driver d\n",
    "WHERE d.phone IS NOT NULL\n",
    "\n",
    "UNION\n",
    "\n",
    "SELECT\n",
    "\n",
    "        d.first_name,\n",
    "        d.last_name,\n",
    "        'телефон не заполнен' phone_info\n",
    "FROM\n",
    "\n",
    "         sql.driver d\n",
    "WHERE d.phone IS NULL"
   ]
  },
  {
   "attachments": {},
   "cell_type": "markdown",
   "metadata": {},
   "source": [
    "___\n",
    "(SELECT \n",
    "\n",
    "        book_name object_name, 'книга' object_descritption \n",
    "\n",
    "FROM \n",
    "\n",
    "        public.books\n",
    "\n",
    "ORDER BY 1\n",
    "\n",
    "LIMIT 1)\n",
    "\n",
    "UNION ALL\n",
    "\n",
    "(SELECT \n",
    "\n",
    "        movie_title, 'фильм' \n",
    "\n",
    "FROM \n",
    "\n",
    "        sql.kinopoisk\n",
    "\n",
    "ORDER BY 1\n",
    "\n",
    "LIMIT 1)"
   ]
  },
  {
   "attachments": {},
   "cell_type": "markdown",
   "metadata": {},
   "source": [
    "___\n",
    "SELECT \n",
    "\n",
    "         N columns\n",
    "FROM \n",
    "\n",
    "         table_1\n",
    "\n",
    "UNION / UNION ALL / EXCEPT / INTERSECT \n",
    "\n",
    "SELECT \n",
    "\n",
    "         N columns\n",
    "FROM \n",
    "\n",
    "         table_2"
   ]
  },
  {
   "attachments": {},
   "cell_type": "markdown",
   "metadata": {},
   "source": [
    "___\n",
    "EXCEPT - оставляет записи первого запроса, за исключением тех, которые встречаются во втором\n",
    "\n",
    "INTERSECT - оставляет только те записи, которые встречаются и в первом и втором\n",
    "\n",
    "Как EXCEPT, так и INTERSECT убирают дубликаты, если они имеются."
   ]
  },
  {
   "attachments": {},
   "cell_type": "markdown",
   "metadata": {},
   "source": [
    "___\n",
    "### Типы данных в PostgreSQL\n",
    "\n",
    "https://postgrespro.ru/docs/postgresql/9.5/ddl-constraints\n",
    "\n",
    "https://postgrespro.ru/docs/postgrespro/9.5/datatype"
   ]
  },
  {
   "attachments": {},
   "cell_type": "markdown",
   "metadata": {},
   "source": [
    "___\n",
    "### TIMESTAMP\n",
    "\n",
    "функции\n",
    "\n",
    "SELECT NOW() \n",
    "\n",
    "SELECT CURRENT_TIMESTAMP.\n",
    "\n",
    "select now() at time zone 'Europe/Moscow'\n",
    "\n",
    "select CURRENT_DATE\n",
    "\n",
    "select now()::date\n",
    "\n"
   ]
  },
  {
   "attachments": {},
   "cell_type": "markdown",
   "metadata": {},
   "source": [
    "___\n",
    "### to_char\n",
    "\n",
    "to_char(timestamp[date],text) преобразует время в текст\n",
    "\n",
    "to_char(current_timestamp, 'HH12:MI:SS')\n",
    "\n",
    "Код форматирования\tОписание<br>\n",
    "HH24\tчас (00-23)<br>\n",
    "MI\tминута (00-59)<br>\n",
    "SS\tсекунда (00-59)<br>\n",
    "MS\tмиллисекунда (000-999)<br>\n",
    "SSSS\tчисло секунд с начала суток (0-86399)<br>\n",
    "YYYY\tгод (4 или более цифр)<br>\n",
    "YY\tпоследние две цифры года<br>\n",
    "month\tполное название месяца в нижнем регистре (дополненное пробелами до девяти символов)<br>\n",
    "MM\tномер месяца (01-12)<br>\n",
    "day\tполное название дня недели в нижнем регистре, дополненное пробелами до девяти символов<br>\n",
    "DDD\tномер дня в году (001-366)<br>\n",
    "DD\tдень месяца (01-31)<br>\n",
    "ID\tномер дня недели по ISO 8601, считая с понедельника (1) до воскресенья (7)<br>\n",
    "WW\tномер недели в году (1-53); первая неделя начинается в первый день года\n",
    "\n",
    "select to_char(now(),'\"Hello! Today is\" DAY yyyy-Mon-dd')\n"
   ]
  },
  {
   "attachments": {},
   "cell_type": "markdown",
   "metadata": {},
   "source": [
    "### EXTRACT\n",
    "\n",
    "SELECT EXTRACT(DAY FROM TIMESTAMP '2001-02-16 20:38:40')\n",
    "\n",
    "Результат: 16\n",
    "\n",
    "SELECT EXTRACT(DAY FROM INTERVAL '40 days 1 minute')\n",
    "\n",
    "Результат: 40\n",
    "\n",
    "SELECT EXTRACT(HOUR FROM TIMESTAMP '2001-02-16 20:38:40')\n",
    "\n",
    "Результат: 20\n",
    "\n",
    "SELECT EXTRACT(MONTH FROM TIMESTAMP '2001-02-16 20:38:40')\n",
    "\n",
    "Результат: 2\n",
    "\n",
    "SELECT EXTRACT(YEAR FROM TIMESTAMP '2001-02-16 20:38:40')\n",
    "\n",
    "Результат: 2001\n",
    "\n",
    "SELECT EXTRACT(ISOYEAR FROM DATE '2006-01-01')\n",
    "\n",
    "Результат: 2005\n",
    "\n",
    "SELECT EXTRACT(ISOYEAR FROM DATE '2006-01-02')\n",
    "\n",
    "Результат: 2006\n",
    "\n",
    "SELECT EXTRACT(WEEK FROM TIMESTAMP '2001-02-16 20:38:40')\n",
    "\n",
    "Результат: 7\n",
    "\n",
    "SELECT EXTRACT(CENTURY FROM TIMESTAMP '2000-12-16 12:21:13')\n",
    "\n",
    "Результат: 20\n",
    "\n",
    "SELECT EXTRACT(CENTURY FROM TIMESTAMP '2001-02-16 20:38:40')\n",
    "\n",
    "Результат: 21\n",
    "\n",
    "SELECT EXTRACT(DECADE FROM TIMESTAMP '2001-02-16 20:38:40')\n",
    "\n",
    "Результат: 200\n",
    "\n",
    "SELECT EXTRACT(EPOCH FROM TIMESTAMP WITH TIME ZONE\n",
    "'2001-02-16 20:38:40.12-08')\n",
    "\n",
    "Результат: 982384720.12\n",
    "\n",
    "SELECT EXTRACT(DOW FROM TIMESTAMP '2001-02-16 20:38:40')\n",
    "\n",
    "Результат: 442800\n",
    "\n",
    "SELECT to_timestamp(982384720.12);\n",
    "\n",
    "Результат: 2001-02-17 04:38:40.12+00\n",
    "\n",
    "SELECT EXTRACT(DOY FROM TIMESTAMP '2001-02-16 20:38:40')\n",
    "\n",
    "Результат: 5\n",
    "\n",
    "SELECT EXTRACT(ISODOW FROM TIMESTAMP '2001-02-18 20:38:40')\n",
    "\n",
    "Результат: 47\n",
    "\n",
    "SELECT EXTRACT(ISODOW FROM TIMESTAMP '2001-02-18 20:38:40');\n",
    "\n",
    "Результат: 7"
   ]
  },
  {
   "attachments": {},
   "cell_type": "markdown",
   "metadata": {},
   "source": [
    "### DATE_TRUNC()\n",
    "\n",
    " select date_trunc('minute',now())\n",
    "\n",
    " * microseconds;\n",
    " * milliseconds;\n",
    " * second;\n",
    " * minute;\n",
    " * hour;\n",
    " * day;\n",
    " * week;\n",
    " * month;\n",
    " * quarter;\n",
    " * year;\n",
    " * decade;\n",
    " * century;\n",
    " * millennium."
   ]
  },
  {
   "attachments": {},
   "cell_type": "markdown",
   "metadata": {},
   "source": [
    "МАТЕМАТИЧЕСКИЕ ОПЕРАТОРЫ\n",
    "\n",
    "select '2019-01-01'::date + 10\n",
    "\n",
    "select '2019-01-01'::date + 500\n",
    "\n",
    "select '2019-02-10'::date - '2017-03-01'::date"
   ]
  },
  {
   "attachments": {},
   "cell_type": "markdown",
   "metadata": {},
   "source": [
    "CHARACTER\n",
    "\n",
    "character(5) всегда будет пять символов\n",
    "\n",
    "character varying(5) нельзя будет хранить строку большей длины\n",
    "\n",
    "TEXT Cтрока неограниченной длины."
   ]
  },
  {
   "attachments": {},
   "cell_type": "markdown",
   "metadata": {},
   "source": [
    "### Оператор конкатенации строк — ||\n",
    "\n",
    "select \n",
    "\n",
    "        'select * from '||t.table_schema||'.'||t.table_name||';' query\n",
    "\n",
    "from information_schema.tables t\n",
    "\n",
    "where table_schema = 'shipping'"
   ]
  },
  {
   "attachments": {},
   "cell_type": "markdown",
   "metadata": {},
   "source": [
    "### UPPER() И LOWER()\n",
    "\n",
    "select upper('Abc') s1 ,lower('xYz') s2"
   ]
  },
  {
   "attachments": {},
   "cell_type": "markdown",
   "metadata": {},
   "source": [
    "### replace()\n",
    "\n",
    "select replace('малако','а','о')"
   ]
  },
  {
   "attachments": {},
   "cell_type": "markdown",
   "metadata": {},
   "source": [
    "### LEFT() И RIGHT()\n",
    "\n",
    "Функции left(string,n) и right(string,n) возвращает n левых или правых символов от строки\n",
    "\n",
    "with t as (select 'Один два три'::text sample_string)<br>\n",
    "select \n",
    "\n",
    "        left(t.sample_string,4) one,\n",
    "        right(left(t.sample_string,8),3) two,\n",
    "        right(t.sample_string,3) three\n",
    "\n",
    "from t"
   ]
  },
  {
   "attachments": {},
   "cell_type": "markdown",
   "metadata": {},
   "source": [
    "### FORMAT()\n",
    "\n",
    "select format('Hello, %s!', d.first_name) from shipping.driver d\n",
    "\n",
    "Комбинация символов %s обозначает, что вместо них будет подставлен один из аргументов, причём в том же порядке, что и в исходном столбце."
   ]
  },
  {
   "attachments": {},
   "cell_type": "markdown",
   "metadata": {},
   "source": [
    "### coalesce\n",
    "\n",
    "select\n",
    "\n",
    "        experience, \n",
    "        avg((coalesce(salary_from, salary_to) + coalesce(salary_to,salary_from))/2)\n",
    "\n",
    "from\n",
    "    \n",
    "        public.VACANCIES v /*из таблицы вакансий*/\n",
    "\n",
    "where (lower(v.name) LIKE '%data scientist%'\n",
    "    \n",
    "        or lower (v.name) LIKE '%data science%'\n",
    "        or lower (v.name) LIKE '%исследователь данных%'\n",
    "        or (v.name LIKE '%ML%' and v.name not LIKE '%HTML%')\n",
    "        or lower (v.name) LIKE '%machine learning%'\n",
    "        or lower (v.name) LIKE '%машинн%обучен%%')  \n",
    "        and\n",
    "        (salary_from is not null or salary_to is not null)\n",
    "\n",
    "group by experience"
   ]
  },
  {
   "attachments": {},
   "cell_type": "markdown",
   "metadata": {},
   "source": [
    "### LENGTH\n",
    "\n",
    "SELECT\n",
    "\n",
    "        AVG(LENGTH(v.key_skills) - LENGTH(replace(v.key_skills, CHR(9), '')) +1)\n",
    "\n",
    "FROM\n",
    "\n",
    "        public.VACANCIES v /*из таблицы вакансий*/\n",
    "\n",
    "where \n",
    "\n",
    "        (lower(v.name) LIKE '%data scientist%'\n",
    "         or lower (v.name) LIKE '%data science%'\n",
    "        or lower (v.name) LIKE '%исследователь данных%'\n",
    "        or (v.name LIKE '%ML%' and v.name not LIKE '%HTML%')\n",
    "        or lower (v.name) LIKE '%machine learning%'\n",
    "        or lower (v.name) LIKE '%машинн%обучен%%')\n",
    "        and \n",
    "        v.key_skills is not NULl"
   ]
  },
  {
   "cell_type": "markdown",
   "metadata": {},
   "source": [
    "Для подключения нам потребуются следующие данные:\n",
    "\n",
    "dbname — название базы, к которой нужно подключиться;\n",
    "\n",
    "user — имя пользователя в СУБД;\n",
    "\n",
    "password — пароль;\n",
    "\n",
    "host — адрес, по которому нужно подключиться;\n",
    "\n",
    "port — порт, к которому нужно подключиться (по умолчанию равен 5432)."
   ]
  },
  {
   "cell_type": "code",
   "execution_count": null,
   "metadata": {},
   "outputs": [],
   "source": [
    "import pandas as pd\n",
    "import psycopg2\n",
    "import warnings\n",
    "\n",
    "warnings.filterwarnings('ignore')"
   ]
  },
  {
   "cell_type": "code",
   "execution_count": null,
   "metadata": {},
   "outputs": [],
   "source": [
    "DBNAME = '...'\n",
    "USER = '...'\n",
    "PASSWORD = '...'\n",
    "HOST = '...'\n",
    "PORT = ..."
   ]
  },
  {
   "cell_type": "code",
   "execution_count": null,
   "metadata": {},
   "outputs": [],
   "source": [
    "connection = psycopg2.connect(\n",
    "    dbname=DBNAME,\n",
    "    user=USER,\n",
    "    host=HOST,\n",
    "    password=PASSWORD,\n",
    "    port=PORT\n",
    ")"
   ]
  },
  {
   "cell_type": "code",
   "execution_count": null,
   "metadata": {},
   "outputs": [],
   "source": [
    "query = f'''SELECT *\n",
    "            FROM sql.kinopoisk\n",
    "             '''\n",
    "request = pd.read_sql_query(query, connection)"
   ]
  }
 ],
 "metadata": {
  "kernelspec": {
   "display_name": "Python 3.9.13 64-bit",
   "language": "python",
   "name": "python3"
  },
  "language_info": {
   "codemirror_mode": {
    "name": "ipython",
    "version": 3
   },
   "file_extension": ".py",
   "mimetype": "text/x-python",
   "name": "python",
   "nbconvert_exporter": "python",
   "pygments_lexer": "ipython3",
   "version": "3.9.13 (tags/v3.9.13:6de2ca5, May 17 2022, 16:36:42) [MSC v.1929 64 bit (AMD64)]"
  },
  "orig_nbformat": 4,
  "vscode": {
   "interpreter": {
    "hash": "548c83946ac6174562a34cd30bb3bf23deaa49d6c7797d22dea96cb05ee08127"
   }
  }
 },
 "nbformat": 4,
 "nbformat_minor": 2
}
