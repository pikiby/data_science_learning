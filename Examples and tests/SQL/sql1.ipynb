{
 "cells": [
  {
   "cell_type": "markdown",
   "metadata": {},
   "source": [
    "Sql"
   ]
  },
  {
   "cell_type": "markdown",
   "metadata": {},
   "source": [
    "https://tproger.ru/translations/sql-nosql-database-models/"
   ]
  },
  {
   "cell_type": "markdown",
   "metadata": {},
   "source": [
    "PostgreSQL\n",
    "\n",
    "https://postgrespro.ru/docs/postgresql/11/index.html\n",
    "\n",
    "https://www.postgresql.org/docs/11/index.html"
   ]
  },
  {
   "cell_type": "markdown",
   "metadata": {},
   "source": [
    "Metabase"
   ]
  },
  {
   "cell_type": "markdown",
   "metadata": {},
   "source": [
    "SELECT *\n",
    "\n",
    "FROM sql.kinopoisk"
   ]
  },
  {
   "cell_type": "markdown",
   "metadata": {},
   "source": [
    "SELECT\n",
    "\n",
    "    movie_title,\n",
    "\n",
    "    2020 - year,\n",
    "\n",
    "    rating\n",
    "    \n",
    "FROM sql.kinopoisk"
   ]
  },
  {
   "cell_type": "markdown",
   "metadata": {},
   "source": [
    "SELECT\n",
    "\n",
    "    director,\n",
    "\n",
    "    movie_title,\n",
    "\n",
    "    10 - rating AS difference\n",
    "    \n",
    "FROM sql.kinopoisk"
   ]
  },
  {
   "cell_type": "markdown",
   "metadata": {},
   "source": [
    "Математические функции и операторы\n",
    "https://postgrespro.ru/docs/postgresql/11/functions-math"
   ]
  },
  {
   "cell_type": "markdown",
   "metadata": {},
   "source": []
  },
  {
   "cell_type": "markdown",
   "metadata": {},
   "source": [
    "SELECT\n",
    "\n",
    "    столбец1 AS новое_название,\n",
    "\n",
    "    столбец2,\n",
    "\n",
    "    столбец3\n",
    "\n",
    "FROM таблица\n",
    "\n",
    "WHERE (условие1 OR условие2)\n",
    "\n",
    "    AND условие3\n",
    "\n",
    "ORDER BY сортировка1, сортировка2\n",
    "\n",
    "OFFSET 1 LIMIT 2"
   ]
  },
  {
   "cell_type": "markdown",
   "metadata": {},
   "source": [
    "\n",
    "SELECT\n",
    "\n",
    "    movie_title \"Название фильма\",\n",
    "\n",
    "    director \"Режиссёр\",\n",
    "\n",
    "    screenwriter \"Сценарист\",\n",
    "    \n",
    "    actors \"Актёры\"\n",
    "\n",
    "FROM sql.kinopoisk\n",
    "\n",
    "WHERE (rating BETWEEN 8 AND 8.5 OR year < 1990)\n",
    "\n",
    "    AND overview IS NOT NULL\n",
    "\n",
    "    AND movie_title NOT LIKE 'Т%'\n",
    "\n",
    "    AND movie_title LIKE '____________'\n",
    "\n",
    "ORDER BY rating DESC\n",
    "\n",
    "LIMIT 7"
   ]
  },
  {
   "cell_type": "markdown",
   "metadata": {},
   "source": [
    "SELECT DISTINCT\n",
    "\n",
    "    type1\n",
    "    \n",
    "FROM sql.pokemon"
   ]
  },
  {
   "cell_type": "markdown",
   "metadata": {},
   "source": [
    "SELECT DISTINCT\n",
    "\n",
    "    type1,\n",
    "\n",
    "    type2\n",
    "    \n",
    "FROM sql.pokemon"
   ]
  },
  {
   "cell_type": "markdown",
   "metadata": {},
   "source": [
    "SELECT\n",
    "\n",
    "    COUNT(*)\n",
    "    \n",
    "FROM sql.pokemon"
   ]
  },
  {
   "cell_type": "markdown",
   "metadata": {},
   "source": [
    "COUNT — вычисляет число непустых строк;\n",
    "\n",
    "SUM — вычисляет сумму;\n",
    "\n",
    "AVG — вычисляет среднее;\n",
    "\n",
    "MAX — вычисляет максимум;\n",
    "\n",
    "MIN — вычисляет минимум."
   ]
  },
  {
   "cell_type": "markdown",
   "metadata": {},
   "source": [
    "SELECT /*выбор*/\n",
    "\n",
    "    COUNT(*) AS \"всего травяных покемонов\", /*подсчёт всех строк; назначить алиас \"всего травяных покемонов\"*/\n",
    "\n",
    "    COUNT(type2) AS \"покемонов с дополнительным типом\", /*подсчёт непустых строк в столбце type2; назначить алиас \"покемонов с дополнительным типом\"*/\n",
    "\n",
    "    AVG(attack) AS \"средняя атака\", /*среднее значение столбца attack; назначить алиас \"средняя атака\"*/\n",
    "\n",
    "    AVG(defense) AS \"средняя защита\" /*среднее значение столбца defense; назначить алиас \"средняя защита\"*/\n",
    "\n",
    "FROM sql.pokemon /*из таблицы sql.pokemon*/\n",
    "\n",
    "WHERE type1 = 'Grass'/*при условии, что значение столбца type1 содержит grass*/"
   ]
  },
  {
   "cell_type": "markdown",
   "metadata": {},
   "source": [
    "SELECT\n",
    "\n",
    "    m.id match_id,\n",
    "    \n",
    "    t.id team_id\n",
    "\n",
    "FROM\n",
    "\n",
    "    sql.matches m\n",
    "\n",
    "    join sql.teams t on t.api_id = m.home_team_api_id\n",
    "\n",
    "ORDER BY 1"
   ]
  },
  {
   "cell_type": "markdown",
   "metadata": {},
   "source": [
    "SELECT\n",
    "\n",
    "    h.long_name \"домашняя команда\",\n",
    "\n",
    "    m.home_team_goals \"голы домашней команды\",\n",
    "\n",
    "    m.away_team_goals \"голы гостевой команды\",\n",
    "\n",
    "    a.long_name \"гостевая команда\" \n",
    "\n",
    "FROM\n",
    "\n",
    "    sql.matches m\n",
    "\n",
    "    JOIN sql.teams h ON m.home_team_api_id = h.api_id\n",
    "    \n",
    "    JOIN sql.teams a ON m.away_team_api_id = a.api_id"
   ]
  },
  {
   "cell_type": "markdown",
   "metadata": {},
   "source": [
    "SELECT [ALL | DISTINCT] список_столбцов|*\n",
    "\n",
    "FROM список_имён_таблиц\n",
    "\n",
    "[WHERE условие_поиска]\n",
    "\n",
    "[GROUP BY список_имён_столбцов]\n",
    "\n",
    "[HAVING условие_поиска]\n",
    "\n",
    "[ORDER BY имя_столбца [ASC | DESC],…]"
   ]
  },
  {
   "cell_type": "markdown",
   "metadata": {},
   "source": [
    "SELECT\n",
    "\n",
    "    n columns\n",
    "\n",
    "FROM \n",
    "\n",
    "     table_1\n",
    "\n",
    "UNION ALL\n",
    "\n",
    "SELECT \n",
    "\n",
    "    n columns\n",
    "\n",
    "FROM \n",
    "\n",
    "    table_2\n",
    "...\n",
    "\n",
    "\n",
    "UNION ALL\n",
    "\n",
    "SELECT \n",
    "\n",
    "     n columns\n",
    "\n",
    "FROM \n",
    "\n",
    "    table_n"
   ]
  },
  {
   "cell_type": "markdown",
   "metadata": {},
   "source": [
    "SELECT\n",
    "\n",
    "         n columns\n",
    "FROM \n",
    "\n",
    "         table_1\n",
    "\n",
    "UNION ALL\n",
    "\n",
    "SELECT \n",
    "\n",
    "         n columns\n",
    "FROM \n",
    "\n",
    "         table_2\n",
    "...\n",
    "\n",
    "UNION ALL\n",
    "\n",
    "SELECT \n",
    "\n",
    "         n columns\n",
    "FROM \n",
    "\n",
    "         table_n"
   ]
  },
  {
   "cell_type": "markdown",
   "metadata": {},
   "source": [
    "SELECT\n",
    "         d.first_name,\n",
    "         d.last_name,\n",
    "         'телефон заполнен' phone_info\n",
    "FROM\n",
    "         sql.driver d\n",
    "WHERE d.phone IS NOT NULL\n",
    "\n",
    "UNION\n",
    "\n",
    "SELECT\n",
    "         d.first_name,\n",
    "         d.last_name,\n",
    "         'телефон не заполнен' phone_info\n",
    "FROM\n",
    "         sql.driver d\n",
    "WHERE d.phone IS NULL"
   ]
  },
  {
   "cell_type": "markdown",
   "metadata": {},
   "source": [
    "SELECT \n",
    "\n",
    "         N columns\n",
    "FROM \n",
    "\n",
    "         table_1\n",
    "\n",
    "UNION / UNION ALL / EXCEPT / INTERSECT \n",
    "\n",
    "SELECT \n",
    "\n",
    "         N columns\n",
    "FROM \n",
    "\n",
    "         table_2"
   ]
  },
  {
   "cell_type": "markdown",
   "metadata": {},
   "source": [
    "2. Типы данных в PostgreSQL\n",
    "\n",
    "https://postgrespro.ru/docs/postgresql/9.5/ddl-constraints\n",
    "\n",
    "https://postgrespro.ru/docs/postgrespro/9.5/datatype"
   ]
  },
  {
   "cell_type": "markdown",
   "metadata": {},
   "source": [
    "TIMESTAMP\n",
    "\n",
    "SELECT NOW() и SELECT CURRENT_TIMESTAMP.\n",
    "\n",
    "show timezone\n",
    "\n",
    "pg_timezone_names.\n",
    "\n",
    "select now() at time zone 'Europe/Moscow'\n",
    "\n",
    "\"timestamp_column\"::date\n",
    "\n",
    "\"date_column\"::timestamp\n",
    "\n",
    "select CURRENT_DATE\n",
    "\n",
    "select now()::date"
   ]
  },
  {
   "cell_type": "markdown",
   "metadata": {},
   "source": [
    "SELECT EXTRACT(DAY FROM TIMESTAMP '2001-02-16 20:38:40');\n",
    "\n",
    "SELECT EXTRACT(DAY FROM INTERVAL '40 days 1 minute');\n",
    "\n",
    "SELECT EXTRACT(HOUR FROM TIMESTAMP '2001-02-16 20:38:40');\n",
    "\n",
    "SELECT EXTRACT(MONTH FROM TIMESTAMP '2001-02-16 20:38:40');\n",
    "\n",
    "SELECT EXTRACT(YEAR FROM TIMESTAMP '2001-02-16 20:38:40');\n",
    "\n",
    "SELECT EXTRACT(ISOYEAR FROM DATE '2006-01-01');\n",
    "\n",
    "SELECT EXTRACT(ISOYEAR FROM DATE '2006-01-02');\n",
    "\n",
    "SELECT EXTRACT(WEEK FROM TIMESTAMP '2001-02-16 20:38:40');\n",
    "\n",
    "SELECT EXTRACT(CENTURY FROM TIMESTAMP '2000-12-16 12:21:13');\n",
    "\n",
    "SELECT EXTRACT(DECADE FROM TIMESTAMP '2001-02-16 20:38:40');\n",
    "\n",
    "SELECT EXTRACT(EPOCH FROM TIMESTAMP WITH TIME ZONE\n",
    "'2001-02-16 20:38:40.12-08');\n",
    "\n",
    "SELECT EXTRACT(DOW FROM TIMESTAMP '2001-02-16 20:38:40');\n",
    "\n",
    "SELECT EXTRACT(DOY FROM TIMESTAMP '2001-02-16 20:38:40');\n",
    "\n",
    "SELECT EXTRACT(ISODOW FROM TIMESTAMP '2001-02-18 20:38:40');"
   ]
  },
  {
   "cell_type": "markdown",
   "metadata": {},
   "source": [
    "to_char(timestamp[date],text)\n",
    "\n",
    "HH24\tчас (00-23)\n",
    "\n",
    "MI\tминута (00-59)\n",
    "\n",
    "SS\tсекунда (00-59)\n",
    "\n",
    "MS\tмиллисекунда (000-999)\n",
    "\n",
    "SSSS\tчисло секунд с начала суток (0-86399)\n",
    "\n",
    "YYYY\tгод (4 или более цифр)\n",
    "\n",
    "YY\tпоследние две цифры года\n",
    "\n",
    "month\tполное название месяца в нижнем регистре (дополненное пробелами до девяти символов)\n",
    "\n",
    "MM\tномер месяца (01-12)\n",
    "\n",
    "day\tполное название дня недели в нижнем регистре, дополненное пробелами до девяти символов\n",
    "\n",
    "DDD\tномер дня в году (001-366)\n",
    "\n",
    "DD\tдень месяца (01-31)\n",
    "\n",
    "ID\tномер дня недели по ISO 8601, считая с понедельника (1) до воскресенья (7)\n",
    "\n",
    "WW\tномер недели в году (1-53); первая неделя начинается в первый день года"
   ]
  },
  {
   "cell_type": "markdown",
   "metadata": {},
   "source": [
    "select to_char(now() at time zone 'Europe/Moscow','\"Точное время \" HH24 \"часов \" MI \" минут \" SS\" секунд\"') msg\n"
   ]
  },
  {
   "cell_type": "markdown",
   "metadata": {},
   "source": [
    "select 'select * from '||t.table_schema||'.'||t.table_name||';' query\n",
    "from information_schema.tables t\n",
    "where table_schema = 'shipping'"
   ]
  },
  {
   "cell_type": "markdown",
   "metadata": {},
   "source": [
    "select upper('Abc') s1 ,lower('xYz') s2"
   ]
  },
  {
   "cell_type": "markdown",
   "metadata": {},
   "source": [
    "select replace('малако','а','о')"
   ]
  },
  {
   "cell_type": "markdown",
   "metadata": {},
   "source": [
    "with t as\n",
    "\n",
    "(\n",
    "select 'Один два три'::text sample_string\n",
    ")\n",
    "\n",
    "select \n",
    "\n",
    " left(t.sample_string,4) one,\n",
    "\n",
    " right(left(t.sample_string,8),3) two,\n",
    "\n",
    " right(t.sample_string,3) three\n",
    " \n",
    "from t"
   ]
  },
  {
   "cell_type": "markdown",
   "metadata": {},
   "source": [
    "select format('Hello, %s!', d.first_name) from shipping.driver d"
   ]
  },
  {
   "cell_type": "markdown",
   "metadata": {},
   "source": [
    "(SELECT book_name object_name, 'книга' object_descritption \n",
    "\n",
    "FROM public.books\n",
    "\n",
    "ORDER BY 1\n",
    "\n",
    "LIMIT 1)\n",
    "\n",
    "UNION ALL\n",
    "\n",
    "(SELECT movie_title, 'фильм' \n",
    "\n",
    "FROM sql.kinopoisk\n",
    "\n",
    "ORDER BY 1\n",
    "\n",
    "LIMIT 1)"
   ]
  },
  {
   "cell_type": "markdown",
   "metadata": {},
   "source": [
    "Для подключения нам потребуются следующие данные:\n",
    "\n",
    "dbname — название базы, к которой нужно подключиться;\n",
    "\n",
    "user — имя пользователя в СУБД;\n",
    "\n",
    "password — пароль;\n",
    "\n",
    "host — адрес, по которому нужно подключиться;\n",
    "\n",
    "port — порт, к которому нужно подключиться (по умолчанию равен 5432)."
   ]
  }
 ],
 "metadata": {
  "kernelspec": {
   "display_name": "Python 3.9.13 64-bit",
   "language": "python",
   "name": "python3"
  },
  "language_info": {
   "codemirror_mode": {
    "name": "ipython",
    "version": 3
   },
   "file_extension": ".py",
   "mimetype": "text/x-python",
   "name": "python",
   "nbconvert_exporter": "python",
   "pygments_lexer": "ipython3",
   "version": "3.9.13"
  },
  "orig_nbformat": 4,
  "vscode": {
   "interpreter": {
    "hash": "548c83946ac6174562a34cd30bb3bf23deaa49d6c7797d22dea96cb05ee08127"
   }
  }
 },
 "nbformat": 4,
 "nbformat_minor": 2
}
