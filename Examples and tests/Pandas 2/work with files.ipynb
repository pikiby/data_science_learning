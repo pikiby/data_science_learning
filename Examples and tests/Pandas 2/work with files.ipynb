{
 "cells": [
  {
   "cell_type": "code",
   "execution_count": 2,
   "metadata": {},
   "outputs": [],
   "source": [
    "with open ('input.txt') as input_file:\n",
    "    with open('output.txt', 'w') as output_file:\n",
    "        for line in input_file:\n",
    "            output_file.write(line)"
   ]
  },
  {
   "cell_type": "code",
   "execution_count": 6,
   "metadata": {},
   "outputs": [],
   "source": [
    "with open('numbers.txt') as numbers_file:\n",
    "    with open('output.txt', 'w') as output_file:\n",
    "            a = 0\n",
    "            list_a=[]\n",
    "            for line in numbers_file:\n",
    "                line = float(line)\n",
    "                list_a.append(line)\n",
    "            a=min(list_a)+max(list_a)\n",
    "            output_file.write(str(a))"
   ]
  },
  {
   "cell_type": "code",
   "execution_count": null,
   "metadata": {},
   "outputs": [],
   "source": [
    "count = 0\n",
    "for line in open(\"input.txt\"):\n",
    "    points = int(line.split()[-1])\n",
    "    if points < 3:\n",
    "        count += 1"
   ]
  },
  {
   "cell_type": "code",
   "execution_count": null,
   "metadata": {},
   "outputs": [],
   "source": [
    "with open(\"input.txt\", \"r\") as input_file:\n",
    "    with open(\"output.txt\", \"w\") as output_file:\n",
    "        for line in reversed(input_file.readlines()):\n",
    "            output_file.write(line)"
   ]
  }
 ],
 "metadata": {
  "kernelspec": {
   "display_name": "Python 3.9.13 64-bit",
   "language": "python",
   "name": "python3"
  },
  "language_info": {
   "codemirror_mode": {
    "name": "ipython",
    "version": 3
   },
   "file_extension": ".py",
   "mimetype": "text/x-python",
   "name": "python",
   "nbconvert_exporter": "python",
   "pygments_lexer": "ipython3",
   "version": "3.9.13 (tags/v3.9.13:6de2ca5, May 17 2022, 16:36:42) [MSC v.1929 64 bit (AMD64)]"
  },
  "orig_nbformat": 4,
  "vscode": {
   "interpreter": {
    "hash": "548c83946ac6174562a34cd30bb3bf23deaa49d6c7797d22dea96cb05ee08127"
   }
  }
 },
 "nbformat": 4,
 "nbformat_minor": 2
}
