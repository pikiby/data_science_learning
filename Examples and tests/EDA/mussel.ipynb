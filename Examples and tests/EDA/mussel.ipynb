{
 "cells": [
  {
   "cell_type": "code",
   "execution_count": 1,
   "metadata": {},
   "outputs": [],
   "source": [
    "import pandas as pd "
   ]
  },
  {
   "cell_type": "code",
   "execution_count": 14,
   "metadata": {},
   "outputs": [],
   "source": [
    "petersburg = [0.0974, 0.1352, 0.0817, 0.1016, 0.0968, 0.1064, 0.105]\n",
    "magadan = [0.1033, 0.0915, 0.0781, 0.0685, 0.0677, 0.0697, 0.0764,\n",
    "           0.0689]\n",
    "\n",
    "petersburg_ds = pd.DataFrame(petersburg).rename(columns={0:'petersburg'})\n",
    "magadan_ds = pd.DataFrame(magadan).rename(columns={0:'magadan'})\n",
    "\n",
    "mussel_ds = pd.concat([petersburg_ds,magadan_ds], axis = 1)\n",
    "mussel_ds = mussel_ds.drop(7, axis = 0) # удолим строку с значением NaN"
   ]
  },
  {
   "cell_type": "code",
   "execution_count": 15,
   "metadata": {},
   "outputs": [
    {
     "data": {
      "text/html": [
       "<div>\n",
       "<style scoped>\n",
       "    .dataframe tbody tr th:only-of-type {\n",
       "        vertical-align: middle;\n",
       "    }\n",
       "\n",
       "    .dataframe tbody tr th {\n",
       "        vertical-align: top;\n",
       "    }\n",
       "\n",
       "    .dataframe thead th {\n",
       "        text-align: right;\n",
       "    }\n",
       "</style>\n",
       "<table border=\"1\" class=\"dataframe\">\n",
       "  <thead>\n",
       "    <tr style=\"text-align: right;\">\n",
       "      <th></th>\n",
       "      <th>petersburg</th>\n",
       "      <th>magadan</th>\n",
       "    </tr>\n",
       "  </thead>\n",
       "  <tbody>\n",
       "    <tr>\n",
       "      <th>0</th>\n",
       "      <td>0.0974</td>\n",
       "      <td>0.1033</td>\n",
       "    </tr>\n",
       "    <tr>\n",
       "      <th>1</th>\n",
       "      <td>0.1352</td>\n",
       "      <td>0.0915</td>\n",
       "    </tr>\n",
       "    <tr>\n",
       "      <th>2</th>\n",
       "      <td>0.0817</td>\n",
       "      <td>0.0781</td>\n",
       "    </tr>\n",
       "    <tr>\n",
       "      <th>3</th>\n",
       "      <td>0.1016</td>\n",
       "      <td>0.0685</td>\n",
       "    </tr>\n",
       "    <tr>\n",
       "      <th>4</th>\n",
       "      <td>0.0968</td>\n",
       "      <td>0.0677</td>\n",
       "    </tr>\n",
       "    <tr>\n",
       "      <th>5</th>\n",
       "      <td>0.1064</td>\n",
       "      <td>0.0697</td>\n",
       "    </tr>\n",
       "    <tr>\n",
       "      <th>6</th>\n",
       "      <td>0.1050</td>\n",
       "      <td>0.0764</td>\n",
       "    </tr>\n",
       "  </tbody>\n",
       "</table>\n",
       "</div>"
      ],
      "text/plain": [
       "   petersburg  magadan\n",
       "0      0.0974   0.1033\n",
       "1      0.1352   0.0915\n",
       "2      0.0817   0.0781\n",
       "3      0.1016   0.0685\n",
       "4      0.0968   0.0677\n",
       "5      0.1064   0.0697\n",
       "6      0.1050   0.0764"
      ]
     },
     "execution_count": 15,
     "metadata": {},
     "output_type": "execute_result"
    }
   ],
   "source": [
    "mussel_ds"
   ]
  },
  {
   "attachments": {},
   "cell_type": "markdown",
   "metadata": {},
   "source": [
    "Проверяем нормально ли распределены данные методом Шапиро-Уилка. "
   ]
  },
  {
   "cell_type": "code",
   "execution_count": 16,
   "metadata": {},
   "outputs": [
    {
     "name": "stdout",
     "output_type": "stream",
     "text": [
      "p=0.226\n",
      "Данные распределены нормально\n"
     ]
    }
   ],
   "source": [
    "from scipy.stats import shapiro\n",
    "\n",
    "H0 = 'Данные распределены нормально'\n",
    "Ha = 'Данные не распределены нормально'\n",
    "alpha = 0.05\n",
    "\n",
    "_, p = shapiro(mussel_ds)\n",
    "print('p=%.3f' % p)\n",
    "\n",
    "# Интерпретация \n",
    "\n",
    "if p > alpha:\n",
    "\tprint(H0)\n",
    "else:\n",
    "\tprint(Ha)"
   ]
  },
  {
   "attachments": {},
   "cell_type": "markdown",
   "metadata": {},
   "source": [
    "Проверяем нормально ли распределены данные методом Тест Д’Агостино"
   ]
  },
  {
   "cell_type": "code",
   "execution_count": 18,
   "metadata": {},
   "outputs": [
    {
     "ename": "ValueError",
     "evalue": "skewtest is not valid with less than 8 samples; 7 samples were given.",
     "output_type": "error",
     "traceback": [
      "\u001b[1;31m---------------------------------------------------------------------------\u001b[0m",
      "\u001b[1;31mValueError\u001b[0m                                Traceback (most recent call last)",
      "\u001b[1;32mc:\\Users\\Boris\\Desktop\\GIT\\data_science_learning\\Examples and tests\\EDA\\mussel.ipynb Cell 7\u001b[0m in \u001b[0;36m<cell line: 3>\u001b[1;34m()\u001b[0m\n\u001b[0;32m      <a href='vscode-notebook-cell:/c%3A/Users/Boris/Desktop/GIT/data_science_learning/Examples%20and%20tests/EDA/mussel.ipynb#W4sZmlsZQ%3D%3D?line=0'>1</a>\u001b[0m \u001b[39mfrom\u001b[39;00m \u001b[39mscipy\u001b[39;00m\u001b[39m.\u001b[39;00m\u001b[39mstats\u001b[39;00m \u001b[39mimport\u001b[39;00m normaltest\n\u001b[1;32m----> <a href='vscode-notebook-cell:/c%3A/Users/Boris/Desktop/GIT/data_science_learning/Examples%20and%20tests/EDA/mussel.ipynb#W4sZmlsZQ%3D%3D?line=2'>3</a>\u001b[0m _, p \u001b[39m=\u001b[39m normaltest(mussel_ds)\n\u001b[0;32m      <a href='vscode-notebook-cell:/c%3A/Users/Boris/Desktop/GIT/data_science_learning/Examples%20and%20tests/EDA/mussel.ipynb#W4sZmlsZQ%3D%3D?line=3'>4</a>\u001b[0m \u001b[39m#normaltest возвращает двустороннюю вероятность для проверки гипотезы\u001b[39;00m\n\u001b[0;32m      <a href='vscode-notebook-cell:/c%3A/Users/Boris/Desktop/GIT/data_science_learning/Examples%20and%20tests/EDA/mussel.ipynb#W4sZmlsZQ%3D%3D?line=5'>6</a>\u001b[0m \u001b[39mprint\u001b[39m(\u001b[39m'\u001b[39m\u001b[39mp=\u001b[39m\u001b[39m%.3f\u001b[39;00m\u001b[39m'\u001b[39m \u001b[39m%\u001b[39m p[\u001b[39m0\u001b[39m])\n",
      "File \u001b[1;32mc:\\Users\\Boris\\AppData\\Local\\Programs\\Python\\Python39\\lib\\site-packages\\scipy\\stats\\_stats_py.py:1868\u001b[0m, in \u001b[0;36mnormaltest\u001b[1;34m(a, axis, nan_policy)\u001b[0m\n\u001b[0;32m   1865\u001b[0m     a \u001b[39m=\u001b[39m ma\u001b[39m.\u001b[39mmasked_invalid(a)\n\u001b[0;32m   1866\u001b[0m     \u001b[39mreturn\u001b[39;00m mstats_basic\u001b[39m.\u001b[39mnormaltest(a, axis)\n\u001b[1;32m-> 1868\u001b[0m s, _ \u001b[39m=\u001b[39m skewtest(a, axis)\n\u001b[0;32m   1869\u001b[0m k, _ \u001b[39m=\u001b[39m kurtosistest(a, axis)\n\u001b[0;32m   1870\u001b[0m k2 \u001b[39m=\u001b[39m s\u001b[39m*\u001b[39ms \u001b[39m+\u001b[39m k\u001b[39m*\u001b[39mk\n",
      "File \u001b[1;32mc:\\Users\\Boris\\AppData\\Local\\Programs\\Python\\Python39\\lib\\site-packages\\scipy\\stats\\_stats_py.py:1673\u001b[0m, in \u001b[0;36mskewtest\u001b[1;34m(a, axis, nan_policy, alternative)\u001b[0m\n\u001b[0;32m   1671\u001b[0m n \u001b[39m=\u001b[39m a\u001b[39m.\u001b[39mshape[axis]\n\u001b[0;32m   1672\u001b[0m \u001b[39mif\u001b[39;00m n \u001b[39m<\u001b[39m \u001b[39m8\u001b[39m:\n\u001b[1;32m-> 1673\u001b[0m     \u001b[39mraise\u001b[39;00m \u001b[39mValueError\u001b[39;00m(\n\u001b[0;32m   1674\u001b[0m         \u001b[39m\"\u001b[39m\u001b[39mskewtest is not valid with less than 8 samples; \u001b[39m\u001b[39m%i\u001b[39;00m\u001b[39m samples\u001b[39m\u001b[39m\"\u001b[39m\n\u001b[0;32m   1675\u001b[0m         \u001b[39m\"\u001b[39m\u001b[39m were given.\u001b[39m\u001b[39m\"\u001b[39m \u001b[39m%\u001b[39m \u001b[39mint\u001b[39m(n))\n\u001b[0;32m   1676\u001b[0m y \u001b[39m=\u001b[39m b2 \u001b[39m*\u001b[39m math\u001b[39m.\u001b[39msqrt(((n \u001b[39m+\u001b[39m \u001b[39m1\u001b[39m) \u001b[39m*\u001b[39m (n \u001b[39m+\u001b[39m \u001b[39m3\u001b[39m)) \u001b[39m/\u001b[39m (\u001b[39m6.0\u001b[39m \u001b[39m*\u001b[39m (n \u001b[39m-\u001b[39m \u001b[39m2\u001b[39m)))\n\u001b[0;32m   1677\u001b[0m beta2 \u001b[39m=\u001b[39m (\u001b[39m3.0\u001b[39m \u001b[39m*\u001b[39m (n\u001b[39m*\u001b[39m\u001b[39m*\u001b[39m\u001b[39m2\u001b[39m \u001b[39m+\u001b[39m \u001b[39m27\u001b[39m\u001b[39m*\u001b[39mn \u001b[39m-\u001b[39m \u001b[39m70\u001b[39m) \u001b[39m*\u001b[39m (n\u001b[39m+\u001b[39m\u001b[39m1\u001b[39m) \u001b[39m*\u001b[39m (n\u001b[39m+\u001b[39m\u001b[39m3\u001b[39m) \u001b[39m/\u001b[39m\n\u001b[0;32m   1678\u001b[0m          ((n\u001b[39m-\u001b[39m\u001b[39m2.0\u001b[39m) \u001b[39m*\u001b[39m (n\u001b[39m+\u001b[39m\u001b[39m5\u001b[39m) \u001b[39m*\u001b[39m (n\u001b[39m+\u001b[39m\u001b[39m7\u001b[39m) \u001b[39m*\u001b[39m (n\u001b[39m+\u001b[39m\u001b[39m9\u001b[39m)))\n",
      "\u001b[1;31mValueError\u001b[0m: skewtest is not valid with less than 8 samples; 7 samples were given."
     ]
    }
   ],
   "source": [
    "from scipy.stats import normaltest\n",
    "\n",
    "_, p = normaltest(mussel_ds)\n",
    "#normaltest возвращает двустороннюю вероятность для проверки гипотезы\n",
    "\n",
    "print('p=%.3f' % p[0])\n",
    "\n",
    "# Интерпретация \n",
    "\n",
    "if p[0] > alpha/2:\n",
    "\tprint(H0)\n",
    "else:\n",
    "\tprint(Ha)"
   ]
  },
  {
   "attachments": {},
   "cell_type": "markdown",
   "metadata": {},
   "source": [
    "Я представления не имею что это значит. В юните не проходили ни как эти методы работают ни их синтаксис ни почему может быть такой результат. Я в первый раз впринципе вижу как они записываются в python. Мне уже как то все равно, надуюсь пойму в других юнитах или в интернете."
   ]
  },
  {
   "attachments": {},
   "cell_type": "markdown",
   "metadata": {},
   "source": [
    "Попробуем предположить что мжду средним размером устриц в разных городах есть какая-разница.\n",
    "\n",
    "Провидем тест T-тест потому что скорее всего в втором тесте Д’Агостино, какой-то глюк."
   ]
  },
  {
   "cell_type": "code",
   "execution_count": 19,
   "metadata": {},
   "outputs": [
    {
     "name": "stdout",
     "output_type": "stream",
     "text": [
      "\n",
      "*** Результаты независимого T-теста ***\n",
      "0.01 <= 0.05. Мы отвергаем нулевую гипотезу. Есть значимая разница между мидиями в разных городах.\n"
     ]
    }
   ],
   "source": [
    "from scipy.stats import ttest_ind\n",
    "\n",
    "H0 = 'Нет значимой разницы между мидиями в разных городах.'\n",
    "Ha = 'Есть значимая разница между мидиями в разных городах.'\n",
    "alpha = 0.05\n",
    "\n",
    "def t_test(mussel_ds):\n",
    "    print('\\n' + \"*** Результаты независимого T-теста ***\")\n",
    "    test_results = ttest_ind(mussel_ds['petersburg'], mussel_ds['magadan'], equal_var=True)\n",
    "\n",
    "    p = round(test_results[1],2)\n",
    "\n",
    "    if p>alpha:\n",
    "        print(f\"{p} > {alpha}. Мы не можем отвергнуть нулевую гипотезу. {H0}\")\n",
    "    else:\n",
    "        print(f\"{p} <= {alpha}. Мы отвергаем нулевую гипотезу. {Ha}\")\n",
    "\n",
    "t_test(mussel_ds)"
   ]
  },
  {
   "attachments": {},
   "cell_type": "markdown",
   "metadata": {},
   "source": [
    "Вычислим разницу средних значений."
   ]
  },
  {
   "cell_type": "code",
   "execution_count": 20,
   "metadata": {},
   "outputs": [
    {
     "data": {
      "text/plain": [
       "0.024"
      ]
     },
     "execution_count": 20,
     "metadata": {},
     "output_type": "execute_result"
    }
   ],
   "source": [
    "mussel_mean = round(mussel_ds['petersburg'].mean() - mussel_ds['magadan'].mean(), 3)\n",
    "mussel_mean"
   ]
  }
 ],
 "metadata": {
  "kernelspec": {
   "display_name": "Python 3",
   "language": "python",
   "name": "python3"
  },
  "language_info": {
   "codemirror_mode": {
    "name": "ipython",
    "version": 3
   },
   "file_extension": ".py",
   "mimetype": "text/x-python",
   "name": "python",
   "nbconvert_exporter": "python",
   "pygments_lexer": "ipython3",
   "version": "3.9.13 (tags/v3.9.13:6de2ca5, May 17 2022, 16:36:42) [MSC v.1929 64 bit (AMD64)]"
  },
  "orig_nbformat": 4,
  "vscode": {
   "interpreter": {
    "hash": "548c83946ac6174562a34cd30bb3bf23deaa49d6c7797d22dea96cb05ee08127"
   }
  }
 },
 "nbformat": 4,
 "nbformat_minor": 2
}
