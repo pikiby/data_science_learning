{
 "cells": [
  {
   "cell_type": "code",
   "execution_count": 6,
   "metadata": {},
   "outputs": [],
   "source": [
    "import pandas as pd"
   ]
  },
  {
   "cell_type": "code",
   "execution_count": 7,
   "metadata": {},
   "outputs": [
    {
     "data": {
      "text/plain": [
       "7.466"
      ]
     },
     "execution_count": 7,
     "metadata": {},
     "output_type": "execute_result"
    }
   ],
   "source": [
    "countrys_list = [\n",
    "['Финляндия', 7.84],\n",
    "['Дания', 7.62],\n",
    "['Швейцария', 7.57],\n",
    "['Исландия', 7.55],\n",
    "['Нидерланды', 7.46],\n",
    "['Норвегия', 7.39],\n",
    "['Швеция',7.36],\n",
    "['Люксембург',7.32],\n",
    "['Новая Зеландия',7.28],\n",
    "['Австрия',7.27]]\n",
    "\n",
    "countrys_pd = pd.DataFrame(countrys_list, columns=['countrys', 'rate'])\n",
    "\n",
    "round(countrys_pd['rate'].mean(),3)"
   ]
  }
 ],
 "metadata": {
  "kernelspec": {
   "display_name": "Python 3",
   "language": "python",
   "name": "python3"
  },
  "language_info": {
   "codemirror_mode": {
    "name": "ipython",
    "version": 3
   },
   "file_extension": ".py",
   "mimetype": "text/x-python",
   "name": "python",
   "nbconvert_exporter": "python",
   "pygments_lexer": "ipython3",
   "version": "3.9.13 (tags/v3.9.13:6de2ca5, May 17 2022, 16:36:42) [MSC v.1929 64 bit (AMD64)]"
  },
  "orig_nbformat": 4,
  "vscode": {
   "interpreter": {
    "hash": "548c83946ac6174562a34cd30bb3bf23deaa49d6c7797d22dea96cb05ee08127"
   }
  }
 },
 "nbformat": 4,
 "nbformat_minor": 2
}
