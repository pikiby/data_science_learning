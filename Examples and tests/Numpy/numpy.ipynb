{
 "cells": [
  {
   "cell_type": "code",
   "execution_count": 1,
   "metadata": {},
   "outputs": [],
   "source": [
    "import numpy as np"
   ]
  },
  {
   "cell_type": "code",
   "execution_count": null,
   "metadata": {},
   "outputs": [],
   "source": [
    "a = np.int8(25)\n",
    "print(a)\n",
    "# 25\n",
    "\n",
    "print(type(a))\n",
    "# <class 'numpy.int8'>"
   ]
  },
  {
   "cell_type": "code",
   "execution_count": null,
   "metadata": {},
   "outputs": [],
   "source": [
    "# Можно применить к самому\n",
    "# названию типа данных\n",
    "np.iinfo(np.int8)\n",
    "# iinfo(min=-128, max=127, dtype=int8)\n",
    "\n",
    "# Можно применить к существующему\n",
    "# конкретному объекту\n",
    "np.iinfo(a)\n",
    "# iinfo(min=-128, max=127, dtype=int8)"
   ]
  },
  {
   "cell_type": "code",
   "execution_count": null,
   "metadata": {},
   "outputs": [],
   "source": [
    "a = np.int32(1000)\n",
    "print(a)\n",
    "# 1000\n",
    "print(type(a))\n",
    "# <class 'numpy.int32'>\n",
    "a = 2056\n",
    "print(a)\n",
    "# 2056\n",
    "print(type(a))\n",
    "# <class 'int'>"
   ]
  },
  {
   "cell_type": "code",
   "execution_count": null,
   "metadata": {},
   "outputs": [],
   "source": [
    "a = np.int32(1000)\n",
    "b = a + 25\n",
    "print(b)\n",
    "# 1025\n",
    "print(type(b))\n",
    "# <class 'numpy.int64'>"
   ]
  },
  {
   "cell_type": "code",
   "execution_count": 7,
   "metadata": {},
   "outputs": [
    {
     "data": {
      "text/plain": [
       "array([1, 2, 3, 4], dtype=int8)"
      ]
     },
     "execution_count": 7,
     "metadata": {},
     "output_type": "execute_result"
    }
   ],
   "source": [
    "a = [1,2,3,4]\n",
    "map(np.int8, a)\n",
    "type(a[0])\n",
    "np.int8(a)"
   ]
  },
  {
   "cell_type": "code",
   "execution_count": 8,
   "metadata": {},
   "outputs": [
    {
     "name": "stdout",
     "output_type": "stream",
     "text": [
      "1025\n",
      "<class 'numpy.int32'>\n"
     ]
    }
   ],
   "source": [
    "a = np.int32(1000)\n",
    "b = np.int8(25)\n",
    "c = a + b\n",
    "print(c)\n",
    "# 1025\n",
    "print(type(c))\n",
    "# <class 'numpy.int32'>"
   ]
  },
  {
   "cell_type": "code",
   "execution_count": 10,
   "metadata": {},
   "outputs": [
    {
     "name": "stdout",
     "output_type": "stream",
     "text": [
      "127\n"
     ]
    }
   ],
   "source": [
    "a = np.int8(127)\n",
    "print(a)\n",
    "# 4"
   ]
  },
  {
   "cell_type": "code",
   "execution_count": null,
   "metadata": {},
   "outputs": [],
   "source": [
    "a = np.int32(2147483610)\n",
    "b = np.int32(2147483605)\n",
    "print(a, b)\n",
    "# 2147483610 2147483605\n",
    "print(a + b)\n",
    "# -81\n",
    "# RuntimeWarning: overflow encountered in int_scalars\n",
    "# Переполнено int'овое значение\n",
    "\n",
    "a = np.int32(2147483610)\n",
    "b = np.int32(2147483605)\n",
    "print(a, b)\n",
    "# 2147483610 2147483605\n",
    "print(np.int64(a) + np.int64(b))\n",
    "# 4294967215"
   ]
  },
  {
   "cell_type": "code",
   "execution_count": null,
   "metadata": {},
   "outputs": [],
   "source": [
    "np.finfo(np.float16)\n",
    "# finfo(resolution=0.001, min=-6.55040e+04, max=6.55040e+04, dtype=float16)\n",
    "np.finfo(np.float32)\n",
    "# finfo(resolution=1e-06, min=-3.4028235e+38, max=3.4028235e+38, dtype=float32)\n",
    "np.finfo(np.float64)\n",
    "# finfo(resolution=1e-15, min=-1.7976931348623157e+308, max=1.7976931348623157e+308, dtype=float64)\n",
    "np.finfo(np.float128)\n",
    "# finfo(resolution=1e-18, min=-1.189731495357231765e+4932, max=1.189731495357231765e+4932, dtype=float128)"
   ]
  },
  {
   "cell_type": "code",
   "execution_count": null,
   "metadata": {},
   "outputs": [],
   "source": [
    "print(np.float16(4.12))\n",
    "# 4.12\n",
    "print(np.float16(4.13))\n",
    "# 4.13\n",
    "print(np.float16(4.123))\n",
    "# 4.12\n",
    "print(np.float16(4.124))\n",
    "# 4.125\n",
    "print(np.float16(4.125))\n",
    "# 4.125"
   ]
  },
  {
   "cell_type": "code",
   "execution_count": null,
   "metadata": {},
   "outputs": [],
   "source": [
    "a = True\n",
    "print(type(a))\n",
    "# <class 'bool'>\n",
    "a = np.bool(a)\n",
    "print(type(a))\n",
    "# <class 'bool'>\n",
    "a = np.bool_(a)\n",
    "print(type(a))\n",
    "# <class 'numpy.bool_'>\n",
    " \n",
    "# Значения равны\n",
    "print(np.bool(True) == np.bool_(True))\n",
    "# True\n",
    "# А типы — нет:\n",
    "print(type(np.bool(True)) == type(np.bool_(True)))\n",
    "# False"
   ]
  },
  {
   "cell_type": "code",
   "execution_count": null,
   "metadata": {},
   "outputs": [],
   "source": [
    "a = \"Hello world!\"\n",
    "print(type(a))\n",
    "# <class 'str'>\n",
    "a = np.str(a)\n",
    "print(type(a))\n",
    "# <class 'str'>\n",
    "a = np.str_(a)\n",
    "print(type(a))\n",
    "# <class 'numpy.str_'>\n",
    "print(a)"
   ]
  },
  {
   "cell_type": "markdown",
   "metadata": {},
   "source": [
    "## array"
   ]
  },
  {
   "cell_type": "code",
   "execution_count": 13,
   "metadata": {},
   "outputs": [
    {
     "data": {
      "text/plain": [
       "array([ 1,  5,  2,  9, 10])"
      ]
     },
     "execution_count": 13,
     "metadata": {},
     "output_type": "execute_result"
    }
   ],
   "source": [
    "arr = np.array([1,5,2,9,10])\n",
    "arr\n",
    "#array([ 1,  5,  2,  9, 10])"
   ]
  },
  {
   "cell_type": "code",
   "execution_count": null,
   "metadata": {},
   "outputs": [],
   "source": [
    "print(type(arr))\n",
    "# <class 'numpy.ndarray'>\n",
    "\n",
    "arr.dtype\n",
    "# dtype('int32')"
   ]
  },
  {
   "cell_type": "code",
   "execution_count": 14,
   "metadata": {},
   "outputs": [
    {
     "data": {
      "text/plain": [
       "array([[12, 45, 78],\n",
       "       [34, 56, 13],\n",
       "       [12, 98, 76]])"
      ]
     },
     "execution_count": 14,
     "metadata": {},
     "output_type": "execute_result"
    }
   ],
   "source": [
    "nd_arr = np.array([\n",
    "               [12, 45, 78],\n",
    "               [34, 56, 13],\n",
    "               [12, 98, 76]\n",
    "               ])\n",
    "nd_arr\n",
    "# array([[12, 45, 78],\n",
    "#        [34, 56, 13],\n",
    "#        [12, 98, 76]])"
   ]
  },
  {
   "cell_type": "markdown",
   "metadata": {},
   "source": [
    ".ndim .size .shape .itemsize"
   ]
  },
  {
   "cell_type": "code",
   "execution_count": null,
   "metadata": {},
   "outputs": [],
   "source": [
    "arr = np.array([1,5,2,9,10], dtype=np.int8)\n",
    "nd_arr = np.array([\n",
    "               [12, 45, 78],\n",
    "               [34, 56, 13],\n",
    "               [12, 98, 76]\n",
    "               ], dtype=np.int16)\n",
    "\n",
    "arr.ndim\n",
    "# 1\n",
    "nd_arr.ndim\n",
    "# 2\n",
    "arr.size\n",
    "# 5\n",
    "nd_arr.size\n",
    "# 9\n",
    "arr.shape\n",
    "# (5,)\n",
    "nd_arr.shape\n",
    "# (3, 3)\n",
    "arr.itemsize\n",
    "# 1\n",
    "nd_arr.itemsize\n",
    "# 2"
   ]
  },
  {
   "cell_type": "markdown",
   "metadata": {},
   "source": [
    "zeros"
   ]
  },
  {
   "cell_type": "code",
   "execution_count": 17,
   "metadata": {},
   "outputs": [
    {
     "name": "stdout",
     "output_type": "stream",
     "text": [
      "(5, 4)\n"
     ]
    },
    {
     "data": {
      "text/plain": [
       "array([[0., 0., 0., 0.],\n",
       "       [0., 0., 0., 0.],\n",
       "       [0., 0., 0., 0.],\n",
       "       [0., 0., 0., 0.],\n",
       "       [0., 0., 0., 0.]], dtype=float32)"
      ]
     },
     "execution_count": 17,
     "metadata": {},
     "output_type": "execute_result"
    }
   ],
   "source": [
    "zeros_1d = np.zeros(5)\n",
    "zeros_1d\n",
    "# array([0., 0., 0., 0., 0.])\n",
    "\n",
    "zeros_2d = np.zeros((5,4), dtype=np.float32)\n",
    "print(zeros_2d.shape)\n",
    "# (5, 4)\n",
    "\n",
    "zeros_2d"
   ]
  },
  {
   "cell_type": "markdown",
   "metadata": {},
   "source": [
    "np.arrange"
   ]
  },
  {
   "cell_type": "code",
   "execution_count": null,
   "metadata": {},
   "outputs": [],
   "source": [
    "np.arange(5)\n",
    "# array([0, 1, 2, 3, 4])\n",
    "\n",
    "np.arange(2.5, 5)\n",
    "# array([2.5, 3.5, 4.5])\n",
    "\n",
    "np.arange(2.5, 5, 0.5)\n",
    "# array([2.5, 3. , 3.5, 4. , 4.5])\n",
    "\n",
    "np.arange(2.5, 5, 0.5, dtype=np.float16)\n",
    "# array([2.5, 3. , 3.5, 4. , 4.5], dtype=float16)"
   ]
  },
  {
   "cell_type": "markdown",
   "metadata": {},
   "source": [
    "linspace"
   ]
  },
  {
   "cell_type": "code",
   "execution_count": null,
   "metadata": {},
   "outputs": [],
   "source": [
    "arr = np.linspace(1, 2, 10)\n",
    "arr\n",
    "# array([1.        , 1.11111111, 1.22222222, 1.33333333, 1.44444444,\n",
    "#        1.55555556, 1.66666667, 1.77777778, 1.88888889, 2.        ])\n",
    "\n",
    "arr = np.linspace(1, 2, 10, endpoint=False)\n",
    "arr\n",
    "# array([1. , 1.1, 1.2, 1.3, 1.4, 1.5, 1.6, 1.7, 1.8, 1.9])\n",
    "\n",
    "arr, step = np.linspace(1, 2, 10, endpoint=True, retstep=True)\n",
    "print(step)\n",
    "# 0.1111111111111111\n",
    "\n",
    "arr, step = np.linspace(1, 2, 10, endpoint=False, retstep=True)\n",
    "print(step)\n",
    "# 0.1"
   ]
  },
  {
   "cell_type": "markdown",
   "metadata": {},
   "source": [
    ".shape .reshape"
   ]
  },
  {
   "cell_type": "code",
   "execution_count": 18,
   "metadata": {},
   "outputs": [
    {
     "data": {
      "text/plain": [
       "array([[0, 1, 2, 3],\n",
       "       [4, 5, 6, 7]])"
      ]
     },
     "execution_count": 18,
     "metadata": {},
     "output_type": "execute_result"
    }
   ],
   "source": [
    "arr = np.arange(8)\n",
    "arr\n",
    "# array([0, 1, 2, 3, 4, 5, 6, 7])\n",
    "\n",
    "arr.shape = (2, 4)\n",
    "arr\n",
    "# array([[0, 1, 2, 3],\n",
    "#        [4, 5, 6, 7]])\n",
    "\n",
    "arr = np.arange(8)\n",
    "arr_new = arr.reshape((2, 4))\n",
    "arr_new\n",
    "# array([[0, 1, 2, 3],\n",
    "#       [4, 5, 6, 7]])"
   ]
  },
  {
   "cell_type": "code",
   "execution_count": null,
   "metadata": {},
   "outputs": [],
   "source": [
    "arr = np.arange(8)\n",
    "arr_new = arr.reshape((2, 4), order='F')\n",
    "arr_new\n",
    "# array([[0, 2, 4, 6],\n",
    "#       [1, 3, 5, 7]])\n"
   ]
  },
  {
   "cell_type": "markdown",
   "metadata": {},
   "source": [
    "transpose()"
   ]
  },
  {
   "cell_type": "code",
   "execution_count": null,
   "metadata": {},
   "outputs": [],
   "source": [
    "\n",
    "arr = np.arange(8)\n",
    "arr.shape = (2, 4)\n",
    "arr\n",
    "# array([[0, 1, 2, 3],\n",
    "#        [4, 5, 6, 7]])\n",
    "\n",
    "arr_trans = arr.transpose()\n",
    "arr_trans\n",
    "# array([[0, 4],\n",
    "#        [1, 5],\n",
    "#        [2, 6],\n",
    "#        [3, 7]])"
   ]
  },
  {
   "cell_type": "markdown",
   "metadata": {},
   "source": [
    "arr[]"
   ]
  },
  {
   "cell_type": "code",
   "execution_count": null,
   "metadata": {},
   "outputs": [],
   "source": [
    "arr = np.linspace(1, 2, 6)\n",
    "arr\n",
    "# array([1. , 1.2, 1.4, 1.6, 1.8, 2. ])\n",
    "\n",
    "print(arr[2])\n",
    "# 1.4\n",
    "\n",
    "print(arr[2:4])\n",
    "# [1.4 1.6]\n",
    "\n",
    "print(arr[::-1])\n",
    "# [2.  1.8 1.6 1.4 1.2 1. ]\n",
    "\n",
    "nd_array =  np.linspace(0, 6, 12, endpoint=False).reshape(3,4)\n",
    "nd_array\n",
    "# array([[0. , 0.5, 1. , 1.5],\n",
    "#        [2. , 2.5, 3. , 3.5],\n",
    "#        [4. , 4.5, 5. , 5.5]])\n",
    "\n",
    "\n",
    "nd_array[1][2]\n",
    "# 3.0\n",
    "nd_array[1,2]\n",
    "# 3.0\n",
    "\n",
    "nd_array[:2, 2]\n",
    "# array([1., 3.])\n",
    "\n",
    "nd_array[1:, 2:4]\n",
    "# array([[3. , 3.5],\n",
    "#       [5. , 5.5]])\n",
    "\n",
    "nd_array[:, 2:4]\n",
    "# array([[1. , 1.5],\n",
    "#       [3. , 3.5],\n",
    "#       [5. , 5.5]])\n",
    "\n",
    "nd_array[:2]\n",
    "# array([[0. , 0.5, 1. , 1.5],\n",
    "#       [2. , 2.5, 3. , 3.5]])"
   ]
  },
  {
   "cell_type": "markdown",
   "metadata": {},
   "source": [
    ".sort()"
   ]
  },
  {
   "cell_type": "code",
   "execution_count": null,
   "metadata": {},
   "outputs": [],
   "source": [
    "arr = np.array([23,12,45,12,23,4,15,3])\n",
    "\n",
    "print(arr)\n",
    "# [23 12 45 12 23  4 15  3]\n",
    "arr_new = np.sort(arr)\n",
    "\n",
    "print(arr_new)\n",
    "# [ 3  4 12 12 15 23 23 45]\n",
    "\n",
    "arr = np.array([23,12,45,12,23,4,15,3])\n",
    "print(arr.sort())\n",
    "# None\n",
    "print(arr)\n",
    "# [ 3  4 12 12 15 23 23 45]\n",
    "\n",
    "arr = np.array([23,12,45,12,23,4,15,3])\n",
    "arr.shape = (2,4)\n",
    "display(arr)\n",
    "\n",
    "#array([[23, 12, 45, 12],\n",
    "#       [23,  4, 15,  3]])\n",
    "\n",
    "arr_new = np.sort(arr)\n",
    "display(arr_new)\n",
    "\n",
    "#array([[12, 12, 23, 45],\n",
    "#       [ 3,  4, 15, 23]])"
   ]
  },
  {
   "cell_type": "markdown",
   "metadata": {},
   "source": [
    ".isnan .sqrt"
   ]
  },
  {
   "cell_type": "code",
   "execution_count": 62,
   "metadata": {},
   "outputs": [
    {
     "name": "stdout",
     "output_type": "stream",
     "text": [
      "[2.         3.                nan 1.73205081]\n",
      "[False False  True False]\n"
     ]
    },
    {
     "name": "stderr",
     "output_type": "stream",
     "text": [
      "C:\\Users\\Boris\\AppData\\Local\\Temp\\ipykernel_21556\\726446747.py:3: RuntimeWarning: invalid value encountered in sqrt\n",
      "  roots = np.sqrt(data)\n"
     ]
    },
    {
     "data": {
      "text/plain": [
       "array([2.        , 3.        , 0.        , 1.73205081])"
      ]
     },
     "execution_count": 62,
     "metadata": {},
     "output_type": "execute_result"
    }
   ],
   "source": [
    "data = np.array([4, 9, -4, 3])\n",
    "\n",
    "roots = np.sqrt(data)\n",
    "print(roots)\n",
    "# RuntimeWarning: invalid value encountered in sqrt\n",
    "# array([2.        , 3.        ,        nan, 1.73205081])\n",
    "\n",
    "print(np.isnan(roots))\n",
    "# array([False, False,  True, False])\n",
    "\n",
    "roots[np.isnan(roots)] = 0\n",
    "roots\n",
    "# array([2.        , 3.        , 0.        , 1.73205081])"
   ]
  },
  {
   "cell_type": "markdown",
   "metadata": {},
   "source": [
    "np.linalg vectors"
   ]
  },
  {
   "cell_type": "code",
   "execution_count": null,
   "metadata": {},
   "outputs": [],
   "source": [
    "import numpy as np\n",
    "vec1 = np.array ([2, 4, 7 , 2.5])\n",
    "vec2 = np.array ([12 ,6 ,3.5, 13])\n",
    "\n",
    "vec1 + vec2\n",
    "\n",
    "#array([14. , 10. , 10.5, 15.5])\n",
    "\n",
    "vec = np.arange(5)\n",
    "vec ** 2\n",
    "#array([ 0,  1,  4,  9, 16])\n",
    "\n",
    "vec1>vec2\n",
    "#array([False, False,  True, False])\n"
   ]
  },
  {
   "cell_type": "code",
   "execution_count": null,
   "metadata": {},
   "outputs": [],
   "source": [
    "vec = np.array([3,4])\n",
    "length = np.linalg.norm(vec)\n",
    "print(length)\n",
    "#5.0"
   ]
  },
  {
   "cell_type": "markdown",
   "metadata": {},
   "source": [
    "np.dot"
   ]
  },
  {
   "cell_type": "code",
   "execution_count": 64,
   "metadata": {},
   "outputs": [
    {
     "name": "stdout",
     "output_type": "stream",
     "text": [
      "250.0\n"
     ]
    },
    {
     "data": {
      "text/plain": [
       "250.0"
      ]
     },
     "execution_count": 64,
     "metadata": {},
     "output_type": "execute_result"
    }
   ],
   "source": [
    "vec1 = np.arange(1,6)\n",
    "vec2 = np.linspace(10, 20, 5)\n",
    "scalar_product = np.sum(vec1 * vec2)\n",
    "print(scalar_product)\n",
    "\n",
    "#250.0\n",
    "\n",
    "scalar_product = np.dot(vec1,vec2)\n",
    "scalar_product\n",
    "\n",
    "#250.0"
   ]
  },
  {
   "cell_type": "markdown",
   "metadata": {},
   "source": [
    ".min() .max() .mean()"
   ]
  },
  {
   "cell_type": "code",
   "execution_count": null,
   "metadata": {},
   "outputs": [],
   "source": [
    "vec = np.array([2, 7, 18, 28, 18 , 1 ,8, 4])\n",
    "print(vec.min())\n",
    "#1\n",
    "print(vec.max())\n",
    "#28\n",
    "print(vec.mean())\n",
    "#10.75\n",
    "print(np.min(vec))\n",
    "#1\n",
    "print(np.max(vec))\n",
    "#28\n",
    "print(np.mean(vec))"
   ]
  },
  {
   "cell_type": "markdown",
   "metadata": {},
   "source": [
    "## random"
   ]
  },
  {
   "cell_type": "code",
   "execution_count": null,
   "metadata": {},
   "outputs": [],
   "source": [
    "np.random.rand()\n",
    "# 0.06600758835806675\n",
    "\n",
    "np.random.rand() * 100\n",
    "# 69.76076924077643\n",
    "\n",
    "np.random.rand(5)\n",
    "# array([0.83745099, 0.58426808, 0.89206204, 0.41149807, 0.42445145])]\n",
    "\n",
    "np.random.rand(2, 3)\n",
    "# array([[0.94931212, 0.06680018, 0.26707599],\n",
    "#      [0.67908873, 0.18001743, 0.97732239]])"
   ]
  },
  {
   "cell_type": "markdown",
   "metadata": {},
   "source": [
    ".shape()"
   ]
  },
  {
   "cell_type": "code",
   "execution_count": null,
   "metadata": {},
   "outputs": [],
   "source": [
    "shape = (3, 4)\n",
    "np.random.rand(shape)\n",
    "# TypeError: 'tuple' object cannot be interpreted as an integer\n",
    "# Ошибка типов: кортеж не может быть интерпретирован как целое число.\n",
    "\n",
    "shape = (3, 4)\n",
    "np.random.rand(*shape)\n",
    "# array([[0.66169176, 0.19455777, 0.06451088, 0.31919608],\n",
    "#        [0.73536951, 0.67104408, 0.4762727 , 0.88153576],\n",
    "#        [0.70672971, 0.96677145, 0.09273995, 0.86356465]])\n",
    "\n",
    "shape = (2, 3)\n",
    "np.random.sample(shape)\n",
    "# array([[0.39756103, 0.01995168, 0.2768951 ],\n",
    "#       [0.82195372, 0.26435273, 0.00957881]])"
   ]
  },
  {
   "cell_type": "markdown",
   "metadata": {},
   "source": [
    ".uniform()"
   ]
  },
  {
   "cell_type": "code",
   "execution_count": null,
   "metadata": {},
   "outputs": [],
   "source": [
    "np.random.uniform()\n",
    "# 0.951557685543591\n",
    "\n",
    "np.random.uniform(-30, 50)\n",
    "# 38.47365525953661\n",
    "\n",
    "np.random.uniform(0.5, 0.75, size=5)\n",
    "# array([0.58078945, 0.58860342, 0.73790553, 0.63448265, 0.70920297])\n",
    "\n",
    "np.random.uniform(-1000, 500, size=(2, 3))\n",
    "# array([[ 129.22164163,   77.69090611, -132.9656972 ],\n",
    "#        [  18.65802226, -317.14793906,   85.3613547 ]])"
   ]
  },
  {
   "cell_type": "markdown",
   "metadata": {},
   "source": [
    ".randint()"
   ]
  },
  {
   "cell_type": "code",
   "execution_count": null,
   "metadata": {},
   "outputs": [],
   "source": [
    "np.random.randint(4, size=(2,3))\n",
    "# array([[3, 0, 1],\n",
    "#       [2, 1, 3]])\n",
    "\n",
    "np.random.randint(6, 12, size=(3,3))\n",
    "# array([[ 9,  6, 10],\n",
    "#        [10, 11, 10],\n",
    "#        [ 7, 10, 11]])"
   ]
  },
  {
   "cell_type": "markdown",
   "metadata": {},
   "source": [
    ".shuffle()"
   ]
  },
  {
   "cell_type": "code",
   "execution_count": null,
   "metadata": {},
   "outputs": [],
   "source": [
    "arr = np.arange(6)\n",
    "print(arr)\n",
    "# [0 1 2 3 4 5]\n",
    "print(np.random.shuffle(arr))\n",
    "# None\n",
    "arr\n",
    "# array([0, 5, 1, 3, 2, 4])"
   ]
  },
  {
   "cell_type": "code",
   "execution_count": null,
   "metadata": {},
   "outputs": [],
   "source": [
    "playlist = [\"The Beatles\", \"Pink Floyd\", \"ACDC\", \"Deep Purple\"]\n",
    "shuffled = np.random.permutation(playlist)\n",
    "print(shuffled)\n",
    "# ['The Beatles' 'Pink Floyd' 'Deep Purple' 'ACDC']\n",
    "print(playlist)\n",
    "# ['The Beatles', 'Pink Floyd', 'ACDC', 'Deep Purple']"
   ]
  },
  {
   "cell_type": "markdown",
   "metadata": {},
   "source": [
    ".choice()"
   ]
  },
  {
   "cell_type": "code",
   "execution_count": 65,
   "metadata": {},
   "outputs": [
    {
     "name": "stdout",
     "output_type": "stream",
     "text": [
      "['Ivan' 'Nikita' 'John' 'Maria' 'John' 'Ivan' 'Nikita' 'John' 'John'\n",
      " 'Ivan']\n"
     ]
    },
    {
     "ename": "ValueError",
     "evalue": "Cannot take a larger sample than population when 'replace=False'",
     "output_type": "error",
     "traceback": [
      "\u001b[1;31m---------------------------------------------------------------------------\u001b[0m",
      "\u001b[1;31mValueError\u001b[0m                                Traceback (most recent call last)",
      "\u001b[1;32mc:\\Users\\Boris\\Desktop\\курс\\IDE\\Examples and tests\\Numpy\\numpy.ipynb Ячейка 55\u001b[0m in \u001b[0;36m<cell line: 6>\u001b[1;34m()\u001b[0m\n\u001b[0;32m      <a href='vscode-notebook-cell:/c%3A/Users/Boris/Desktop/%D0%BA%D1%83%D1%80%D1%81/IDE/Examples%20and%20tests/Numpy/numpy.ipynb#Y116sZmlsZQ%3D%3D?line=2'>3</a>\u001b[0m \u001b[39mprint\u001b[39m(choice)\n\u001b[0;32m      <a href='vscode-notebook-cell:/c%3A/Users/Boris/Desktop/%D0%BA%D1%83%D1%80%D1%81/IDE/Examples%20and%20tests/Numpy/numpy.ipynb#Y116sZmlsZQ%3D%3D?line=4'>5</a>\u001b[0m workers \u001b[39m=\u001b[39m [\u001b[39m'\u001b[39m\u001b[39mIvan\u001b[39m\u001b[39m'\u001b[39m, \u001b[39m'\u001b[39m\u001b[39mNikita\u001b[39m\u001b[39m'\u001b[39m, \u001b[39m'\u001b[39m\u001b[39mMaria\u001b[39m\u001b[39m'\u001b[39m, \u001b[39m'\u001b[39m\u001b[39mJohn\u001b[39m\u001b[39m'\u001b[39m, \u001b[39m'\u001b[39m\u001b[39mKate\u001b[39m\u001b[39m'\u001b[39m]\n\u001b[1;32m----> <a href='vscode-notebook-cell:/c%3A/Users/Boris/Desktop/%D0%BA%D1%83%D1%80%D1%81/IDE/Examples%20and%20tests/Numpy/numpy.ipynb#Y116sZmlsZQ%3D%3D?line=5'>6</a>\u001b[0m choice \u001b[39m=\u001b[39m np\u001b[39m.\u001b[39;49mrandom\u001b[39m.\u001b[39;49mchoice(workers, size\u001b[39m=\u001b[39;49m\u001b[39m10\u001b[39;49m, replace\u001b[39m=\u001b[39;49m\u001b[39mFalse\u001b[39;49;00m)\n\u001b[0;32m      <a href='vscode-notebook-cell:/c%3A/Users/Boris/Desktop/%D0%BA%D1%83%D1%80%D1%81/IDE/Examples%20and%20tests/Numpy/numpy.ipynb#Y116sZmlsZQ%3D%3D?line=6'>7</a>\u001b[0m \u001b[39mprint\u001b[39m(choice)\n",
      "File \u001b[1;32mmtrand.pyx:965\u001b[0m, in \u001b[0;36mnumpy.random.mtrand.RandomState.choice\u001b[1;34m()\u001b[0m\n",
      "\u001b[1;31mValueError\u001b[0m: Cannot take a larger sample than population when 'replace=False'"
     ]
    }
   ],
   "source": [
    "#a — одномерный массив или число для генерации arange(a);\n",
    "#size — желаемая форма массива (число для получения одномерного массива, кортеж — для многомерного; если параметр не задан, возвращается один объект);\n",
    "#replace — параметр, задающий, могут ли элементы повторяться (по умолчанию могут).\n",
    "\n",
    "workers = ['Ivan', 'Nikita', 'Maria', 'John', 'Kate']\n",
    "choice = np.random.choice(workers, size=10)\n",
    "print(choice)\n",
    "\n",
    "workers = ['Ivan', 'Nikita', 'Maria', 'John', 'Kate']\n",
    "choice = np.random.choice(workers, size=10, replace=False)\n",
    "print(choice)\n",
    "# ValueError: Cannot take a larger sample than population when 'replace=False'\n",
    "# Ошибка значения: нельзя получить выборку больше, чем популяция (популяция — весь доступный набор объектов, из которого получаем выборку), если replace=False (то есть выборка без повторений)."
   ]
  },
  {
   "cell_type": "code",
   "execution_count": 67,
   "metadata": {},
   "outputs": [
    {
     "data": {
      "text/plain": [
       "array([[3, 6, 8, 9],\n",
       "       [6, 8, 7, 9],\n",
       "       [3, 6, 1, 2]])"
      ]
     },
     "execution_count": 67,
     "metadata": {},
     "output_type": "execute_result"
    }
   ],
   "source": [
    "np.random.seed(23)\n",
    "np.random.randint(10, size=(3,4))\n",
    "# array([[3, 6, 8, 9],\n",
    "#        [6, 8, 7, 9],\n",
    "#        [3, 6, 1, 2]])"
   ]
  },
  {
   "cell_type": "code",
   "execution_count": 78,
   "metadata": {},
   "outputs": [
    {
     "name": "stdout",
     "output_type": "stream",
     "text": [
      "[2 2 2]\n",
      "[8 8 3]\n",
      "[7 7 0]\n",
      "[4 2 5]\n"
     ]
    }
   ],
   "source": [
    "np.random.seed(100)\n",
    "print(np.random.randint(10, size=3))\n",
    "# [8 8 3]\n",
    "print(np.random.randint(10, size=3))\n",
    "# [7 7 0]\n",
    "print(np.random.randint(10, size=3))\n",
    "# [4 2 5]"
   ]
  }
 ],
 "metadata": {
  "kernelspec": {
   "display_name": "Python 3.9.13 64-bit",
   "language": "python",
   "name": "python3"
  },
  "language_info": {
   "codemirror_mode": {
    "name": "ipython",
    "version": 3
   },
   "file_extension": ".py",
   "mimetype": "text/x-python",
   "name": "python",
   "nbconvert_exporter": "python",
   "pygments_lexer": "ipython3",
   "version": "3.9.13"
  },
  "orig_nbformat": 4,
  "vscode": {
   "interpreter": {
    "hash": "548c83946ac6174562a34cd30bb3bf23deaa49d6c7797d22dea96cb05ee08127"
   }
  }
 },
 "nbformat": 4,
 "nbformat_minor": 2
}
