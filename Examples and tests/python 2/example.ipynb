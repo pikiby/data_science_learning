{
 "cells": [
  {
   "cell_type": "markdown",
   "metadata": {},
   "source": [
    "Данные:\n",
    "https://lms.skillfactory.ru/assets/courseware/v1/92fd198fd3eccc09a8c3498e9dd25588/asset-v1:SkillFactory+DSPR-2.0+14JULY2021+type@asset+block/recipes.json"
   ]
  },
  {
   "cell_type": "markdown",
   "metadata": {},
   "source": [
    "Создаем признаки - моргалки по ингредиентам. "
   ]
  },
  {
   "cell_type": "code",
   "execution_count": 1,
   "metadata": {},
   "outputs": [
    {
     "ename": "FileNotFoundError",
     "evalue": "[Errno 2] No such file or directory: 'recipes.json'",
     "output_type": "error",
     "traceback": [
      "\u001b[1;31m---------------------------------------------------------------------------\u001b[0m",
      "\u001b[1;31mFileNotFoundError\u001b[0m                         Traceback (most recent call last)",
      "\u001b[1;32mc:\\Users\\Boris\\Desktop\\GIT\\data_science_learning\\Examples and tests\\python 2\\example.ipynb Ячейка 3\u001b[0m in \u001b[0;36m<cell line: 5>\u001b[1;34m()\u001b[0m\n\u001b[0;32m      <a href='vscode-notebook-cell:/c%3A/Users/Boris/Desktop/GIT/data_science_learning/Examples%20and%20tests/python%202/example.ipynb#W0sZmlsZQ%3D%3D?line=1'>2</a>\u001b[0m \u001b[39mfrom\u001b[39;00m \u001b[39mpprint\u001b[39;00m \u001b[39mimport\u001b[39;00m pprint \n\u001b[0;32m      <a href='vscode-notebook-cell:/c%3A/Users/Boris/Desktop/GIT/data_science_learning/Examples%20and%20tests/python%202/example.ipynb#W0sZmlsZQ%3D%3D?line=2'>3</a>\u001b[0m \u001b[39mimport\u001b[39;00m \u001b[39mpandas\u001b[39;00m \u001b[39mas\u001b[39;00m \u001b[39mpd\u001b[39;00m \n\u001b[1;32m----> <a href='vscode-notebook-cell:/c%3A/Users/Boris/Desktop/GIT/data_science_learning/Examples%20and%20tests/python%202/example.ipynb#W0sZmlsZQ%3D%3D?line=4'>5</a>\u001b[0m \u001b[39mwith\u001b[39;00m \u001b[39mopen\u001b[39;49m(\u001b[39m'\u001b[39;49m\u001b[39mrecipes.json\u001b[39;49m\u001b[39m'\u001b[39;49m) \u001b[39mas\u001b[39;00m f:\n\u001b[0;32m      <a href='vscode-notebook-cell:/c%3A/Users/Boris/Desktop/GIT/data_science_learning/Examples%20and%20tests/python%202/example.ipynb#W0sZmlsZQ%3D%3D?line=5'>6</a>\u001b[0m     recipes \u001b[39m=\u001b[39m json\u001b[39m.\u001b[39mload(f)\n\u001b[0;32m      <a href='vscode-notebook-cell:/c%3A/Users/Boris/Desktop/GIT/data_science_learning/Examples%20and%20tests/python%202/example.ipynb#W0sZmlsZQ%3D%3D?line=7'>8</a>\u001b[0m \u001b[39m# Делаем множество из ингредиентов\u001b[39;00m\n",
      "\u001b[1;31mFileNotFoundError\u001b[0m: [Errno 2] No such file or directory: 'recipes.json'"
     ]
    }
   ],
   "source": [
    "import json \n",
    "from pprint import pprint \n",
    "import pandas as pd \n",
    "\n",
    "with open('recipes.json') as f:\n",
    "    recipes = json.load(f)\n",
    "\n",
    "# Делаем множество из ингредиентов\n",
    "ingredients_set = set()\n",
    "for recipe in recipes:\n",
    "    for ingredient in recipe['ingredients']:\n",
    "        ingredients_set.add(ingredient)\n",
    "\n",
    "df = pd.DataFrame(recipes)\n",
    "\n",
    "# Функция возвращает 1 или 0 в зависимости от наличия ингредиента в рецепте \n",
    "def contains (ingredients_list):\n",
    "    if ingredient_name in ingredients_list:\n",
    "        return 1\n",
    "    else:\n",
    "        return 0\n",
    "\n",
    "# Цикл проходит по всем ингредиентам и создает новый столбец с названием ингрединета, \n",
    "# а затем применяет к нему функцию \n",
    "for ingredient_name in ingredients_set:    \n",
    "    df[ingredient_name]=df['ingredients'].apply(contains)\n",
    "    \n",
    "df['ingredients'] = df['ingredients'].apply(len)\n",
    "df"
   ]
  }
 ],
 "metadata": {
  "kernelspec": {
   "display_name": "Python 3.9.13 64-bit",
   "language": "python",
   "name": "python3"
  },
  "language_info": {
   "codemirror_mode": {
    "name": "ipython",
    "version": 3
   },
   "file_extension": ".py",
   "mimetype": "text/x-python",
   "name": "python",
   "nbconvert_exporter": "python",
   "pygments_lexer": "ipython3",
   "version": "3.9.13"
  },
  "orig_nbformat": 4,
  "vscode": {
   "interpreter": {
    "hash": "548c83946ac6174562a34cd30bb3bf23deaa49d6c7797d22dea96cb05ee08127"
   }
  }
 },
 "nbformat": 4,
 "nbformat_minor": 2
}
