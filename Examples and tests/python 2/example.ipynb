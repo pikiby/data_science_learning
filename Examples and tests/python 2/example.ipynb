{
 "cells": [
  {
   "cell_type": "markdown",
   "metadata": {},
   "source": [
    "Данные:\n",
    "https://lms.skillfactory.ru/assets/courseware/v1/92fd198fd3eccc09a8c3498e9dd25588/asset-v1:SkillFactory+DSPR-2.0+14JULY2021+type@asset+block/recipes.json"
   ]
  },
  {
   "cell_type": "code",
   "execution_count": null,
   "metadata": {},
   "outputs": [],
   "source": [
    "import json # Импортируем модуль json\n",
    "from pprint import pprint # Импортируем функцию pprint()\n",
    "import pandas as pd # Импортируем модуль pandas\n",
    "\n",
    "with open('recipes.json') as f:\n",
    "    recipes = json.load(f)\n",
    "\n",
    "ingredients_set = set()\n",
    "for recipe in recipes:\n",
    "    for ingredient in recipe['ingredients']:\n",
    "        ingredients_set.add(ingredient)\n",
    "\n",
    "df = pd.DataFrame(recipes)\n",
    "\n",
    "def contains (ingredients_list):\n",
    "    if ingredient_name in ingredients_list:\n",
    "        return 1\n",
    "    else:\n",
    "        return 0\n",
    "\n",
    "for ingredient_name in ingredients_set:    \n",
    "    df[ingredient_name]=df['ingredients'].apply(contains)\n",
    "    \n",
    "df['ingredients'] = df['ingredients'].apply(len)\n",
    "df"
   ]
  }
 ],
 "metadata": {
  "language_info": {
   "name": "python"
  },
  "orig_nbformat": 4
 },
 "nbformat": 4,
 "nbformat_minor": 2
}
