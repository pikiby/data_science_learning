{
 "cells": [
  {
   "cell_type": "markdown",
   "metadata": {},
   "source": [
    "Данные:\n",
    "https://lms.skillfactory.ru/assets/courseware/v1/92fd198fd3eccc09a8c3498e9dd25588/asset-v1:SkillFactory+DSPR-2.0+14JULY2021+type@asset+block/recipes.json"
   ]
  },
  {
   "cell_type": "markdown",
   "metadata": {},
   "source": [
    "Создаем признаки - моргалки по ингредиентам. "
   ]
  },
  {
   "cell_type": "code",
   "execution_count": null,
   "metadata": {},
   "outputs": [],
   "source": [
    "import json \n",
    "from pprint import pprint \n",
    "import pandas as pd \n",
    "\n",
    "with open('recipes.json') as f:\n",
    "    recipes = json.load(f)\n",
    "\n",
    "# Делаем множество из ингредиентов\n",
    "ingredients_set = set()\n",
    "for recipe in recipes:\n",
    "    for ingredient in recipe['ingredients']:\n",
    "        ingredients_set.add(ingredient)\n",
    "\n",
    "df = pd.DataFrame(recipes)\n",
    "\n",
    "# Функция возвращает 1 или 0 в зависимости от наличия ингредиента в рецепте \n",
    "def contains (ingredients_list):\n",
    "    if ingredient_name in ingredients_list:\n",
    "        return 1\n",
    "    else:\n",
    "        return 0\n",
    "\n",
    "# Цикл проходит по всем ингредиентам и создает новый столбец с названием ингрединета, \n",
    "# а затем применяет к нему функцию \n",
    "for ingredient_name in ingredients_set:    \n",
    "    df[ingredient_name]=df['ingredients'].apply(contains)\n",
    "    \n",
    "df['ingredients'] = df['ingredients'].apply(len)\n",
    "df"
   ]
  },
  {
   "cell_type": "code",
   "execution_count": null,
   "metadata": {},
   "outputs": [],
   "source": [
    "counter = 0\n",
    "\n",
    "def increment():\n",
    "   return counter+1\n",
    "\n",
    "counter = increment()\n",
    "counter\n",
    "counter"
   ]
  },
  {
   "cell_type": "code",
   "execution_count": null,
   "metadata": {},
   "outputs": [],
   "source": [
    "a = 1\n",
    "b = 2\n",
    "\n",
    "def increment():\n",
    "    return a+b\n",
    "\n",
    "c = increment()\n",
    "c"
   ]
  },
  {
   "cell_type": "code",
   "execution_count": null,
   "metadata": {},
   "outputs": [],
   "source": [
    "one = [1, \"2\", 3, \"4\"]\n",
    "two = (\"a\", \"b\", \"c\", \"d\")\n",
    "one.extend(two)"
   ]
  },
  {
   "cell_type": "code",
   "execution_count": null,
   "metadata": {},
   "outputs": [],
   "source": [
    "dict1 = {'a':1,'b':2}\n",
    "\n",
    "for key, value in dict1.items():\n",
    "    print(key)\n",
    "    print(value)"
   ]
  },
  {
   "cell_type": "code",
   "execution_count": null,
   "metadata": {},
   "outputs": [],
   "source": [
    "config = {\n",
    "    \"server\": {\n",
    "        \"host\": \"127.0.0.1\",\n",
    "        \"port\": \"22\"\n",
    "    },\n",
    "    \"configuration\": {\n",
    "        \"ssh\": {\n",
    "            \"access\": True,\n",
    "            \"login\": \"some\",\n",
    "            \"password\": \"some\"\n",
    "        },\n",
    "        \"name\": \"2491Oaaf1414\"\n",
    "    }\n",
    "}\n",
    "config['configuration']['ssh']['login']"
   ]
  },
  {
   "cell_type": "code",
   "execution_count": null,
   "metadata": {},
   "outputs": [],
   "source": [
    "s='sdf sdfs'\n",
    "''.join(s.split(' '))"
   ]
  },
  {
   "cell_type": "code",
   "execution_count": null,
   "metadata": {},
   "outputs": [],
   "source": [
    "\n",
    "s ='123'\n",
    "s.isnumeric()"
   ]
  },
  {
   "cell_type": "code",
   "execution_count": null,
   "metadata": {},
   "outputs": [],
   "source": [
    "import numpy\n",
    "n=3\n",
    "m=4\n",
    "a=numpy.zeros((n, m))\n",
    "a"
   ]
  },
  {
   "cell_type": "code",
   "execution_count": null,
   "metadata": {},
   "outputs": [],
   "source": [
    "import pandas as pd\n",
    "users = pd.DataFrame({\n",
    "    'user_id': [1,2,3,4,3,7,9,10],\n",
    "    'action':[1,2,3,4,5,6,7,1,3]\n",
    "}\n",
    ")\n",
    "\n",
    "users.groupby('user_id')['action'].count().sort_values(ascending=False).loc[:5]"
   ]
  },
  {
   "cell_type": "code",
   "execution_count": null,
   "metadata": {},
   "outputs": [],
   "source": [
    "products ={'a':10,'b':20}\n",
    "stocks ={'a':10,'b':20}\n",
    "\n",
    "for i in stocks:\n",
    "    print (i)\n",
    "\n",
    "stocks['a']"
   ]
  },
  {
   "cell_type": "code",
   "execution_count": null,
   "metadata": {},
   "outputs": [],
   "source": [
    "products = {'Oranges (packaged)': 114.99, 'Candy (Rotfront)': 280.0, 'Boiled sausage': 199.99, 'Juice J7 (orange)': 119.99, 'Trout (Seven Seas)': 399.99}\n",
    "stocks = {'Boiled sausage': '33%', 'Juice J7 (orange)': '12%', 'Trout (Seven Seas)': '18%'}\n",
    "stocks = {'Oranges (packaged)': '15%', 'Boiled sausage': '10%', 'Candy (Rotfront)': '50%', 'Diapers': '10%'}\n",
    "\n",
    "def apply_discounts(products, stocks):\n",
    "    for i in stocks:\n",
    "        if i in products:\n",
    "            stocks_float = float(stocks[i].replace('%',''))\n",
    "            products[i] = round(products[i]*(1-stocks_float/100),2)\n",
    "    return products\n",
    "\n",
    "apply_discounts(products, stocks)\n",
    "products\n",
    "\n"
   ]
  },
  {
   "cell_type": "code",
   "execution_count": null,
   "metadata": {},
   "outputs": [],
   "source": [
    "import pandas as pd\n",
    "\n",
    "bronze_top = pd.DataFrame({\n",
    "    'Country':[1,2,3,4,5,6],\n",
    "    'Total':[1,2,3,4,5,6]\n",
    "})\n",
    "\n",
    "silver_top = pd.DataFrame({\n",
    "    'Country':[4,5,6],\n",
    "    'Total':[8,9,10]\n",
    "})\n",
    "\n",
    "\n",
    "merged = bronze_top.merge(\n",
    "    silver_top,\n",
    "    on='Country',\n",
    "    how='inner',\n",
    "    suffixes=('_bronze', '_silver')\n",
    ")\n",
    "\n",
    "display(merged)"
   ]
  },
  {
   "cell_type": "code",
   "execution_count": null,
   "metadata": {},
   "outputs": [],
   "source": [
    "\n",
    "\n",
    "import pandas as pd\n",
    "\n",
    "bronze_top = pd.read_csv(bronze_top.csv,sep=',') \n",
    "silver_top = pd.read_csv(silver_top.csv,sep=',') \n",
    "\n",
    "merged = bronze_top.merge(\n",
    "    silver_top,\n",
    "    on='Country',\n",
    "    how='inner',\n",
    "    lsuffix='_bronze',\n",
    "    rsuffix='_silver'\n",
    ")\n",
    "\n",
    "solar_data = solar_data['cum_power'].apply(lambda x: x)"
   ]
  },
  {
   "cell_type": "code",
   "execution_count": 134,
   "metadata": {},
   "outputs": [
    {
     "data": {
      "text/html": [
       "<div>\n",
       "<style scoped>\n",
       "    .dataframe tbody tr th:only-of-type {\n",
       "        vertical-align: middle;\n",
       "    }\n",
       "\n",
       "    .dataframe tbody tr th {\n",
       "        vertical-align: top;\n",
       "    }\n",
       "\n",
       "    .dataframe thead th {\n",
       "        text-align: right;\n",
       "    }\n",
       "</style>\n",
       "<table border=\"1\" class=\"dataframe\">\n",
       "  <thead>\n",
       "    <tr style=\"text-align: right;\">\n",
       "      <th></th>\n",
       "      <th>date</th>\n",
       "      <th>cum_power</th>\n",
       "    </tr>\n",
       "  </thead>\n",
       "  <tbody>\n",
       "    <tr>\n",
       "      <th>0</th>\n",
       "      <td>2017-01-01</td>\n",
       "      <td>20111.0</td>\n",
       "    </tr>\n",
       "    <tr>\n",
       "      <th>1</th>\n",
       "      <td>2017-01-02</td>\n",
       "      <td>20112.0</td>\n",
       "    </tr>\n",
       "    <tr>\n",
       "      <th>2</th>\n",
       "      <td>2017-01-03</td>\n",
       "      <td>20115.0</td>\n",
       "    </tr>\n",
       "    <tr>\n",
       "      <th>3</th>\n",
       "      <td>2017-01-04</td>\n",
       "      <td>20117.0</td>\n",
       "    </tr>\n",
       "    <tr>\n",
       "      <th>4</th>\n",
       "      <td>2017-01-05</td>\n",
       "      <td>20119.0</td>\n",
       "    </tr>\n",
       "  </tbody>\n",
       "</table>\n",
       "</div>"
      ],
      "text/plain": [
       "         date  cum_power\n",
       "0  2017-01-01    20111.0\n",
       "1  2017-01-02    20112.0\n",
       "2  2017-01-03    20115.0\n",
       "3  2017-01-04    20117.0\n",
       "4  2017-01-05    20119.0"
      ]
     },
     "execution_count": 134,
     "metadata": {},
     "output_type": "execute_result"
    }
   ],
   "source": [
    "solar_data = pd.read_csv('data/solarpower.zip')\n",
    "solar_data.head()"
   ]
  },
  {
   "cell_type": "code",
   "execution_count": 135,
   "metadata": {},
   "outputs": [
    {
     "name": "stdout",
     "output_type": "stream",
     "text": [
      "45\n",
      "647\n"
     ]
    },
    {
     "name": "stderr",
     "output_type": "stream",
     "text": [
      "C:\\Users\\Boris\\AppData\\Local\\Temp\\ipykernel_5736\\2489937303.py:4: SettingWithCopyWarning: \n",
      "A value is trying to be set on a copy of a slice from a DataFrame\n",
      "\n",
      "See the caveats in the documentation: https://pandas.pydata.org/pandas-docs/stable/user_guide/indexing.html#returning-a-view-versus-a-copy\n",
      "  solar_data['cum_power'].loc[i] = (solar_data['cum_power'].loc[i-1]+solar_data['cum_power'].loc[i+1])/2\n"
     ]
    }
   ],
   "source": [
    "for i in solar_data.index:\n",
    "    if solar_data['cum_power'].loc[i] == -1:\n",
    "        print (i)\n",
    "        solar_data['cum_power'].loc[i] = (solar_data['cum_power'].loc[i-1]+solar_data['cum_power'].loc[i+1])/2"
   ]
  },
  {
   "cell_type": "code",
   "execution_count": 150,
   "metadata": {},
   "outputs": [
    {
     "name": "stderr",
     "output_type": "stream",
     "text": [
      "C:\\Users\\Boris\\AppData\\Local\\Temp\\ipykernel_5736\\527620222.py:3: SettingWithCopyWarning: \n",
      "A value is trying to be set on a copy of a slice from a DataFrame\n",
      "\n",
      "See the caveats in the documentation: https://pandas.pydata.org/pandas-docs/stable/user_guide/indexing.html#returning-a-view-versus-a-copy\n",
      "  solar_data['day_power'].loc[i] = 0\n",
      "C:\\Users\\Boris\\AppData\\Local\\Temp\\ipykernel_5736\\527620222.py:5: SettingWithCopyWarning: \n",
      "A value is trying to be set on a copy of a slice from a DataFrame\n",
      "\n",
      "See the caveats in the documentation: https://pandas.pydata.org/pandas-docs/stable/user_guide/indexing.html#returning-a-view-versus-a-copy\n",
      "  solar_data['day_power'].loc[i]=solar_data['cum_power'].loc[i]-solar_data['cum_power'].loc[i-1]\n"
     ]
    },
    {
     "data": {
      "text/html": [
       "<div>\n",
       "<style scoped>\n",
       "    .dataframe tbody tr th:only-of-type {\n",
       "        vertical-align: middle;\n",
       "    }\n",
       "\n",
       "    .dataframe tbody tr th {\n",
       "        vertical-align: top;\n",
       "    }\n",
       "\n",
       "    .dataframe thead th {\n",
       "        text-align: right;\n",
       "    }\n",
       "</style>\n",
       "<table border=\"1\" class=\"dataframe\">\n",
       "  <thead>\n",
       "    <tr style=\"text-align: right;\">\n",
       "      <th></th>\n",
       "      <th>date</th>\n",
       "      <th>cum_power</th>\n",
       "      <th>day_power</th>\n",
       "    </tr>\n",
       "  </thead>\n",
       "  <tbody>\n",
       "    <tr>\n",
       "      <th>0</th>\n",
       "      <td>2017-01-01</td>\n",
       "      <td>20111.0</td>\n",
       "      <td>0.0</td>\n",
       "    </tr>\n",
       "    <tr>\n",
       "      <th>1</th>\n",
       "      <td>2017-01-02</td>\n",
       "      <td>20112.0</td>\n",
       "      <td>1.0</td>\n",
       "    </tr>\n",
       "    <tr>\n",
       "      <th>2</th>\n",
       "      <td>2017-01-03</td>\n",
       "      <td>20115.0</td>\n",
       "      <td>3.0</td>\n",
       "    </tr>\n",
       "    <tr>\n",
       "      <th>3</th>\n",
       "      <td>2017-01-04</td>\n",
       "      <td>20117.0</td>\n",
       "      <td>2.0</td>\n",
       "    </tr>\n",
       "    <tr>\n",
       "      <th>4</th>\n",
       "      <td>2017-01-05</td>\n",
       "      <td>20119.0</td>\n",
       "      <td>2.0</td>\n",
       "    </tr>\n",
       "  </tbody>\n",
       "</table>\n",
       "</div>"
      ],
      "text/plain": [
       "        date  cum_power  day_power\n",
       "0 2017-01-01    20111.0        0.0\n",
       "1 2017-01-02    20112.0        1.0\n",
       "2 2017-01-03    20115.0        3.0\n",
       "3 2017-01-04    20117.0        2.0\n",
       "4 2017-01-05    20119.0        2.0"
      ]
     },
     "execution_count": 150,
     "metadata": {},
     "output_type": "execute_result"
    }
   ],
   "source": [
    "for i in solar_data.index:\n",
    "    if i == 0:\n",
    "        solar_data['day_power'].loc[i] = 0\n",
    "    else:\n",
    "        solar_data['day_power'].loc[i]=solar_data['cum_power'].loc[i]-solar_data['cum_power'].loc[i-1]\n",
    "\n",
    "solar_data.head()\n",
    "\n",
    "\n"
   ]
  },
  {
   "cell_type": "code",
   "execution_count": 151,
   "metadata": {},
   "outputs": [
    {
     "data": {
      "text/html": [
       "<div>\n",
       "<style scoped>\n",
       "    .dataframe tbody tr th:only-of-type {\n",
       "        vertical-align: middle;\n",
       "    }\n",
       "\n",
       "    .dataframe tbody tr th {\n",
       "        vertical-align: top;\n",
       "    }\n",
       "\n",
       "    .dataframe thead th {\n",
       "        text-align: right;\n",
       "    }\n",
       "</style>\n",
       "<table border=\"1\" class=\"dataframe\">\n",
       "  <thead>\n",
       "    <tr style=\"text-align: right;\">\n",
       "      <th></th>\n",
       "      <th>cum_power</th>\n",
       "      <th>day_power</th>\n",
       "    </tr>\n",
       "    <tr>\n",
       "      <th>date</th>\n",
       "      <th></th>\n",
       "      <th></th>\n",
       "    </tr>\n",
       "  </thead>\n",
       "  <tbody>\n",
       "    <tr>\n",
       "      <th>2017-01</th>\n",
       "      <td>20153.096774</td>\n",
       "      <td>3.129032</td>\n",
       "    </tr>\n",
       "    <tr>\n",
       "      <th>2017-02</th>\n",
       "      <td>20257.035714</td>\n",
       "      <td>3.714286</td>\n",
       "    </tr>\n",
       "    <tr>\n",
       "      <th>2017-03</th>\n",
       "      <td>20444.580645</td>\n",
       "      <td>10.774194</td>\n",
       "    </tr>\n",
       "    <tr>\n",
       "      <th>2017-04</th>\n",
       "      <td>20885.033333</td>\n",
       "      <td>16.300000</td>\n",
       "    </tr>\n",
       "    <tr>\n",
       "      <th>2017-05</th>\n",
       "      <td>21408.096774</td>\n",
       "      <td>19.000000</td>\n",
       "    </tr>\n",
       "    <tr>\n",
       "      <th>2017-06</th>\n",
       "      <td>22068.233333</td>\n",
       "      <td>21.500000</td>\n",
       "    </tr>\n",
       "    <tr>\n",
       "      <th>2017-07</th>\n",
       "      <td>22667.096774</td>\n",
       "      <td>18.129032</td>\n",
       "    </tr>\n",
       "    <tr>\n",
       "      <th>2017-08</th>\n",
       "      <td>23178.677419</td>\n",
       "      <td>15.064516</td>\n",
       "    </tr>\n",
       "    <tr>\n",
       "      <th>2017-09</th>\n",
       "      <td>23573.433333</td>\n",
       "      <td>11.533333</td>\n",
       "    </tr>\n",
       "    <tr>\n",
       "      <th>2017-10</th>\n",
       "      <td>23858.322581</td>\n",
       "      <td>6.419355</td>\n",
       "    </tr>\n",
       "    <tr>\n",
       "      <th>2017-11</th>\n",
       "      <td>23999.166667</td>\n",
       "      <td>3.233333</td>\n",
       "    </tr>\n",
       "    <tr>\n",
       "      <th>2017-12</th>\n",
       "      <td>24058.516129</td>\n",
       "      <td>1.161290</td>\n",
       "    </tr>\n",
       "    <tr>\n",
       "      <th>2018-01</th>\n",
       "      <td>24103.516129</td>\n",
       "      <td>2.064516</td>\n",
       "    </tr>\n",
       "    <tr>\n",
       "      <th>2018-02</th>\n",
       "      <td>24225.321429</td>\n",
       "      <td>6.928571</td>\n",
       "    </tr>\n",
       "    <tr>\n",
       "      <th>2018-03</th>\n",
       "      <td>24461.258065</td>\n",
       "      <td>8.709677</td>\n",
       "    </tr>\n",
       "    <tr>\n",
       "      <th>2018-04</th>\n",
       "      <td>24815.300000</td>\n",
       "      <td>14.633333</td>\n",
       "    </tr>\n",
       "    <tr>\n",
       "      <th>2018-05</th>\n",
       "      <td>25387.096774</td>\n",
       "      <td>21.032258</td>\n",
       "    </tr>\n",
       "    <tr>\n",
       "      <th>2018-06</th>\n",
       "      <td>25959.300000</td>\n",
       "      <td>18.766667</td>\n",
       "    </tr>\n",
       "    <tr>\n",
       "      <th>2018-07</th>\n",
       "      <td>26625.483871</td>\n",
       "      <td>22.000000</td>\n",
       "    </tr>\n",
       "    <tr>\n",
       "      <th>2018-08</th>\n",
       "      <td>27245.322581</td>\n",
       "      <td>17.096774</td>\n",
       "    </tr>\n",
       "    <tr>\n",
       "      <th>2018-09</th>\n",
       "      <td>27692.100000</td>\n",
       "      <td>13.866667</td>\n",
       "    </tr>\n",
       "    <tr>\n",
       "      <th>2018-10</th>\n",
       "      <td>28024.230769</td>\n",
       "      <td>9.000000</td>\n",
       "    </tr>\n",
       "  </tbody>\n",
       "</table>\n",
       "</div>"
      ],
      "text/plain": [
       "            cum_power  day_power\n",
       "date                            \n",
       "2017-01  20153.096774   3.129032\n",
       "2017-02  20257.035714   3.714286\n",
       "2017-03  20444.580645  10.774194\n",
       "2017-04  20885.033333  16.300000\n",
       "2017-05  21408.096774  19.000000\n",
       "2017-06  22068.233333  21.500000\n",
       "2017-07  22667.096774  18.129032\n",
       "2017-08  23178.677419  15.064516\n",
       "2017-09  23573.433333  11.533333\n",
       "2017-10  23858.322581   6.419355\n",
       "2017-11  23999.166667   3.233333\n",
       "2017-12  24058.516129   1.161290\n",
       "2018-01  24103.516129   2.064516\n",
       "2018-02  24225.321429   6.928571\n",
       "2018-03  24461.258065   8.709677\n",
       "2018-04  24815.300000  14.633333\n",
       "2018-05  25387.096774  21.032258\n",
       "2018-06  25959.300000  18.766667\n",
       "2018-07  26625.483871  22.000000\n",
       "2018-08  27245.322581  17.096774\n",
       "2018-09  27692.100000  13.866667\n",
       "2018-10  28024.230769   9.000000"
      ]
     },
     "execution_count": 151,
     "metadata": {},
     "output_type": "execute_result"
    }
   ],
   "source": [
    "date_m = solar_data['date'].dt.to_period(freq = 'M')\n",
    "\n",
    "solar_data.groupby(solar_data['date'].dt.to_period(freq = 'M')).mean()\n"
   ]
  }
 ],
 "metadata": {
  "kernelspec": {
   "display_name": "Python 3.9.13 64-bit",
   "language": "python",
   "name": "python3"
  },
  "language_info": {
   "codemirror_mode": {
    "name": "ipython",
    "version": 3
   },
   "file_extension": ".py",
   "mimetype": "text/x-python",
   "name": "python",
   "nbconvert_exporter": "python",
   "pygments_lexer": "ipython3",
   "version": "3.9.13 (tags/v3.9.13:6de2ca5, May 17 2022, 16:36:42) [MSC v.1929 64 bit (AMD64)]"
  },
  "orig_nbformat": 4,
  "vscode": {
   "interpreter": {
    "hash": "548c83946ac6174562a34cd30bb3bf23deaa49d6c7797d22dea96cb05ee08127"
   }
  }
 },
 "nbformat": 4,
 "nbformat_minor": 2
}
