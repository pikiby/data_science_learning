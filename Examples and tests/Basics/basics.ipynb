{
 "cells": [
  {
   "cell_type": "markdown",
   "metadata": {},
   "source": [
    "Documentations, Objects, values and types https://docs.python.org/3.3/reference/datamodel.html"
   ]
  },
  {
   "cell_type": "markdown",
   "metadata": {},
   "source": [
    "## variable"
   ]
  },
  {
   "cell_type": "code",
   "execution_count": null,
   "metadata": {},
   "outputs": [],
   "source": [
    "name, surname = \"John\", \"Lennon\"\n",
    "print (name)\n",
    "print (surname)"
   ]
  },
  {
   "cell_type": "code",
   "execution_count": null,
   "metadata": {},
   "outputs": [],
   "source": [
    "a = 1\n",
    "b = 2\n",
    "a, b = b, a\n",
    "print ('a =',a)\n",
    "print ('b =',b)"
   ]
  },
  {
   "cell_type": "markdown",
   "metadata": {},
   "source": [
    "## integers"
   ]
  },
  {
   "cell_type": "code",
   "execution_count": null,
   "metadata": {},
   "outputs": [],
   "source": [
    "a = 5/2\n",
    "print(a)"
   ]
  },
  {
   "cell_type": "code",
   "execution_count": null,
   "metadata": {},
   "outputs": [],
   "source": [
    "print(1 // 3)\n",
    "# 0\n",
    "print(3 // 3)\n",
    "# 1\n",
    "print(29 // 3)\n",
    "# 9"
   ]
  },
  {
   "cell_type": "code",
   "execution_count": null,
   "metadata": {},
   "outputs": [],
   "source": [
    "print(1 % 3) # ближайшее число, которое нацело делится на 3 — это ноль\n",
    "# 1\n",
    "print(3 % 3) # в этом примере сам делитель может нацело разделиться\n",
    "# 0\n",
    "print(29 % 3) # здесь ближайшее число — 27, и поэтому результат 29-27=2\n",
    "# 2"
   ]
  },
  {
   "cell_type": "code",
   "execution_count": null,
   "metadata": {},
   "outputs": [],
   "source": [
    "a = -5\n",
    "b = 2\n",
    "q = a // b\n",
    "r = a % b \n",
    "print (q)\n",
    "print (r)"
   ]
  },
  {
   "cell_type": "code",
   "execution_count": null,
   "metadata": {},
   "outputs": [],
   "source": [
    "print(1.3+2.3)\n",
    "#3.5999999999999996\n",
    "print(1.00+0.01-3.01) # ожидается -2.0\n",
    "# -1.9999999999999998\n",
    "print(round(1.00+0.01-3.01))\n",
    "\n",
    "print(3.14/2)\n",
    "# 1.57\n",
    "print(round(3.14/2, 1)) # второй аргумент — желаемое количество знаков\n",
    "# 1.6"
   ]
  },
  {
   "cell_type": "markdown",
   "metadata": {},
   "source": [
    "rules of rounding in mathematics: http://files.school-collection.edu.ru/dlrstore/3e72b9a1-2e8f-4371-9c9e-f688640fe66e/section1_article6.html"
   ]
  },
  {
   "cell_type": "markdown",
   "metadata": {},
   "source": [
    "## string"
   ]
  },
  {
   "cell_type": "code",
   "execution_count": null,
   "metadata": {},
   "outputs": [],
   "source": [
    "s = \"Hello!\"\n",
    "print(s[0])\n",
    "# H\n",
    "print(s[4])\n",
    "# o\n",
    "print(s[1:4])\n",
    "# ell\n",
    "print(s[2:])\n",
    "# llo!\n",
    "print(s[:4])\n",
    "# Hell\n",
    "print(s[::2])\n",
    "# Hlo\n",
    "print(s[::-1])\n",
    "# !olleH\n",
    "print(s[-1])\n",
    "# !\n",
    "print(s[-3:-1])\n",
    "# lo\n",
    "s = \"Hel\" + \"lo!\"\n",
    "print(s)\n",
    "# Hello!\n",
    "s = \"Hello!\"\n",
    "print(s*3)\n",
    "# Hello!Hello!Hello!"
   ]
  },
  {
   "cell_type": "markdown",
   "metadata": {},
   "source": [
    "len()"
   ]
  },
  {
   "cell_type": "code",
   "execution_count": 5,
   "metadata": {},
   "outputs": [
    {
     "name": "stdout",
     "output_type": "stream",
     "text": [
      "6\n"
     ]
    }
   ],
   "source": [
    "s = \"Hello!\"\n",
    "print(len(s))\n",
    "#6"
   ]
  },
  {
   "cell_type": "markdown",
   "metadata": {},
   "source": [
    ".find()"
   ]
  },
  {
   "cell_type": "code",
   "execution_count": null,
   "metadata": {},
   "outputs": [],
   "source": [
    "s = \"Hello!\"\n",
    "\n",
    "print(s.find('e'))\n",
    "# 1\n",
    "print(s.find('o!'))\n",
    "# 4\n",
    "print(s.find('l'))\n",
    "# 2"
   ]
  },
  {
   "cell_type": "markdown",
   "metadata": {},
   "source": [
    "isdigit() isalpha() isalnum()"
   ]
  },
  {
   "cell_type": "code",
   "execution_count": null,
   "metadata": {},
   "outputs": [],
   "source": [
    "s = \"Hello!\"\n",
    "\n",
    "print(s.isdigit())\n",
    "# False\n",
    "\n",
    "print(s.isalpha()) \n",
    "# False\n",
    "\n",
    "print(s.isalnum())\n",
    "# False\n"
   ]
  },
  {
   "cell_type": "markdown",
   "metadata": {},
   "source": [
    ".upper() .lower()"
   ]
  },
  {
   "cell_type": "code",
   "execution_count": null,
   "metadata": {},
   "outputs": [],
   "source": [
    "print(s.upper())\n",
    "# HELLO!\n",
    "\n",
    "print(s.lower())\n",
    "# hello!\n",
    "\n",
    "print(s)\n",
    "# Hello!"
   ]
  },
  {
   "cell_type": "markdown",
   "metadata": {},
   "source": [
    "split()"
   ]
  },
  {
   "cell_type": "code",
   "execution_count": 14,
   "metadata": {},
   "outputs": [
    {
     "name": "stdout",
     "output_type": "stream",
     "text": [
      "['red', 'blue', 'green']\n"
     ]
    }
   ],
   "source": [
    "colors = 'red blue green'\n",
    "print(colors.split())\n",
    "\n",
    "#['red', 'blue', 'green']"
   ]
  },
  {
   "cell_type": "markdown",
   "metadata": {},
   "source": [
    ".join"
   ]
  },
  {
   "cell_type": "code",
   "execution_count": null,
   "metadata": {},
   "outputs": [],
   "source": [
    "colors = 'red green blue'\n",
    "colors_split = colors.split() # список цветов по отдельности\n",
    "colors_joined = ' and '.join(colors_split) # объединение строк\n",
    "print(colors_joined)\n",
    "# red and green and blue"
   ]
  },
  {
   "cell_type": "markdown",
   "metadata": {},
   "source": [
    "Documentation https://pythonworld.ru/tipy-dannyx-v-python/stroki-funkcii-i-metody-strok.html"
   ]
  },
  {
   "attachments": {},
   "cell_type": "markdown",
   "metadata": {},
   "source": [
    ".replace"
   ]
  },
  {
   "cell_type": "code",
   "execution_count": null,
   "metadata": {},
   "outputs": [],
   "source": [
    "txt = \"I like bananas\"\n",
    "\n",
    "x = txt.replace(\"bananas\", \"apples\")\n",
    "\n",
    "print(x)"
   ]
  },
  {
   "cell_type": "markdown",
   "metadata": {},
   "source": [
    "## format"
   ]
  },
  {
   "cell_type": "code",
   "execution_count": null,
   "metadata": {},
   "outputs": [],
   "source": [
    "print('The {} currency rate on the date {} is {}'.format(currency, cur_date, rate))\n",
    "print('The {0} currency rate on the date {2} is {1}'.format(currency, rate, cur_date))\n",
    "print('The {} currency rate on the date {} is {:.3f}'.format(currency, cur_date, rate))\n",
    "\n",
    "print(f'The {currency} currency rate on the date {cur_date} is {rate}')\n",
    "#The EUR currency rate on the date 20.06.2021 is 86.37\n",
    "print(f'The {currency} currency rate on the date {cur_date} is {rate*1.2}')\n",
    "#The EUR currency rate on the date 20.06.2021 is 103.644\n",
    "print('The %s currency rate on the date %s is %.2f' % (currency, cur_date, rate))"
   ]
  },
  {
   "cell_type": "markdown",
   "metadata": {},
   "source": [
    "Documentation https://docs.python.org/3/library/string.html#format-specification-mini-language\n",
    "            https://pythonworld.ru/osnovy/formatirovanie-strok-metod-format.html\n",
    "\n",
    "Documentation https://docs.python.org/3/library/string.html#format-examples"
   ]
  },
  {
   "cell_type": "markdown",
   "metadata": {},
   "source": [
    "## list"
   ]
  },
  {
   "cell_type": "code",
   "execution_count": null,
   "metadata": {},
   "outputs": [],
   "source": [
    "a = [\"a\", \"b\", \"c\"]\n",
    "a[0] \n",
    "# получим первый элемент \"a\"\n",
    "a[2]  \n",
    "# получим третий (последний элемент) \"c\"\n",
    "a[2] \n",
    "# “c”\n",
    "a[-1] \n",
    "# c“\n",
    "a = [\"a\", \"b\", \"c\", \"d\", \"e\"]\n",
    "a[:2] \n",
    "# получим элементы [\"a\", \"b\"]\n",
    "a[2:4] \n",
    "# получим элементы [\"c\", \"d\"]\n",
    "a[0:4:2] \n",
    "# возьмём только элементы на чётных индексах (0, 2)\n",
    "a = [\"a\", \"b\", \"c\", \"d\", \"e\"]\n",
    "b = a[::-1] \n",
    "# начать срез с первого элемента до последнего с шагом, равным -1"
   ]
  },
  {
   "cell_type": "markdown",
   "metadata": {},
   "source": [
    ".append()"
   ]
  },
  {
   "cell_type": "code",
   "execution_count": null,
   "metadata": {},
   "outputs": [],
   "source": [
    "orders_daily = [] \n",
    "# изначально список с чеками пустой\n",
    "orders_daily.append(\"order1\")\n",
    "orders_daily \n",
    "# [“order1”] — в списке появился первый чек."
   ]
  },
  {
   "cell_type": "markdown",
   "metadata": {},
   "source": [
    ".clear()"
   ]
  },
  {
   "cell_type": "code",
   "execution_count": null,
   "metadata": {},
   "outputs": [],
   "source": [
    "a = [\"order1\", \"order2\", \"order3\", \"order4\"]\n",
    "a.clear()\n",
    "a \n",
    "# []"
   ]
  },
  {
   "cell_type": "markdown",
   "metadata": {},
   "source": [
    ".extend()"
   ]
  },
  {
   "cell_type": "code",
   "execution_count": null,
   "metadata": {},
   "outputs": [],
   "source": [
    "a = [\"a\", \"b\", \"c\"]\n",
    "b = [\"d\", \"e\"]\n",
    "a.extend(b)\n",
    "a \n",
    "# [\"a\", \"b\", \"c\", \"d\", \"e\"]"
   ]
  },
  {
   "cell_type": "markdown",
   "metadata": {},
   "source": [
    ".reverse()"
   ]
  },
  {
   "cell_type": "code",
   "execution_count": null,
   "metadata": {},
   "outputs": [],
   "source": [
    "a = [1,2,3,4,5]\n",
    "a.reverse()\n",
    "a \n",
    "# [5,4,3,2,1]"
   ]
  },
  {
   "cell_type": "markdown",
   "metadata": {},
   "source": [
    ".sort()"
   ]
  },
  {
   "cell_type": "code",
   "execution_count": null,
   "metadata": {},
   "outputs": [],
   "source": [
    "a = [3,4,1,5,10,0, 2]\n",
    "a.sort()\n",
    "a \n",
    "# [0, 1, 2, 3, 4, 5, 10]"
   ]
  },
  {
   "cell_type": "markdown",
   "metadata": {},
   "source": [
    "## tuple"
   ]
  },
  {
   "cell_type": "code",
   "execution_count": null,
   "metadata": {},
   "outputs": [],
   "source": [
    "a = (1,2,3,4,5,6) \n",
    "# создадим кортеж \n",
    "b = [1,2,3,4,5,6] \n",
    "# создадим список с теми же элементами, что в кортеже выше\n",
    "a.__sizeof__() \n",
    "# 36\n",
    "b.__sizeof__() \n",
    "# 44"
   ]
  },
  {
   "cell_type": "code",
   "execution_count": null,
   "metadata": {},
   "outputs": [],
   "source": [
    "tpl3 = (\"s\")\n",
    "print (type(tpl3))\n",
    "#<class 'str'>\n",
    "\n",
    "tpl4 = (\"s\", )\n",
    "print (type(tpl4))\n",
    "#<class 'tuple'>"
   ]
  },
  {
   "cell_type": "markdown",
   "metadata": {},
   "source": [
    "## dict"
   ]
  },
  {
   "cell_type": "code",
   "execution_count": null,
   "metadata": {},
   "outputs": [],
   "source": [
    "d = {\"a\": 1, \"b\":3, \"a\": 5}\n",
    "d[\"a\"] \n",
    "#5"
   ]
  },
  {
   "cell_type": "code",
   "execution_count": null,
   "metadata": {},
   "outputs": [],
   "source": [
    "friends = {\"Kolya\": 180, \"Marina\": 176, \"Misha\": 158, \"Dima\": 201, \"Yana\": 183, \"Nina\": 156}\n",
    "friends_keys = list(friends.keys())\n",
    "friends_keys.sort()\n",
    "friends_keys\n",
    "#['Dima', 'Kolya', 'Marina', 'Misha', 'Nina', 'Yana']"
   ]
  },
  {
   "cell_type": "code",
   "execution_count": null,
   "metadata": {},
   "outputs": [],
   "source": [
    "phones = {'+79033923029': 'Ivan Ivanov', '+78125849204': 'Kirill Smirnov', '+79053049385': 'Mark Parkhomenko', \n",
    "          '+79265748370': 'Ekaterina Dmitrieva', '+79030598495': 'Ruslan Belyi'}\n",
    "\n",
    "phones[\"+79265748370\"]  = 'Ekaterina Ershova'\n",
    "phones[\"+79265748370\"]\n",
    "\n",
    "phones[\"+79686581788\"]  = 'Artem Pliev'\n",
    "\n",
    "print (phones)\n",
    "#{'+79033923029': 'Ivan Ivanov', '+78125849204': 'Kirill Smirnov', '+79053049385': 'Mark Parkhomenko',\n",
    "# '+79265748370': 'Ekaterina Ershova', '+79030598495': 'Ruslan Belyi', '+79686581788': 'Artem Pliev'}"
   ]
  },
  {
   "cell_type": "code",
   "execution_count": null,
   "metadata": {},
   "outputs": [],
   "source": [
    "friends = {\"Kolya\": 180, \"Marina\": 176, \"Misha\": 158, \"Dima\": 201, \"Yana\": 183, \"Nina\": 156}\n",
    "friends.keys() \n",
    "# dict_keys([\"Kolya\", \"Marina\", \"Misha\", \"Dima\", \"Yana\", \"Nina\"])\n",
    "\n",
    "friends.values()\n",
    "# dict_values([180, 176, 158, 201, 183, 156])\n",
    "\n",
    "friends.update({\"Stas\":171, \"Nastya\": 163})\n",
    "print(friends) \n",
    "friends.update({\"Stas\":183})\n",
    "print(friends) \n",
    "\n",
    "# {\"Kolya\" 180, \"Marina\": 176, \"Misha\": 158, \"Dima\": 201, \"Yana\": 183, \"Nina\": 156, \"Stas\":183, \"Nastya\": 163}\n",
    "best_friend_height = friends.pop(\"Misha\")\n",
    "print(friends) \n",
    "\n",
    "# {\"Kolya\": 180, \"Marina\": 176, \"Dima\": 201, \"Yana\": 183, \"Nina\": 156, \"Stas\":183, \"Nastya\": 163}\n",
    "print (best_friend_height)\n"
   ]
  },
  {
   "cell_type": "code",
   "execution_count": null,
   "metadata": {},
   "outputs": [],
   "source": [
    "friends[\"Matvey\"] \n",
    "# Ошибка KeyError: \"Matvey\""
   ]
  },
  {
   "cell_type": "code",
   "execution_count": null,
   "metadata": {},
   "outputs": [],
   "source": [
    "friends.get(\"Matvey\") \n",
    "# None\n",
    "friends.get(\"Matvey\", \"I don't have a friend with such a name.\") \n",
    "# \"I don't have a friend with such a name.\"\n",
    "friends.get(\"Matvey\", 100) \n",
    "# 100"
   ]
  },
  {
   "cell_type": "code",
   "execution_count": null,
   "metadata": {},
   "outputs": [],
   "source": [
    "friends = {\"Kolya\": 180, \"Marina\": 176, \"Dima\": 201, \"Yana\": 183, \"Nina\": 156, \"Stas\":183, \"Nastya\": 163}\n",
    "friends.setdefault(\"Nastya\",100)\n",
    "print (friends) \n",
    "friends.setdefault(\"Alena\", 170)\n",
    "print (friends)"
   ]
  },
  {
   "cell_type": "code",
   "execution_count": null,
   "metadata": {},
   "outputs": [],
   "source": [
    "d = {(1,2): \"hello\", \"my name is\": \"Curt\", 5: (7,7,7), \"info\": {\"name\": \"stive\", \"age\": 15, \"cities\": [\"Moscow\", \"New York\"]}}"
   ]
  },
  {
   "cell_type": "code",
   "execution_count": null,
   "metadata": {},
   "outputs": [],
   "source": [
    "dictionary = {\"Anne\": 15, \"Sam\": 30, \"Marie\": 22} \n",
    "only_keys = dictionary.keys()\n",
    "print(only_keys) \n",
    "# dict_keys([\"Anne\", \"Sam\", \"Marie\"])\n",
    "\n",
    "only_keys = only_keys + [\"Tom\", \"Curt\"] \n",
    "print(only_keys) \n",
    "# TypeError: unsupported operand type(s) for +: 'dict_keys' and 'list'"
   ]
  },
  {
   "cell_type": "markdown",
   "metadata": {},
   "source": [
    "## set"
   ]
  },
  {
   "cell_type": "code",
   "execution_count": null,
   "metadata": {},
   "outputs": [],
   "source": [
    "s1 = set(\"hello\")\n",
    "print (s1) \n",
    "#  {‘h’, ‘l’, ‘e’, ‘o’}"
   ]
  },
  {
   "cell_type": "code",
   "execution_count": null,
   "metadata": {},
   "outputs": [],
   "source": [
    "s1 = {}\n",
    "type(s1) \n",
    "# <class ‘dict’>\n",
    "\n",
    "s2 = {1,2,3}\n",
    "type(s2) \n",
    "# <class ‘set’>"
   ]
  },
  {
   "cell_type": "markdown",
   "metadata": {},
   "source": [
    "add"
   ]
  },
  {
   "cell_type": "code",
   "execution_count": null,
   "metadata": {},
   "outputs": [],
   "source": [
    "s = {1, 2, 3, 4}\n",
    "s.add(5)\n",
    "print (s) \n",
    "# {1, 2, 3, 4, 5}"
   ]
  },
  {
   "cell_type": "markdown",
   "metadata": {},
   "source": [
    "union"
   ]
  },
  {
   "cell_type": "code",
   "execution_count": null,
   "metadata": {},
   "outputs": [],
   "source": [
    "cluster1 = {\"item1\", \"item2\", \"item3\", \"item4\"}\n",
    "cluster2 = {\"item2\", \"item3\", \"item5\", \"item7\"}\n",
    "cluster1.union(cluster2) \n",
    "# {\"item1\", \"item2\", \"item3\", \"item4\", \"item5\", \"item7\"}"
   ]
  },
  {
   "cell_type": "markdown",
   "metadata": {},
   "source": [
    "difference"
   ]
  },
  {
   "cell_type": "code",
   "execution_count": null,
   "metadata": {},
   "outputs": [],
   "source": [
    "cluster1 = {\"item1\", \"item2\", \"item3\", \"item4\", \"item5\"}\n",
    "cluster2 = {\"item3\", \"item4\", \"item5\", \"item6\"}\n",
    "cluster1.difference(cluster2) \n",
    "# {\"item1\", \"item2\"}"
   ]
  },
  {
   "cell_type": "markdown",
   "metadata": {},
   "source": [
    "issubset"
   ]
  },
  {
   "cell_type": "code",
   "execution_count": null,
   "metadata": {},
   "outputs": [],
   "source": [
    "cluster1 = {\"item1\", \"item2\", \"item3\"}\n",
    "cluster2 = {\"item2\", \"item3\", \"item4\", \"item5\", \"item6\"}\n",
    "cluster1.issubset(cluster2) \n",
    "# False"
   ]
  },
  {
   "cell_type": "markdown",
   "metadata": {},
   "source": [
    "## print"
   ]
  },
  {
   "cell_type": "markdown",
   "metadata": {},
   "source": []
  },
  {
   "cell_type": "code",
   "execution_count": null,
   "metadata": {},
   "outputs": [],
   "source": [
    "print(25, 125, 625, sep=', ', end=';' )\n",
    "# Будет напечатано:\n",
    "# 25, 125, 625;"
   ]
  },
  {
   "cell_type": "markdown",
   "metadata": {},
   "source": [
    "## range"
   ]
  },
  {
   "cell_type": "code",
   "execution_count": null,
   "metadata": {},
   "outputs": [],
   "source": [
    "a = range(10) \n",
    "print(a)\n",
    "#range(0, 10)\n",
    "\n",
    "b = list(a)\n",
    "print(b)\n",
    "#[0, 1, 2, 3, 4, 5, 6, 7, 8, 9]\n",
    "\n",
    "print (type(a))\n",
    "#<class 'range'>"
   ]
  },
  {
   "cell_type": "code",
   "execution_count": null,
   "metadata": {},
   "outputs": [],
   "source": [
    "a = range(0, 10, 2) \n",
    "print(a)\n",
    "#range(0, 10, 2)\n",
    "\n",
    "b = list(a)\n",
    "print(b)\n",
    "#[0, 2, 4, 6, 8]"
   ]
  },
  {
   "cell_type": "code",
   "execution_count": null,
   "metadata": {},
   "outputs": [],
   "source": [
    "a = range(10, 1, -1)\n",
    "print(a)\n",
    "#range(10, 1, -1)\n",
    "\n",
    "b = list(a)\n",
    "print(b)\n",
    "#[10, 9, 8, 7, 6, 5, 4, 3, 2]"
   ]
  },
  {
   "cell_type": "markdown",
   "metadata": {},
   "source": [
    "## cycles"
   ]
  },
  {
   "cell_type": "code",
   "execution_count": null,
   "metadata": {},
   "outputs": [],
   "source": [
    "my_list= [5, 9, 19]  # определяем итерируемый объект\n",
    "for element in my_list: # подставляем его в шаблон для цикла и записываем имя переменной, которое будет использовано для каждого элемента этого объекта. В данном случае это element\n",
    "    print('Element', element) # записываем необходимые действия в тело цикла"
   ]
  },
  {
   "cell_type": "code",
   "execution_count": 8,
   "metadata": {},
   "outputs": [
    {
     "name": "stdout",
     "output_type": "stream",
     "text": [
      "Answer: s= 279.0\n"
     ]
    }
   ],
   "source": [
    "incomes = [120, 38.5, 40.5, 80] #список доходов семьи Быковых\n",
    "S = 0 #задаём начальное значение суммы доходов\n",
    "#создаём цикл for, в котором будем проходиться по элементам списка incomes\n",
    "for income in incomes: #income — текущее значение элемента списка\n",
    "    S += income #увеличиваем сумму доходов на значение income, равносильно S = S + income\n",
    "print('Answer: s=', S) #выводим результат "
   ]
  },
  {
   "cell_type": "code",
   "execution_count": 9,
   "metadata": {},
   "outputs": [
    {
     "name": "stdout",
     "output_type": "stream",
     "text": [
      "['b', 'c', 'd', 'e']\n",
      "['c', 'd', 'e']\n",
      "['d', 'e']\n",
      "Result ['d', 'e']\n"
     ]
    }
   ],
   "source": [
    "lst=['a', 'b', 'c', 'd', 'e']\n",
    "#Создаём цикл с условием, что длина списка больше 2\n",
    "while len(lst) > 2:\n",
    "    #Начало блока кода с телом цикла\n",
    "    lst.pop(0) # Обновляем список, удаляя первый элемент в нём\n",
    "    print(lst) # Выводим промежуточный результат\n",
    "    #Конец блока кода с телом цикла\n",
    "#Выводим на экран результирующий список\n",
    "print('Result', lst)"
   ]
  },
  {
   "cell_type": "markdown",
   "metadata": {},
   "source": [
    "## matrix"
   ]
  },
  {
   "cell_type": "code",
   "execution_count": null,
   "metadata": {},
   "outputs": [],
   "source": [
    "temperature = [\n",
    "    [13, 15, 10],\n",
    "    [14, 13, 9],\n",
    "    [8, 9, 6]\n",
    "]\n",
    "\n",
    "print(temperature[1])\n",
    "#[14, 13, 9]\n",
    "print(temperature[1][2])\n",
    "#9"
   ]
  },
  {
   "cell_type": "code",
   "execution_count": null,
   "metadata": {},
   "outputs": [],
   "source": [
    "matrix = [\n",
    "    [1, 2], \n",
    "    [3, 4], \n",
    "    [5, 6]\n",
    "]\n",
    "\n",
    "for row in matrix: #row — текущее значение из списка matrix\n",
    "    print('Current row', row) #выводим содержимое на экран\n",
    "\n",
    "#Current row [1, 2]\n",
    "#Current row [3, 4]\n",
    "#Current row [5, 6]"
   ]
  },
  {
   "cell_type": "code",
   "execution_count": null,
   "metadata": {},
   "outputs": [],
   "source": [
    "matrix = [\n",
    "    [1, 2], \n",
    "    [3, 4], \n",
    "    [5, 6]\n",
    "]\n",
    "#создаём цикл по элементам списка matrix\n",
    "for row in matrix: #row — текущее значение из списка matrix\n",
    "    print('Current row', row) #выводим содержимое на экран\n",
    "    #создаём цикл по элементам списка row\n",
    "    for elem in row: #elem — текущее значение из списка row\n",
    "        print('Current elem', elem)\n",
    "    print() #отделяем вывод на экран пустой строкой"
   ]
  },
  {
   "cell_type": "code",
   "execution_count": null,
   "metadata": {},
   "outputs": [],
   "source": [
    "matrix = [\n",
    "    [1, 2], \n",
    "    [3, 4], \n",
    "    [5, 6]\n",
    "]\n",
    "N = len(matrix) #вычисляем длину внешнего списка\n",
    "M = len(matrix[0]) #вычисляем длину вложенного списка\n",
    "#создаём цикл по последовательности чисел от 0 до N (не включая N)\n",
    "for i in range(N): #i — текущий элемент последовательности (индекс строки)\n",
    "    print('Current i', i) #выводим текущее значение i\n",
    "    print('Current row', matrix[i]) #выводим i-е значение внешнего списка\n",
    "    #создаём цикл по последовательности чисел от 0 до M (не включая M)\n",
    "    for j in range(M):#j — текущий элемент последовательности (индекс столбца)\n",
    "        print('Current j', j) #выводим текущее значение j\n",
    "        print('Current elem', matrix[i][j]) #выводим элемент под индексами i и j\n",
    "    print() #отделяем вывод на экран пустой строкой"
   ]
  },
  {
   "cell_type": "markdown",
   "metadata": {},
   "source": [
    "## function"
   ]
  },
  {
   "cell_type": "code",
   "execution_count": 16,
   "metadata": {},
   "outputs": [
    {
     "name": "stdout",
     "output_type": "stream",
     "text": [
      "(2, 0)\n",
      "2\n",
      "0\n"
     ]
    }
   ],
   "source": [
    "def get_time_tuple(distance, speed):\n",
    "    # Получаем целое число часов в пути\n",
    "    hours = distance // speed\n",
    "    # Получаем остаток км в пути\n",
    "    distance_left = distance % speed\n",
    "    # Переводим скорость из км/ч в км/мин:\n",
    "    # за одну минуту можно проехать расстояние\n",
    "    # в 60 раз меньше, чем за 1 час\n",
    "    kms_per_minute = speed / 60\n",
    "    # Делим оставшееся расстояние на скорость в км/мин.\n",
    "    # и округляем до целого\n",
    "    minutes = round(distance_left / kms_per_minute)\n",
    "    \n",
    "    # Перечисляем аргументы через запятую.\n",
    "    # Они будут возвращены функцией в виде кортежа.\n",
    "    return hours, minutes\n",
    "a = get_time_tuple(2,1)\n",
    "print(a)\n",
    "#(2, 0)\n",
    "\n",
    "a,b = get_time_tuple(2,1)\n",
    "print(a)\n",
    "#2\n",
    "print(b)\n",
    "#0"
   ]
  },
  {
   "cell_type": "code",
   "execution_count": null,
   "metadata": {},
   "outputs": [],
   "source": [
    "# С помощью оператора '=' присвоим\n",
    "# переменной ice значение True по умолчанию\n",
    "def get_cola(ice=True):\n",
    "    if ice == True:\n",
    "        print(\"Cola with ice is ready!\")\n",
    "    else:\n",
    "        print(\"Cola without ice is ready!\")"
   ]
  },
  {
   "cell_type": "markdown",
   "metadata": {},
   "source": [
    "### *args,**kwargs"
   ]
  },
  {
   "cell_type": "code",
   "execution_count": 17,
   "metadata": {},
   "outputs": [
    {
     "name": "stdout",
     "output_type": "stream",
     "text": [
      "(5, 4, 4, 3)\n",
      "<class 'tuple'>\n"
     ]
    }
   ],
   "source": [
    "def argsh(*args):\n",
    "  \n",
    "    result = args\n",
    "    return result\n",
    "\n",
    "print(argsh(5,4,4,3))\n",
    "print(type(argsh(5,4,4,3,)))\n",
    "#(5, 4, 4, 3)\n",
    "#<class 'tuple'>"
   ]
  },
  {
   "cell_type": "code",
   "execution_count": null,
   "metadata": {},
   "outputs": [],
   "source": [
    "# В качестве первого аргумента принимаем фамилию\n",
    "# студента, а затем уже его оценки через запятую\n",
    "def mean_mark(name, *marks):\n",
    "    result = sum(marks) / len(marks)\n",
    "    # Не возвращаем результат, а печатаем его\n",
    "    print(name+':', result)\n",
    " \n",
    "mean_mark(\"Ivanov\", 5, 5, 5, 4)\n",
    "mean_mark(\"Petrov\", 5, 3, 5, 4)\n",
    "# Будет напечатано:\n",
    "# Ivanov: 4.75\n",
    "# Petrov: 4.25"
   ]
  },
  {
   "cell_type": "code",
   "execution_count": null,
   "metadata": {},
   "outputs": [],
   "source": [
    "def schedule(**kwargs):\n",
    "\n",
    "    print(\"Week schedule:\")\n",
    "    for key in kwargs:\n",
    "        print(key, kwargs[key], sep=' - ')\n",
    " \n",
    "schedule(monday='Python', tuesday='SQL', friday='ML')\n",
    "# Будет напечатано:\n",
    "# Week schedule:\n",
    "# monday — Python\n",
    "# tuesday — SQL\n",
    "# friday — ML"
   ]
  },
  {
   "cell_type": "code",
   "execution_count": null,
   "metadata": {},
   "outputs": [],
   "source": [
    "\n",
    "lessons = {\n",
    "    'Wednesday': 'Maths',\n",
    "    'Thursday': 'SQL',\n",
    "    'Friday': 'Statistics'\n",
    "}\n",
    "\n",
    "schedule(**lessons)\n",
    "print()\n",
    "print (*lessons, sep=' xxx ')"
   ]
  },
  {
   "cell_type": "markdown",
   "metadata": {},
   "source": [
    "### isinstance"
   ]
  },
  {
   "cell_type": "code",
   "execution_count": 18,
   "metadata": {},
   "outputs": [
    {
     "name": "stdout",
     "output_type": "stream",
     "text": [
      "True\n",
      "False\n"
     ]
    }
   ],
   "source": [
    "a = 1\n",
    "\n",
    "print(isinstance(a, int))\n",
    "print(isinstance(a, str))"
   ]
  },
  {
   "cell_type": "code",
   "execution_count": null,
   "metadata": {},
   "outputs": [],
   "source": [
    "# В переменную kwargs будут записаны все\n",
    "# именованные аргументы\n",
    "def schedule(**kwargs):\n",
    "    # kwargs — это словарь, проверим это с помощью isinstance:\n",
    "    print(isinstance(kwargs, dict))\n",
    "    # Напечатаем объект kwargs\n",
    "    print(kwargs)\n",
    " \n",
    "schedule(monday='Python', tuesday='SQL', friday='ML')\n",
    "# Будет напечатано:\n",
    "# True\n",
    "# {'monday': 'Python', 'tuesday': 'SQL', 'friday': 'ML'}"
   ]
  },
  {
   "cell_type": "markdown",
   "metadata": {},
   "source": [
    "## lambda"
   ]
  },
  {
   "cell_type": "code",
   "execution_count": 22,
   "metadata": {},
   "outputs": [
    {
     "name": "stdout",
     "output_type": "stream",
     "text": [
      "4.0\n",
      "4.0\n"
     ]
    }
   ],
   "source": [
    "def root(num,n=2):\n",
    "    return num ** (1/n)\n",
    "\n",
    "root = lambda num: num**(1/2)\n",
    "print (root(16))\n",
    "#4.0\n",
    "\n",
    "nth_root = lambda num, n=2: num**(1/n)\n",
    "print(nth_root(16))\n",
    "# Будет напечатано:\n",
    "# 4.0"
   ]
  },
  {
   "cell_type": "code",
   "execution_count": null,
   "metadata": {},
   "outputs": [],
   "source": [
    "is_even = lambda num: \"even\" if num % 2 == 0 else \"odd\"\n",
    "    \n",
    "print (is_even(16))\n",
    "#even"
   ]
  },
  {
   "cell_type": "code",
   "execution_count": null,
   "metadata": {},
   "outputs": [],
   "source": [
    "func_args = lambda *args: args\n",
    " \n",
    "print(func_args(1,4,6,7))\n",
    "# Будет напечатано:\n",
    "# (1, 4, 6, 7)"
   ]
  },
  {
   "cell_type": "code",
   "execution_count": null,
   "metadata": {},
   "outputs": [],
   "source": [
    "scary_func = lambda num: 'divided by 2 and 3'\\\n",
    "    if num % 6 == 0 \\\n",
    "    else 'divided by 2' if num % 2 == 0 \\\n",
    "    else 'divided by 3' if num % 3 == 0 \\\n",
    "    else 'not divided by 2 nor 3'"
   ]
  },
  {
   "cell_type": "code",
   "execution_count": 23,
   "metadata": {},
   "outputs": [
    {
     "name": "stdout",
     "output_type": "stream",
     "text": [
      "['Kim', 'Ivan', 'Simon', 'German', 'Margarita']\n"
     ]
    }
   ],
   "source": [
    "names = ['Ivan', 'Kim', 'German', 'Margarita', 'Simon']\n",
    "\n",
    "names.sort(key=lambda name: len(name))\n",
    "print(names)"
   ]
  },
  {
   "cell_type": "code",
   "execution_count": null,
   "metadata": {},
   "outputs": [],
   "source": [
    "new_list = ['bbb', 'ababa','aaa', 'aaaaa',  'cc']\n",
    "\n",
    "new_list.sort(key=lambda word: (len(word), word))\n",
    "print(new_list)\n",
    "# Будет напечатано:\n",
    "# ['cc', 'aaa', 'bbb', 'aaaaa', 'ababa']"
   ]
  },
  {
   "cell_type": "code",
   "execution_count": 27,
   "metadata": {},
   "outputs": [
    {
     "data": {
      "text/plain": [
       "('Ivan', 1)"
      ]
     },
     "execution_count": 27,
     "metadata": {},
     "output_type": "execute_result"
    }
   ],
   "source": [
    "names = 'Ivan'\n",
    "count_a = lambda x: (x, x.upper().count('A'))\n",
    "count_a(names)\n",
    "#('Ivan', 1)"
   ]
  },
  {
   "cell_type": "markdown",
   "metadata": {},
   "source": [
    "## decorators"
   ]
  },
  {
   "cell_type": "code",
   "execution_count": 1,
   "metadata": {},
   "outputs": [],
   "source": [
    "# Декорирующая функция принимает в качестве\n",
    "# аргумента название функции\n",
    "def simple_decorator(func):\n",
    " \n",
    "    # Функция, в которой происходит модификация поведения\n",
    "    # функции func. Она будет принимать те же аргументы,\n",
    "    # что и функция func, которую декорирует decorated_function.\n",
    "    # Чтобы принять все возможные аргументы, используем сочетание\n",
    "    # *args и *kwargs.\n",
    "    def decorated_function(*args, **kwargs):\n",
    "        # Печатаем принятые аргументы\n",
    "        print(\"Input:\")\n",
    "        print(\"Positional:\", args)\n",
    "        print(\"Named:\", kwargs)\n",
    "        # С помощью конструкции *args/**kwargs\n",
    "        # считаем результат выполнения функции func\n",
    "        result = func(*args, **kwargs)\n",
    "        # Печатаем результат выполнения функции\n",
    "        print(\"Result:\", result)\n",
    "        # Не забываем вернуть результат, чтобы\n",
    "        # не повлиять на поведение декорируемой функции!\n",
    "        return result\n",
    "    # Внешняя функция возвращает функцию\n",
    "    # decorated_function\n",
    "    return decorated_function"
   ]
  },
  {
   "cell_type": "code",
   "execution_count": 2,
   "metadata": {},
   "outputs": [
    {
     "name": "stdout",
     "output_type": "stream",
     "text": [
      "<class 'function'>\n",
      "Input:\n",
      "Positional: (625, 4)\n",
      "Named: {}\n",
      "Result: 5.0\n",
      "5.0\n"
     ]
    }
   ],
   "source": [
    "def root(value, n=2):\n",
    "    result = value ** (1/n)\n",
    "    return result\n",
    "# Декорируем функцию root с помощью функции simple_decorator\n",
    "decorated_root = simple_decorator(root)\n",
    "# В decorated_root теперь действительно хранится функция\n",
    "print(type(decorated_root))\n",
    "# Будет напечатано:\n",
    "# <class 'function'>\n",
    "\n",
    "print(decorated_root(625, 4))"
   ]
  },
  {
   "cell_type": "code",
   "execution_count": 6,
   "metadata": {},
   "outputs": [
    {
     "name": "stdout",
     "output_type": "stream",
     "text": [
      "Input:\n",
      "Positional: (625,)\n",
      "Named: {}\n",
      "Result: 25.0\n",
      "25.0\n",
      "Input:\n",
      "Positional: (625,)\n",
      "Named: {}\n",
      "Result: 25.0\n",
      "25.0\n"
     ]
    }
   ],
   "source": [
    "@simple_decorator\n",
    "def root(value, n=2):\n",
    "    result = value ** (1/n)\n",
    "    return result\n",
    "\n",
    "print(root(625))\n",
    "\n",
    "# Будет напечатано:\n",
    "# Input:\n",
    "# Positional: (625,)\n",
    "# Named: {}\n",
    "# Result: 25.0\n",
    "# 25.0"
   ]
  },
  {
   "cell_type": "markdown",
   "metadata": {},
   "source": [
    "## try: except"
   ]
  },
  {
   "cell_type": "code",
   "execution_count": null,
   "metadata": {},
   "outputs": [],
   "source": [
    "def division(a, b):\n",
    "    try:\n",
    "        c = a / b\n",
    "    except ZeroDivisionError:\n",
    "        print(\"Zero division error!\")\n",
    "        return\n",
    "    return c\n",
    "\n",
    "print(division(1, 0))\n",
    "print(division(1, 1))"
   ]
  },
  {
   "cell_type": "markdown",
   "metadata": {},
   "source": [
    "https://docs.python.org/3/library/exceptions.html"
   ]
  },
  {
   "cell_type": "markdown",
   "metadata": {},
   "source": [
    "try:\n",
    "\n",
    "    *ваш код*\n",
    "\n",
    "except Ошибка:\n",
    "\n",
    "    *Код отлова*\n",
    "\n",
    "else:\n",
    "\n",
    "    *Код, который выполнится если всё хорошо прошло в блоке try*\n",
    "\n",
    "finally:\n",
    "\n",
    "    *Код, который выполнится по любому*"
   ]
  },
  {
   "cell_type": "markdown",
   "metadata": {},
   "source": [
    "## Scope of variables"
   ]
  },
  {
   "cell_type": "code",
   "execution_count": null,
   "metadata": {},
   "outputs": [],
   "source": [
    "global_counter = 0\n",
    " \n",
    "def add_one():\n",
    "    # Обозначим, что переменная global_counter\n",
    "    # является глобальной\n",
    "    global global_counter\n",
    "    global_counter += 1\n",
    " \n",
    "add_one()\n",
    "print(global_counter)\n",
    " \n",
    "# Будет напечатано:\n",
    "# 1"
   ]
  },
  {
   "cell_type": "code",
   "execution_count": null,
   "metadata": {},
   "outputs": [],
   "source": [
    "# Внешняя функция\n",
    "def outer_function():\n",
    "    # Создадим переменную, относящуюся к внешней функции\n",
    "    enclosing_counter = 0\n",
    "    # Внутренняя функция\n",
    "    def inner_function():\n",
    "        # Прибавим 1 к enclosing_counter\n",
    "        enclosing_counter += 1\n",
    "        # Напечатаем значение enclosing_counter\n",
    "        print(enclosing_counter)\n",
    "    # Запустим внутреннюю функцию из внешней\n",
    "    inner_function()\n",
    " \n",
    "# Запустим внешнюю функцию\n",
    "outer_function()\n",
    " \n",
    "# Возникнет ошибка:\n",
    "# UnboundLocalError: local variable 'enclosing_counter' referenced before assignment"
   ]
  },
  {
   "cell_type": "code",
   "execution_count": null,
   "metadata": {},
   "outputs": [],
   "source": [
    "def outer_function():\n",
    "    enclosing_counter = 0\n",
    "    def inner_function():\n",
    "        # С помощью оператора nonlocal покажем,\n",
    "        # что переменная enclosing_counter находится\n",
    "        # во внешней функции\n",
    "        nonlocal enclosing_counter\n",
    "        enclosing_counter += 1\n",
    "        print(enclosing_counter)\n",
    "    inner_function()\n",
    " \n",
    "outer_function()\n",
    " \n",
    "# Будет напечатано:\n",
    "# 1"
   ]
  },
  {
   "cell_type": "markdown",
   "metadata": {},
   "source": [
    "## Recursion"
   ]
  },
  {
   "cell_type": "code",
   "execution_count": null,
   "metadata": {},
   "outputs": [],
   "source": [
    "def sum_lst(lst):\n",
    "    # Выводим текущее значение lst\n",
    "    print(lst)\n",
    "    # Задаём условие выхода из рекурсии\n",
    "    if len(lst) == 0:return 0\n",
    "    # Во всех других случаях возвращаем\n",
    "    # сумму первого элемента списка \n",
    "    # и результат суммирования оставшихся\n",
    "    return lst[0] + sum_lst(lst[1:])\n",
    " \n",
    "my_lst = [10, 21, 24, 12]\n",
    "print(sum_lst(my_lst))\n",
    "\n",
    "\n",
    "#Будет выведено\n",
    "#[10, 21, 24, 12]\n",
    "#[21, 24, 12]\n",
    "#[24, 12]\n",
    "#[12]\n",
    "#[]\n",
    "#Result 67"
   ]
  },
  {
   "cell_type": "code",
   "execution_count": null,
   "metadata": {},
   "outputs": [],
   "source": [
    "def factorial(n):\n",
    "    # Задаём условия выхода из рекурсии:\n",
    "    if n==0: return 1\n",
    "    if n==1: return 1\n",
    "    # Во всех других случаях возвращаем\n",
    "    # произведение текущего числа n и функции от n-1\n",
    "    return factorial(n-1)*n"
   ]
  },
  {
   "cell_type": "code",
   "execution_count": null,
   "metadata": {},
   "outputs": [],
   "source": [
    "# Числа стали слишком большими, чтобы их печатать\n",
    "# Будем печатать число цифр в результате\n",
    "print(len(str(factorial(969))))\n",
    "\n",
    "print(len(str(factorial(970))))\n",
    "# Возникнет ошибка:\n",
    "# RecursionError: maximum recursion depth exceeded in comparison"
   ]
  },
  {
   "cell_type": "code",
   "execution_count": null,
   "metadata": {},
   "outputs": [],
   "source": [
    "# Импортируем модуль для работы с системными переменными\n",
    "import sys\n",
    "# Увеличим глубину рекурсии\n",
    "sys.setrecursionlimit(1000000000)\n",
    "print(len(str(factorial(970))))\n",
    "# Будет напечатано:\n",
    "# 2478"
   ]
  },
  {
   "cell_type": "markdown",
   "metadata": {},
   "source": [
    "Recursion https://pythonist.ru/primery-programm-s-ispolzovaniem-rekursii-na-yazyke-python/"
   ]
  },
  {
   "cell_type": "markdown",
   "metadata": {},
   "source": [
    "## enumerate"
   ]
  },
  {
   "cell_type": "code",
   "execution_count": 1,
   "metadata": {},
   "outputs": [
    {
     "name": "stdout",
     "output_type": "stream",
     "text": [
      "0: admin\n",
      "1: guest\n",
      "2: root\n",
      "3: anonymous\n"
     ]
    }
   ],
   "source": [
    "users = ['admin', 'guest', 'root', 'anonymous']\n",
    "# Создаём цикл по элементам и индексам списка users\n",
    "for i, user in enumerate(users):\n",
    "    # Выводим индекс и элемент на экран через двоеточие\n",
    "    print(i, user, sep=': ')\n",
    "# Будет напечатано:\n",
    "# 0: admin\n",
    "# 1: guest\n",
    "# 2: root\n",
    "# 3: anonymous"
   ]
  },
  {
   "cell_type": "code",
   "execution_count": null,
   "metadata": {},
   "outputs": [],
   "source": [
    "users = ['admin', 'guest', 'root', 'anonymous']\n",
    "# Создаём цикл по элементам и индексам списка users\n",
    "user=enumerate(users)\n",
    "print(next(user))\n",
    "print(next(user))\n",
    "print(next(user))\n",
    "print(next(user))\n",
    "print(next(user))\n",
    "\n",
    "#(0, 'admin')\n",
    "#(1, 'guest')\n",
    "#(2, 'root')\n",
    "#(3, 'anonymous')\n",
    "#StopIteration"
   ]
  },
  {
   "cell_type": "code",
   "execution_count": null,
   "metadata": {},
   "outputs": [],
   "source": [
    "users = ['admin', 'guest', 'root', 'anonymous']\n",
    "\n",
    "# Создаём итератор enumerate из списка users\n",
    "enum_users = enumerate(users)\n",
    "# Получаем список из объекта enumerate\n",
    "enum_list = list(enum_users)\n",
    "print(enum_list)\n",
    "# Будет напечатано:\n",
    "# [(0, 'admin'), (1, 'guest'), (2, 'root'), (3, 'anonymous')]"
   ]
  },
  {
   "cell_type": "markdown",
   "metadata": {},
   "source": [
    "## Iterators"
   ]
  },
  {
   "cell_type": "code",
   "execution_count": null,
   "metadata": {},
   "outputs": [],
   "source": [
    "new_list = [12, 14, 16]\n",
    "print(new_list)\n",
    "# Будет напечатано:\n",
    "# [12, 14, 16]\n",
    "iter_list = iter(new_list)\n",
    "print(next(iter_list))\n",
    "print(next(iter_list))\n",
    "print(next(iter_list))\n",
    "print(next(iter_list))\n",
    "# Будет напечатано:\n",
    "# 12\n",
    "# 14\n",
    "# 16\n",
    "# StopIteration:"
   ]
  },
  {
   "cell_type": "code",
   "execution_count": null,
   "metadata": {},
   "outputs": [],
   "source": [
    "users = ['admin', 'guest', 'root', 'anonymous']\n",
    "iter_users = iter(users)\n",
    "\n",
    "# Создаём бесконечный цикл while\n",
    "while True:\n",
    "    # Создаём блок обработки исключений\n",
    "    try:\n",
    "        # Выводим следующий объект из итератора\n",
    "        print(next(iter_users))\n",
    "   # Отлавливаем исключение StopIteration\n",
    "    except StopIteration:\n",
    "        # Когда возникает исключение, выводим фразу на экран\n",
    "        print(\"User list is over!\")\n",
    "        # Завершаем цикл\n",
    "        break\n",
    " \n",
    "# Будет напечатано:\n",
    "# admin\n",
    "# guest\n",
    "# root\n",
    "# anonymous\n",
    "# User list is over!"
   ]
  },
  {
   "cell_type": "code",
   "execution_count": null,
   "metadata": {},
   "outputs": [],
   "source": [
    "users = ['admin', 'guest', 'root', 'anonymous']\n",
    "iter_users = iter(users)\n",
    "\n",
    "# Создаём цикл for по объектам из итератора\n",
    "for user in iter_users:\n",
    "    # Выводим текущий элемент на экран\n",
    "    print(user)\n",
    " \n",
    "# Будет напечатано:\n",
    "# admin\n",
    "# guest\n",
    "# root\n",
    "# anonymous"
   ]
  },
  {
   "cell_type": "code",
   "execution_count": null,
   "metadata": {},
   "outputs": [],
   "source": [
    "users = ['admin', 'guest', 'root', 'anonymous']\n",
    "\n",
    "# Создаём итератор enumerate из списка users\n",
    "enum_users = enumerate(users)\n",
    "# Получаем список из объекта enumerate\n",
    "enum_list = list(enum_users)\n",
    "print(enum_list)\n",
    "# Будет напечатано:\n",
    "# [(0, 'admin'), (1, 'guest'), (2, 'root'), (3, 'anonymous')]"
   ]
  },
  {
   "cell_type": "markdown",
   "metadata": {},
   "source": [
    "## generators"
   ]
  },
  {
   "cell_type": "code",
   "execution_count": 4,
   "metadata": {},
   "outputs": [
    {
     "name": "stdout",
     "output_type": "stream",
     "text": [
      "<generator object deposit at 0x000001FBFBF5E5F0>\n",
      "1050.0\n",
      "1102.5\n",
      "1157.62\n",
      "1215.5\n",
      "1276.28\n"
     ]
    }
   ],
   "source": [
    "# Объявляем функцию для расчёта суммы вклада\n",
    "def deposit(money, interest):\n",
    "    # Процент по вкладу преобразуем во множитель:\n",
    "    # делим процент на 100 и прибавляем 1\n",
    "    interest = interest/100 + 1\n",
    "    # Создаем бесконечный цикл\n",
    "    while True:\n",
    "        # Сумма вклада через год — это\n",
    "        # текущая сумма, умноженная на коэффициент и\n",
    "        # округлённая до двух знаков после запятой\n",
    "        money = round(interest * money, 2)\n",
    "        # Выдаём полученную сумму вклада\n",
    "        yield money\n",
    "        \n",
    "print(deposit(1000, 5))\n",
    "#generator object deposit at 0x0000025DAA415270\n",
    "bank = deposit(1000, 5)\n",
    "print(next(bank)) # Запускаем генератор bank в первый раз\n",
    "print(next(bank)) # Запускаем генератор bank во второй раз\n",
    "print(next(bank)) # Запускаем генератор bank в третий раз\n",
    "# Будет напечатано:\n",
    "# 1050.0\n",
    "# 1102.5\n",
    "# 1157.62\n",
    "\n"
   ]
  },
  {
   "cell_type": "code",
   "execution_count": null,
   "metadata": {},
   "outputs": [],
   "source": [
    "\n",
    "\n",
    "# Объявляем функцию для расчёта суммы вклада\n",
    "# Аргумент years принимает число лет, на которое рассчитан вклад\n",
    "def deposit_years(money, interest, years):\n",
    "    interest = interest/100 + 1\n",
    "    # Вместо while используем цикл for с range\n",
    "    for year in range(years):\n",
    "        money = round(interest * money, 2)\n",
    "        # Выдаём полученную сумму вклада\n",
    "        yield money\n",
    "\n",
    "bank2 = deposit_years(1500, 3, 2)\n",
    "print(next(bank2))\n",
    "print(next(bank2))\n",
    "print(next(bank2))\n",
    "# Будет напечатано:\n",
    "# 1545.0\n",
    "# 1591.35\n",
    "# StopIteration:\n",
    "\n",
    "bank3 = deposit_years(10000, 10, 3)\n",
    "for money in bank3:\n",
    "    print(money)\n",
    "# Будет напечатано:\n",
    "# 11000.0\n",
    "# 12100.0\n",
    "# 13310.0"
   ]
  },
  {
   "cell_type": "code",
   "execution_count": null,
   "metadata": {},
   "outputs": [],
   "source": [
    "# Создаём сокращённую форму генератора квадратов\n",
    "squares_generator = (x**2 for x in range(1, 11))\n",
    "print(type(squares_generator))\n",
    "print(squares_generator)\n",
    "# Будет напечатано:\n",
    "# <class 'generator'>\n",
    "# <generator object <genexpr> at 0x7fc9aeab61d0>"
   ]
  },
  {
   "cell_type": "code",
   "execution_count": null,
   "metadata": {},
   "outputs": [],
   "source": [
    "# Создаём генератор списка кубов чисел, которые делятся на 3\n",
    "triple_cubes_list = [x**3 for x in range(1,16) if x % 3 == 0]\n",
    "print(type(triple_cubes_list))\n",
    "print(triple_cubes_list)\n",
    "# Будет напечатано:\n",
    "# <class 'list'>\n",
    "# [27, 216, 729, 1728, 3375]"
   ]
  },
  {
   "cell_type": "code",
   "execution_count": null,
   "metadata": {},
   "outputs": [],
   "source": [
    "# Создаём генератор множества кубов чисел, которые делятся на 3\n",
    "triple_cubes_set = {x**3 for x in range(1,16) if x % 3 == 0}\n",
    "print(type(triple_cubes_set))\n",
    "print(triple_cubes_set)\n",
    "# Будет напечатано:\n",
    "# <class 'set'>\n",
    "# {1728, 3375, 216, 729, 27}"
   ]
  },
  {
   "cell_type": "markdown",
   "metadata": {},
   "source": [
    "## map"
   ]
  },
  {
   "cell_type": "code",
   "execution_count": null,
   "metadata": {},
   "outputs": [],
   "source": [
    "print(list(str(123456789)))\n",
    "# ['1', '2', '3', '4', '5', '6', '7', '8', '9']\n",
    "print(list(map(int, ['1', '2', '3', '4', '5', '6', '7', '8', '9'])))\n",
    "# [1, 2, 3, 4, 5, 6, 7, 8, 9]"
   ]
  },
  {
   "cell_type": "code",
   "execution_count": 6,
   "metadata": {},
   "outputs": [
    {
     "name": "stdout",
     "output_type": "stream",
     "text": [
      "[4, 6, 5, 9, 8, 3]\n"
     ]
    }
   ],
   "source": [
    "names = ['Ivan', 'Nikita', 'Simon', 'Margarita', 'Vasilisa', 'Kim']\n",
    "\n",
    "def get_length(word):\n",
    "    return len(word)\n",
    "\n",
    "map(get_length,names)\n",
    "\n",
    "lens_list = list(map(get_length, names))\n",
    "print (lens_list)\n",
    "#[4, 6, 5, 9, 8, 3]"
   ]
  },
  {
   "cell_type": "code",
   "execution_count": 9,
   "metadata": {},
   "outputs": [
    {
     "name": "stdout",
     "output_type": "stream",
     "text": [
      "4\n",
      "6\n",
      "5\n"
     ]
    }
   ],
   "source": [
    "names = ['Ivan', 'Nikita', 'Simon', 'Margarita', 'Vasilisa', 'Kim']\n",
    "\n",
    "def get_length(word):\n",
    "    return len(word)\n",
    "\n",
    "lens=map(get_length,names)\n",
    "print(next(lens))\n",
    "print(next(lens))\n",
    "print(next(lens))\n",
    "\n",
    "#4\n",
    "#6\n",
    "#5"
   ]
  },
  {
   "cell_type": "code",
   "execution_count": null,
   "metadata": {},
   "outputs": [],
   "source": [
    "lens = list(map(lambda x: len(x), names))\n",
    "print(lens)\n",
    "\n",
    "# [4, 6, 5, 9, 8, 3]"
   ]
  },
  {
   "cell_type": "markdown",
   "metadata": {},
   "source": [
    "## filter"
   ]
  },
  {
   "cell_type": "code",
   "execution_count": 12,
   "metadata": {},
   "outputs": [
    {
     "name": "stdout",
     "output_type": "stream",
     "text": [
      "[4, 6, 8]\n"
     ]
    }
   ],
   "source": [
    "# Объявляем функцию для проверки чётности числа\n",
    "def is_even(num):\n",
    "    if num % 2 == 0:\n",
    "        return True\n",
    "    return False\n",
    "\n",
    "\n",
    "lens_list = [4, 6, 5, 9, 8, 3]\n",
    "# Применяем функцию is_even к каждому элементу списка\n",
    "even = filter(is_even, lens_list)\n",
    "\n",
    "print(list(even))\n",
    "# [4, 6, 8]"
   ]
  },
  {
   "cell_type": "code",
   "execution_count": 13,
   "metadata": {},
   "outputs": [
    {
     "name": "stdout",
     "output_type": "stream",
     "text": [
      "[4, 6, 8]\n"
     ]
    }
   ],
   "source": [
    "lens_list = [4, 6, 5, 9, 8, 3] \n",
    "# Применяем lambda-функцию к каждому элементу списка\n",
    "even = filter(lambda x: x % 2 == 0, lens_list)\n",
    "print(list(even))\n",
    "# Будет напечатано:\n",
    "# [4, 6, 8]"
   ]
  },
  {
   "cell_type": "code",
   "execution_count": null,
   "metadata": {},
   "outputs": [],
   "source": [
    "names = ['Ivan', 'Nikita', 'Simon', 'Margarita', 'Vasilisa', 'Kim']\n",
    "# Отбираем имена из пяти и более букв\n",
    "long_names = filter(lambda x: len(x) >= 5, names)\n",
    "# Все отобранные имена переводим в верхний регистр и считаем число букв А в них\n",
    "# Результат сохраняем в виде кортежа (имя, число букв \"A\")\n",
    "count_a = map(lambda x: (x, x.upper().count('A')), long_names)\n",
    "# Переводим объект map в list и печатаем его\n",
    "print(list(count_a))\n",
    " \n",
    "# Будет напечатано:\n",
    "# [('Nikita', 1), ('Simon', 0), ('Margarita', 3), ('Vasilisa', 2)]"
   ]
  },
  {
   "cell_type": "markdown",
   "metadata": {},
   "source": [
    "## zip"
   ]
  },
  {
   "cell_type": "code",
   "execution_count": null,
   "metadata": {},
   "outputs": [],
   "source": [
    "surnames = ['Ivanov', 'Smirnov', 'Kuznetsova', 'Nikitina']\n",
    "names = ['Sergej', 'Ivan', 'Maria', 'Elena']\n",
    "# Создаём цикл по элементам итератора zip — кортежам из фамилий и имён\n",
    "for surname, name in zip(surnames, names):\n",
    "    print(surname, name)\n",
    "# Будет напечатано:\n",
    "# Ivanov Sergej\n",
    "# Smirnov Ivan\n",
    "# Kuznetsova Maria\n",
    "# Nikitina Elena"
   ]
  },
  {
   "cell_type": "code",
   "execution_count": null,
   "metadata": {},
   "outputs": [],
   "source": [
    "surnames = ['Ivanov', 'Smirnov', 'Kuznetsova', 'Nikitina']\n",
    "names = ['Sergej', 'Ivan']\n",
    "\n",
    "for surname, name in zip(surnames, names):\n",
    "    print(surname, name)\n",
    " \n",
    "# Будет напечатано:\n",
    "# Ivanov Sergej\n",
    "# Smirnov Ivan"
   ]
  },
  {
   "cell_type": "markdown",
   "metadata": {},
   "source": [
    "## reduce"
   ]
  },
  {
   "cell_type": "code",
   "execution_count": null,
   "metadata": {},
   "outputs": [],
   "source": [
    "# Импортируем модуль functools\n",
    "from functools import reduce\n",
    "\n",
    "iterable = list(range(1, 6))\n",
    "# Применяем lambda-функцию для вычисления к произведения к списку\n",
    "reduced = reduce(lambda x,y: x*y, iterable)\n",
    "print(reduced)\n",
    "\n",
    "# ((((1*2)*3)*4)*5) = 120\n",
    "# 120"
   ]
  }
 ],
 "metadata": {
  "kernelspec": {
   "display_name": "Python 3.9.13 64-bit",
   "language": "python",
   "name": "python3"
  },
  "language_info": {
   "codemirror_mode": {
    "name": "ipython",
    "version": 3
   },
   "file_extension": ".py",
   "mimetype": "text/x-python",
   "name": "python",
   "nbconvert_exporter": "python",
   "pygments_lexer": "ipython3",
   "version": "3.9.13 (tags/v3.9.13:6de2ca5, May 17 2022, 16:36:42) [MSC v.1929 64 bit (AMD64)]"
  },
  "orig_nbformat": 4,
  "vscode": {
   "interpreter": {
    "hash": "548c83946ac6174562a34cd30bb3bf23deaa49d6c7797d22dea96cb05ee08127"
   }
  }
 },
 "nbformat": 4,
 "nbformat_minor": 2
}
